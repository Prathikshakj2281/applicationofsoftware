{
 "cells": [
  {
   "cell_type": "code",
   "execution_count": 1,
   "id": "4ef0a2e3",
   "metadata": {},
   "outputs": [],
   "source": [
    "import pandas as pd\n",
    "import seaborn as sns\n",
    "import os\n",
    "import numpy as np\n",
    "import matplotlib.pyplot as plt"
   ]
  },
  {
   "cell_type": "code",
   "execution_count": 2,
   "id": "6c92a59b",
   "metadata": {},
   "outputs": [],
   "source": [
    "os.chdir('C:\\Application of Software')"
   ]
  },
  {
   "cell_type": "code",
   "execution_count": 3,
   "id": "709055e3",
   "metadata": {},
   "outputs": [
    {
     "data": {
      "text/plain": [
       "'C:\\\\Application of Software'"
      ]
     },
     "execution_count": 3,
     "metadata": {},
     "output_type": "execute_result"
    }
   ],
   "source": [
    "os.getcwd()"
   ]
  },
  {
   "cell_type": "code",
   "execution_count": 7,
   "id": "3841469e",
   "metadata": {},
   "outputs": [
    {
     "data": {
      "text/plain": [
       "<pandas.io.excel._base.ExcelFile at 0x2063d094210>"
      ]
     },
     "execution_count": 7,
     "metadata": {},
     "output_type": "execute_result"
    }
   ],
   "source": [
    "RM = pd.ExcelFile('Exhibit+2.xlsx')\n",
    "RM"
   ]
  },
  {
   "cell_type": "code",
   "execution_count": 9,
   "id": "4a3a5c7c",
   "metadata": {},
   "outputs": [],
   "source": [
    "Rmodel = pd.read_excel(RM, 'Rocinante Models')\n",
    "Mmodel= pd.read_excel(RM, 'Marengo Models')"
   ]
  },
  {
   "cell_type": "code",
   "execution_count": 10,
   "id": "ccd4b418",
   "metadata": {},
   "outputs": [
    {
     "data": {
      "text/html": [
       "<div>\n",
       "<style scoped>\n",
       "    .dataframe tbody tr th:only-of-type {\n",
       "        vertical-align: middle;\n",
       "    }\n",
       "\n",
       "    .dataframe tbody tr th {\n",
       "        vertical-align: top;\n",
       "    }\n",
       "\n",
       "    .dataframe thead th {\n",
       "        text-align: right;\n",
       "    }\n",
       "</style>\n",
       "<table border=\"1\" class=\"dataframe\">\n",
       "  <thead>\n",
       "    <tr style=\"text-align: right;\">\n",
       "      <th></th>\n",
       "      <th>Cars</th>\n",
       "      <th>Sales \\n(in 1,000 units)</th>\n",
       "      <th>Price\\n(in lakh rupees)</th>\n",
       "      <th>Mileage\\n(Km/ltr)</th>\n",
       "      <th>Top speed (Km/hr)</th>\n",
       "    </tr>\n",
       "  </thead>\n",
       "  <tbody>\n",
       "    <tr>\n",
       "      <th>0</th>\n",
       "      <td>Rocinante 1</td>\n",
       "      <td>171.877</td>\n",
       "      <td>6.1</td>\n",
       "      <td>15.8</td>\n",
       "      <td>168.2</td>\n",
       "    </tr>\n",
       "    <tr>\n",
       "      <th>1</th>\n",
       "      <td>Rocinante 2</td>\n",
       "      <td>139.796</td>\n",
       "      <td>6.1</td>\n",
       "      <td>12.1</td>\n",
       "      <td>149.6</td>\n",
       "    </tr>\n",
       "    <tr>\n",
       "      <th>2</th>\n",
       "      <td>Rocinante 3</td>\n",
       "      <td>178.947</td>\n",
       "      <td>9.9</td>\n",
       "      <td>17.0</td>\n",
       "      <td>173.4</td>\n",
       "    </tr>\n",
       "    <tr>\n",
       "      <th>3</th>\n",
       "      <td>Rocinante 4</td>\n",
       "      <td>140.022</td>\n",
       "      <td>5.8</td>\n",
       "      <td>11.6</td>\n",
       "      <td>170.6</td>\n",
       "    </tr>\n",
       "    <tr>\n",
       "      <th>4</th>\n",
       "      <td>Rocinante 5</td>\n",
       "      <td>186.476</td>\n",
       "      <td>10.0</td>\n",
       "      <td>17.2</td>\n",
       "      <td>175.0</td>\n",
       "    </tr>\n",
       "  </tbody>\n",
       "</table>\n",
       "</div>"
      ],
      "text/plain": [
       "          Cars  Sales \\n(in 1,000 units)  Price\\n(in lakh rupees)  \\\n",
       "0  Rocinante 1                   171.877                      6.1   \n",
       "1  Rocinante 2                   139.796                      6.1   \n",
       "2  Rocinante 3                   178.947                      9.9   \n",
       "3  Rocinante 4                   140.022                      5.8   \n",
       "4  Rocinante 5                   186.476                     10.0   \n",
       "\n",
       "   Mileage\\n(Km/ltr)  Top speed (Km/hr)  \n",
       "0               15.8              168.2  \n",
       "1               12.1              149.6  \n",
       "2               17.0              173.4  \n",
       "3               11.6              170.6  \n",
       "4               17.2              175.0  "
      ]
     },
     "execution_count": 10,
     "metadata": {},
     "output_type": "execute_result"
    }
   ],
   "source": [
    "Rmodel.head()"
   ]
  },
  {
   "cell_type": "code",
   "execution_count": 15,
   "id": "6d9e86b6",
   "metadata": {},
   "outputs": [],
   "source": [
    "y = Rmodel['Sales \\n(in 1,000 units)']\n",
    "x = Rmodel[['Price\\n(in lakh rupees)','Mileage\\n(Km/ltr)','Top speed (Km/hr)']]"
   ]
  },
  {
   "cell_type": "code",
   "execution_count": 16,
   "id": "8e5f63fa",
   "metadata": {},
   "outputs": [],
   "source": [
    "from sklearn.model_selection import train_test_split"
   ]
  },
  {
   "cell_type": "markdown",
   "id": "5ceddde8",
   "metadata": {},
   "source": [
    "## Splitting the data into train and test set(70 :30)"
   ]
  },
  {
   "cell_type": "code",
   "execution_count": 17,
   "id": "515813d4",
   "metadata": {},
   "outputs": [],
   "source": [
    "X_train, X_test, y_train, y_test = train_test_split(X, y, test_size=0.3, random_state=42)"
   ]
  },
  {
   "cell_type": "code",
   "execution_count": 18,
   "id": "ea724a5e",
   "metadata": {},
   "outputs": [
    {
     "data": {
      "text/plain": [
       "((35, 3), (24, 3), (11, 3))"
      ]
     },
     "execution_count": 18,
     "metadata": {},
     "output_type": "execute_result"
    }
   ],
   "source": [
    " x.shape, X_train.shape, X_test.shape"
   ]
  },
  {
   "cell_type": "code",
   "execution_count": 20,
   "id": "77c2e349",
   "metadata": {},
   "outputs": [],
   "source": [
    "from sklearn.model_selection import train_test_split\n",
    "from sklearn.linear_model import LinearRegression\n",
    "from sklearn.metrics import mean_squared_error\n",
    "import numpy as np"
   ]
  },
  {
   "cell_type": "markdown",
   "id": "7d18ac8d",
   "metadata": {},
   "source": [
    "## Fitting it into Leniar Regression model"
   ]
  },
  {
   "cell_type": "code",
   "execution_count": 41,
   "id": "cbfb65aa",
   "metadata": {},
   "outputs": [
    {
     "data": {
      "text/html": [
       "<style>#sk-container-id-3 {color: black;}#sk-container-id-3 pre{padding: 0;}#sk-container-id-3 div.sk-toggleable {background-color: white;}#sk-container-id-3 label.sk-toggleable__label {cursor: pointer;display: block;width: 100%;margin-bottom: 0;padding: 0.3em;box-sizing: border-box;text-align: center;}#sk-container-id-3 label.sk-toggleable__label-arrow:before {content: \"▸\";float: left;margin-right: 0.25em;color: #696969;}#sk-container-id-3 label.sk-toggleable__label-arrow:hover:before {color: black;}#sk-container-id-3 div.sk-estimator:hover label.sk-toggleable__label-arrow:before {color: black;}#sk-container-id-3 div.sk-toggleable__content {max-height: 0;max-width: 0;overflow: hidden;text-align: left;background-color: #f0f8ff;}#sk-container-id-3 div.sk-toggleable__content pre {margin: 0.2em;color: black;border-radius: 0.25em;background-color: #f0f8ff;}#sk-container-id-3 input.sk-toggleable__control:checked~div.sk-toggleable__content {max-height: 200px;max-width: 100%;overflow: auto;}#sk-container-id-3 input.sk-toggleable__control:checked~label.sk-toggleable__label-arrow:before {content: \"▾\";}#sk-container-id-3 div.sk-estimator input.sk-toggleable__control:checked~label.sk-toggleable__label {background-color: #d4ebff;}#sk-container-id-3 div.sk-label input.sk-toggleable__control:checked~label.sk-toggleable__label {background-color: #d4ebff;}#sk-container-id-3 input.sk-hidden--visually {border: 0;clip: rect(1px 1px 1px 1px);clip: rect(1px, 1px, 1px, 1px);height: 1px;margin: -1px;overflow: hidden;padding: 0;position: absolute;width: 1px;}#sk-container-id-3 div.sk-estimator {font-family: monospace;background-color: #f0f8ff;border: 1px dotted black;border-radius: 0.25em;box-sizing: border-box;margin-bottom: 0.5em;}#sk-container-id-3 div.sk-estimator:hover {background-color: #d4ebff;}#sk-container-id-3 div.sk-parallel-item::after {content: \"\";width: 100%;border-bottom: 1px solid gray;flex-grow: 1;}#sk-container-id-3 div.sk-label:hover label.sk-toggleable__label {background-color: #d4ebff;}#sk-container-id-3 div.sk-serial::before {content: \"\";position: absolute;border-left: 1px solid gray;box-sizing: border-box;top: 0;bottom: 0;left: 50%;z-index: 0;}#sk-container-id-3 div.sk-serial {display: flex;flex-direction: column;align-items: center;background-color: white;padding-right: 0.2em;padding-left: 0.2em;position: relative;}#sk-container-id-3 div.sk-item {position: relative;z-index: 1;}#sk-container-id-3 div.sk-parallel {display: flex;align-items: stretch;justify-content: center;background-color: white;position: relative;}#sk-container-id-3 div.sk-item::before, #sk-container-id-3 div.sk-parallel-item::before {content: \"\";position: absolute;border-left: 1px solid gray;box-sizing: border-box;top: 0;bottom: 0;left: 50%;z-index: -1;}#sk-container-id-3 div.sk-parallel-item {display: flex;flex-direction: column;z-index: 1;position: relative;background-color: white;}#sk-container-id-3 div.sk-parallel-item:first-child::after {align-self: flex-end;width: 50%;}#sk-container-id-3 div.sk-parallel-item:last-child::after {align-self: flex-start;width: 50%;}#sk-container-id-3 div.sk-parallel-item:only-child::after {width: 0;}#sk-container-id-3 div.sk-dashed-wrapped {border: 1px dashed gray;margin: 0 0.4em 0.5em 0.4em;box-sizing: border-box;padding-bottom: 0.4em;background-color: white;}#sk-container-id-3 div.sk-label label {font-family: monospace;font-weight: bold;display: inline-block;line-height: 1.2em;}#sk-container-id-3 div.sk-label-container {text-align: center;}#sk-container-id-3 div.sk-container {/* jupyter's `normalize.less` sets `[hidden] { display: none; }` but bootstrap.min.css set `[hidden] { display: none !important; }` so we also need the `!important` here to be able to override the default hidden behavior on the sphinx rendered scikit-learn.org. See: https://github.com/scikit-learn/scikit-learn/issues/21755 */display: inline-block !important;position: relative;}#sk-container-id-3 div.sk-text-repr-fallback {display: none;}</style><div id=\"sk-container-id-3\" class=\"sk-top-container\"><div class=\"sk-text-repr-fallback\"><pre>LinearRegression()</pre><b>In a Jupyter environment, please rerun this cell to show the HTML representation or trust the notebook. <br />On GitHub, the HTML representation is unable to render, please try loading this page with nbviewer.org.</b></div><div class=\"sk-container\" hidden><div class=\"sk-item\"><div class=\"sk-estimator sk-toggleable\"><input class=\"sk-toggleable__control sk-hidden--visually\" id=\"sk-estimator-id-3\" type=\"checkbox\" checked><label for=\"sk-estimator-id-3\" class=\"sk-toggleable__label sk-toggleable__label-arrow\">LinearRegression</label><div class=\"sk-toggleable__content\"><pre>LinearRegression()</pre></div></div></div></div></div>"
      ],
      "text/plain": [
       "LinearRegression()"
      ]
     },
     "execution_count": 41,
     "metadata": {},
     "output_type": "execute_result"
    }
   ],
   "source": [
    "model = LinearRegression()\n",
    "model.fit(X_train, y_train)\n"
   ]
  },
  {
   "cell_type": "code",
   "execution_count": 42,
   "id": "388b2f50",
   "metadata": {},
   "outputs": [],
   "source": [
    "y_pred = model.predict(X_test)"
   ]
  },
  {
   "cell_type": "code",
   "execution_count": 24,
   "id": "6899264e",
   "metadata": {},
   "outputs": [],
   "source": [
    "from sklearn.metrics import mean_squared_error, r2_score "
   ]
  },
  {
   "cell_type": "code",
   "execution_count": 25,
   "id": "dc03f698",
   "metadata": {},
   "outputs": [],
   "source": [
    "mse = mean_squared_error(y_test, y_pred)\n",
    "r2 = r2_score(y_test, y_pred)"
   ]
  },
  {
   "cell_type": "code",
   "execution_count": 26,
   "id": "1e973345",
   "metadata": {
    "scrolled": true
   },
   "outputs": [
    {
     "name": "stdout",
     "output_type": "stream",
     "text": [
      "Mean Squared Error: 5.216960179953158\n",
      "R^2 Score: 0.9933849988504676\n",
      "Predictions: [121.30136604 136.07163245 182.19996027 147.38174604 200.57199037\n",
      " 169.00185098 191.89836208 138.00151921 203.2265794  207.47371754\n",
      " 151.22829698]\n"
     ]
    }
   ],
   "source": [
    "print(\"Mean Squared Error:\", mse)\n",
    "print(\"R^2 Score:\", r2)\n",
    "print(\"Predictions:\", y_pred)"
   ]
  },
  {
   "cell_type": "markdown",
   "id": "7fa96e07",
   "metadata": {},
   "source": [
    "## A lower MSE indicates a better fit of the model to the data. An MSE of approximately 5.22 suggests that, on average, the squared difference between the predicted and actual values is around 5.22 this could be considered a reasonable error."
   ]
  },
  {
   "cell_type": "markdown",
   "id": "d7eaeac7",
   "metadata": {},
   "source": [
    "## An R² score of 0.9934 means that about 99.34% of the variance in the target variable can be explained by the model. This suggest\\ that the model fits the data very well."
   ]
  },
  {
   "cell_type": "code",
   "execution_count": 27,
   "id": "a35be0d1",
   "metadata": {},
   "outputs": [],
   "source": [
    "rmse = np.sqrt(mse)"
   ]
  },
  {
   "cell_type": "code",
   "execution_count": 28,
   "id": "d55f1718",
   "metadata": {},
   "outputs": [
    {
     "name": "stdout",
     "output_type": "stream",
     "text": [
      "Root Mean Squared Error: 2.2840665883360667\n",
      "Predictions: [121.30136604 136.07163245 182.19996027 147.38174604 200.57199037\n",
      " 169.00185098 191.89836208 138.00151921 203.2265794  207.47371754\n",
      " 151.22829698]\n"
     ]
    }
   ],
   "source": [
    "print(\"Root Mean Squared Error:\", rmse)\n",
    "print(\"Predictions:\", y_pred)"
   ]
  },
  {
   "cell_type": "markdown",
   "id": "cd51872b",
   "metadata": {},
   "source": [
    "## An RMSE of 2.284 indicates that, on average, the model's predictions deviate from the actual values by about 2.284 units.As the target variable ranges from 0 to 100, an RMSE of 2.284 is relatively small, suggesting good predictive accuracy."
   ]
  },
  {
   "cell_type": "code",
   "execution_count": 29,
   "id": "e981d1dc",
   "metadata": {
    "scrolled": true
   },
   "outputs": [
    {
     "name": "stdout",
     "output_type": "stream",
     "text": [
      "Training Set Predictions: [204.82388355 174.36956355 182.85114018 203.97960124 175.17634813\n",
      " 189.18389588 199.70284905 143.06426691 181.23497382 120.80465422\n",
      " 139.4929367  198.62299338 103.65855769 204.96114924 171.14586446\n",
      " 150.69539865 103.84794727 168.36881053 176.84093835 106.18135033\n",
      " 120.72039279 149.06541703 107.50877295 117.54629411]\n",
      "Testing Set Predictions: [121.30136604 136.07163245 182.19996027 147.38174604 200.57199037\n",
      " 169.00185098 191.89836208 138.00151921 203.2265794  207.47371754\n",
      " 151.22829698]\n",
      "Training Set RMSE: 2.2339347338071893\n",
      "Testing Set RMSE: 2.2840665883360667\n"
     ]
    }
   ],
   "source": [
    "y_train_pred = model.predict(X_train)  # Predictions for training set\n",
    "y_test_pred = model.predict(X_test)     # Predictions for testing set\n",
    "\n",
    "# Step 6: Evaluate the model performance\n",
    "mse_train = mean_squared_error(y_train, y_train_pred)\n",
    "mse_test = mean_squared_error(y_test, y_test_pred)\n",
    "rmse_train = np.sqrt(mse_train)  # Calculate RMSE for training set\n",
    "rmse_test = np.sqrt(mse_test)    # Calculate RMSE for testing set\n",
    "\n",
    "# Display the results\n",
    "print(\"Training Set Predictions:\", y_train_pred)\n",
    "print(\"Testing Set Predictions:\", y_test_pred)\n",
    "print(\"Training Set RMSE:\", rmse_train)\n",
    "print(\"Testing Set RMSE:\", rmse_test)"
   ]
  },
  {
   "cell_type": "markdown",
   "id": "cbbae322",
   "metadata": {},
   "source": [
    "## The lower value of the rmse for both test and train data indicates that the model predicts value will less deviation or difference."
   ]
  },
  {
   "cell_type": "code",
   "execution_count": 30,
   "id": "35e20561",
   "metadata": {},
   "outputs": [
    {
     "name": "stdout",
     "output_type": "stream",
     "text": [
      "The model may be overfitting.\n"
     ]
    }
   ],
   "source": [
    "if rmse_train < rmse_test:\n",
    "    print(\"The model may be overfitting.\")\n",
    "elif rmse_train > rmse_test:\n",
    "    print(\"The model may be underfitting.\")\n",
    "else:\n",
    "    print(\"The model is performing well on both training and testing sets.\")"
   ]
  },
  {
   "cell_type": "markdown",
   "id": "c92585ad",
   "metadata": {},
   "source": [
    "## The model is slightly overfitting but there is not much of diffference in the rmse values of test and train data set. Hence it is reliable"
   ]
  },
  {
   "cell_type": "markdown",
   "id": "5bef1d4a",
   "metadata": {},
   "source": [
    "## Splitting the data into Train and Test (80:20)"
   ]
  },
  {
   "cell_type": "code",
   "execution_count": 31,
   "id": "625263fc",
   "metadata": {},
   "outputs": [],
   "source": [
    "X_train, X_test, y_train, y_test = train_test_split(X, y, test_size=0.2, random_state=42)"
   ]
  },
  {
   "cell_type": "code",
   "execution_count": 32,
   "id": "0a87b027",
   "metadata": {},
   "outputs": [
    {
     "data": {
      "text/plain": [
       "((35, 3), (28, 3), (7, 3))"
      ]
     },
     "execution_count": 32,
     "metadata": {},
     "output_type": "execute_result"
    }
   ],
   "source": [
    " x.shape, X_train.shape, X_test.shape"
   ]
  },
  {
   "cell_type": "code",
   "execution_count": 33,
   "id": "52a80344",
   "metadata": {},
   "outputs": [
    {
     "data": {
      "text/html": [
       "<style>#sk-container-id-2 {color: black;}#sk-container-id-2 pre{padding: 0;}#sk-container-id-2 div.sk-toggleable {background-color: white;}#sk-container-id-2 label.sk-toggleable__label {cursor: pointer;display: block;width: 100%;margin-bottom: 0;padding: 0.3em;box-sizing: border-box;text-align: center;}#sk-container-id-2 label.sk-toggleable__label-arrow:before {content: \"▸\";float: left;margin-right: 0.25em;color: #696969;}#sk-container-id-2 label.sk-toggleable__label-arrow:hover:before {color: black;}#sk-container-id-2 div.sk-estimator:hover label.sk-toggleable__label-arrow:before {color: black;}#sk-container-id-2 div.sk-toggleable__content {max-height: 0;max-width: 0;overflow: hidden;text-align: left;background-color: #f0f8ff;}#sk-container-id-2 div.sk-toggleable__content pre {margin: 0.2em;color: black;border-radius: 0.25em;background-color: #f0f8ff;}#sk-container-id-2 input.sk-toggleable__control:checked~div.sk-toggleable__content {max-height: 200px;max-width: 100%;overflow: auto;}#sk-container-id-2 input.sk-toggleable__control:checked~label.sk-toggleable__label-arrow:before {content: \"▾\";}#sk-container-id-2 div.sk-estimator input.sk-toggleable__control:checked~label.sk-toggleable__label {background-color: #d4ebff;}#sk-container-id-2 div.sk-label input.sk-toggleable__control:checked~label.sk-toggleable__label {background-color: #d4ebff;}#sk-container-id-2 input.sk-hidden--visually {border: 0;clip: rect(1px 1px 1px 1px);clip: rect(1px, 1px, 1px, 1px);height: 1px;margin: -1px;overflow: hidden;padding: 0;position: absolute;width: 1px;}#sk-container-id-2 div.sk-estimator {font-family: monospace;background-color: #f0f8ff;border: 1px dotted black;border-radius: 0.25em;box-sizing: border-box;margin-bottom: 0.5em;}#sk-container-id-2 div.sk-estimator:hover {background-color: #d4ebff;}#sk-container-id-2 div.sk-parallel-item::after {content: \"\";width: 100%;border-bottom: 1px solid gray;flex-grow: 1;}#sk-container-id-2 div.sk-label:hover label.sk-toggleable__label {background-color: #d4ebff;}#sk-container-id-2 div.sk-serial::before {content: \"\";position: absolute;border-left: 1px solid gray;box-sizing: border-box;top: 0;bottom: 0;left: 50%;z-index: 0;}#sk-container-id-2 div.sk-serial {display: flex;flex-direction: column;align-items: center;background-color: white;padding-right: 0.2em;padding-left: 0.2em;position: relative;}#sk-container-id-2 div.sk-item {position: relative;z-index: 1;}#sk-container-id-2 div.sk-parallel {display: flex;align-items: stretch;justify-content: center;background-color: white;position: relative;}#sk-container-id-2 div.sk-item::before, #sk-container-id-2 div.sk-parallel-item::before {content: \"\";position: absolute;border-left: 1px solid gray;box-sizing: border-box;top: 0;bottom: 0;left: 50%;z-index: -1;}#sk-container-id-2 div.sk-parallel-item {display: flex;flex-direction: column;z-index: 1;position: relative;background-color: white;}#sk-container-id-2 div.sk-parallel-item:first-child::after {align-self: flex-end;width: 50%;}#sk-container-id-2 div.sk-parallel-item:last-child::after {align-self: flex-start;width: 50%;}#sk-container-id-2 div.sk-parallel-item:only-child::after {width: 0;}#sk-container-id-2 div.sk-dashed-wrapped {border: 1px dashed gray;margin: 0 0.4em 0.5em 0.4em;box-sizing: border-box;padding-bottom: 0.4em;background-color: white;}#sk-container-id-2 div.sk-label label {font-family: monospace;font-weight: bold;display: inline-block;line-height: 1.2em;}#sk-container-id-2 div.sk-label-container {text-align: center;}#sk-container-id-2 div.sk-container {/* jupyter's `normalize.less` sets `[hidden] { display: none; }` but bootstrap.min.css set `[hidden] { display: none !important; }` so we also need the `!important` here to be able to override the default hidden behavior on the sphinx rendered scikit-learn.org. See: https://github.com/scikit-learn/scikit-learn/issues/21755 */display: inline-block !important;position: relative;}#sk-container-id-2 div.sk-text-repr-fallback {display: none;}</style><div id=\"sk-container-id-2\" class=\"sk-top-container\"><div class=\"sk-text-repr-fallback\"><pre>LinearRegression()</pre><b>In a Jupyter environment, please rerun this cell to show the HTML representation or trust the notebook. <br />On GitHub, the HTML representation is unable to render, please try loading this page with nbviewer.org.</b></div><div class=\"sk-container\" hidden><div class=\"sk-item\"><div class=\"sk-estimator sk-toggleable\"><input class=\"sk-toggleable__control sk-hidden--visually\" id=\"sk-estimator-id-2\" type=\"checkbox\" checked><label for=\"sk-estimator-id-2\" class=\"sk-toggleable__label sk-toggleable__label-arrow\">LinearRegression</label><div class=\"sk-toggleable__content\"><pre>LinearRegression()</pre></div></div></div></div></div>"
      ],
      "text/plain": [
       "LinearRegression()"
      ]
     },
     "execution_count": 33,
     "metadata": {},
     "output_type": "execute_result"
    }
   ],
   "source": [
    "model = LinearRegression()\n",
    "model.fit(X_train, y_train)"
   ]
  },
  {
   "cell_type": "code",
   "execution_count": 34,
   "id": "390a94ad",
   "metadata": {},
   "outputs": [],
   "source": [
    "y_pred = model.predict(X_test)"
   ]
  },
  {
   "cell_type": "code",
   "execution_count": 35,
   "id": "8c58e4f2",
   "metadata": {},
   "outputs": [],
   "source": [
    "mse = mean_squared_error(y_test, y_pred)\n",
    "r2 = r2_score(y_test, y_pred)"
   ]
  },
  {
   "cell_type": "code",
   "execution_count": 36,
   "id": "83e53d29",
   "metadata": {},
   "outputs": [
    {
     "name": "stdout",
     "output_type": "stream",
     "text": [
      "Mean Squared Error: 1.3078242422470585\n",
      "R^2 Score: 0.9982303453375267\n",
      "Predictions: [121.75169134 136.61925871 181.97910424 148.13961039 200.76798106\n",
      " 169.3210536  191.13850189]\n"
     ]
    }
   ],
   "source": [
    "print(\"Mean Squared Error:\", mse)\n",
    "print(\"R^2 Score:\", r2)\n",
    "print(\"Predictions:\", y_pred)"
   ]
  },
  {
   "cell_type": "markdown",
   "id": "2a2b837b",
   "metadata": {},
   "source": [
    "## An MSE of 1.308 suggests that, on average, the squared differences between the predicted values and the actual values are about 1.308.\n",
    "## This is a relatively low error, indicating that the predictions are close to the actual values.\n",
    "\n",
    "## An R² score of 0.9982 means that approximately 99.82% of the variance in the target variable can be explained by the model.\n",
    "## This score indicating that the model fits the data very well and is likely to make accurate predictions."
   ]
  },
  {
   "cell_type": "code",
   "execution_count": 37,
   "id": "83fa3869",
   "metadata": {},
   "outputs": [],
   "source": [
    "rmse = np.sqrt(mse)"
   ]
  },
  {
   "cell_type": "code",
   "execution_count": 38,
   "id": "44a0ec7d",
   "metadata": {},
   "outputs": [
    {
     "name": "stdout",
     "output_type": "stream",
     "text": [
      "Root Mean Squared Error: 1.143601435049405\n",
      "Predictions: [121.75169134 136.61925871 181.97910424 148.13961039 200.76798106\n",
      " 169.3210536  191.13850189]\n"
     ]
    }
   ],
   "source": [
    "print(\"Root Mean Squared Error:\", rmse)\n",
    "print(\"Predictions:\", y_pred)"
   ]
  },
  {
   "cell_type": "markdown",
   "id": "86a51a62",
   "metadata": {},
   "source": [
    "## An RMSE of 1.144 indicates that, on average, the model's predictions deviate from the actual values by about 1.144 units.\n",
    "## The target variable ranges from 0 to 100, an RMSE of 1.144 is relatively small, suggesting good predictive accuracy."
   ]
  },
  {
   "cell_type": "code",
   "execution_count": 39,
   "id": "d38848ec",
   "metadata": {
    "scrolled": true
   },
   "outputs": [
    {
     "name": "stdout",
     "output_type": "stream",
     "text": [
      "Training Set Predictions: [138.62336097 202.71811463 206.50249904 151.04175674 203.97167952\n",
      " 174.00610718 182.51896311 203.50553436 175.29124796 188.58662052\n",
      " 200.21229309 143.50855927 180.95596561 120.65746953 139.31072957\n",
      " 198.99165469 104.12813358 204.00986728 171.592459   150.30175035\n",
      " 104.23479659 168.72718348 175.91805584 106.612865   120.86683126\n",
      " 148.8559326  108.14821709 118.30835214]\n",
      "Testing Set Predictions: [121.75169134 136.61925871 181.97910424 148.13961039 200.76798106\n",
      " 169.3210536  191.13850189]\n",
      "Training Set RMSE: 2.361605466796605\n",
      "Testing Set RMSE: 1.143601435049405\n"
     ]
    }
   ],
   "source": [
    "y_train_pred = model.predict(X_train)  # Predictions for training set\n",
    "y_test_pred = model.predict(X_test)     # Predictions for testing set\n",
    "\n",
    "# Step 6: Evaluate the model performance\n",
    "mse_train = mean_squared_error(y_train, y_train_pred)\n",
    "mse_test = mean_squared_error(y_test, y_test_pred)\n",
    "rmse_train = np.sqrt(mse_train)  # Calculate RMSE for training set\n",
    "rmse_test = np.sqrt(mse_test)    # Calculate RMSE for testing set\n",
    "\n",
    "# Display the results\n",
    "print(\"Training Set Predictions:\", y_train_pred)\n",
    "print(\"Testing Set Predictions:\", y_test_pred)\n",
    "print(\"Training Set RMSE:\", rmse_train)\n",
    "print(\"Testing Set RMSE:\", rmse_test)"
   ]
  },
  {
   "cell_type": "markdown",
   "id": "29c81f96",
   "metadata": {},
   "source": [
    "## The test data set has lower RMSE score than the train data set hence it shows that model has good predictive power on the new data \n"
   ]
  },
  {
   "cell_type": "code",
   "execution_count": 40,
   "id": "d3afac1b",
   "metadata": {},
   "outputs": [
    {
     "name": "stdout",
     "output_type": "stream",
     "text": [
      "The model may be underfitting.\n"
     ]
    }
   ],
   "source": [
    "if rmse_train < rmse_test:\n",
    "    print(\"The model may be overfitting.\")\n",
    "elif rmse_train > rmse_test:\n",
    "    print(\"The model may be underfitting.\")\n",
    "else:\n",
    "    print(\"The model is performing well on both training and testing sets.\")"
   ]
  },
  {
   "cell_type": "markdown",
   "id": "1d23e605",
   "metadata": {},
   "source": [
    "## The high training RMSE suggests that the model is likely underfitting the training data"
   ]
  }
 ],
 "metadata": {
  "kernelspec": {
   "display_name": "Python 3 (ipykernel)",
   "language": "python",
   "name": "python3"
  },
  "language_info": {
   "codemirror_mode": {
    "name": "ipython",
    "version": 3
   },
   "file_extension": ".py",
   "mimetype": "text/x-python",
   "name": "python",
   "nbconvert_exporter": "python",
   "pygments_lexer": "ipython3",
   "version": "3.11.5"
  }
 },
 "nbformat": 4,
 "nbformat_minor": 5
}
