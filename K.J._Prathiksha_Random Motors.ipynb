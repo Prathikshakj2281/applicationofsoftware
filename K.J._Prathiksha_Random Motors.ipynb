{
 "cells": [
  {
   "cell_type": "markdown",
   "id": "74941307",
   "metadata": {},
   "source": [
    "## Importing the Libraries"
   ]
  },
  {
   "cell_type": "code",
   "execution_count": 14,
   "id": "a096c7dd",
   "metadata": {},
   "outputs": [],
   "source": [
    "import pandas as pd\n",
    "import seaborn as sns\n",
    "import os\n",
    "import numpy as np\n",
    "import matplotlib.pyplot as plt"
   ]
  },
  {
   "cell_type": "code",
   "execution_count": 15,
   "id": "d31c9d4a",
   "metadata": {},
   "outputs": [],
   "source": [
    "os.chdir('C:\\Application of Software')"
   ]
  },
  {
   "cell_type": "code",
   "execution_count": 16,
   "id": "6dfe4240",
   "metadata": {},
   "outputs": [
    {
     "data": {
      "text/plain": [
       "'C:\\\\Application of Software'"
      ]
     },
     "execution_count": 16,
     "metadata": {},
     "output_type": "execute_result"
    }
   ],
   "source": [
    "os.getcwd()"
   ]
  },
  {
   "cell_type": "markdown",
   "id": "94415207",
   "metadata": {},
   "source": [
    "## Read the Excel File"
   ]
  },
  {
   "cell_type": "code",
   "execution_count": 17,
   "id": "be157955",
   "metadata": {},
   "outputs": [
    {
     "data": {
      "text/plain": [
       "<pandas.io.excel._base.ExcelFile at 0x2170be60310>"
      ]
     },
     "execution_count": 17,
     "metadata": {},
     "output_type": "execute_result"
    }
   ],
   "source": [
    "RM = pd.ExcelFile('Exhibit+1.xlsx')\n",
    "RM"
   ]
  },
  {
   "cell_type": "code",
   "execution_count": 18,
   "id": "f07cfd10",
   "metadata": {},
   "outputs": [],
   "source": [
    "rm = pd.read_excel('Exhibit+1.xlsx', 'Sheet1')"
   ]
  },
  {
   "cell_type": "code",
   "execution_count": 19,
   "id": "8c8935cc",
   "metadata": {},
   "outputs": [
    {
     "data": {
      "text/html": [
       "<div>\n",
       "<style scoped>\n",
       "    .dataframe tbody tr th:only-of-type {\n",
       "        vertical-align: middle;\n",
       "    }\n",
       "\n",
       "    .dataframe tbody tr th {\n",
       "        vertical-align: top;\n",
       "    }\n",
       "\n",
       "    .dataframe thead th {\n",
       "        text-align: right;\n",
       "    }\n",
       "</style>\n",
       "<table border=\"1\" class=\"dataframe\">\n",
       "  <thead>\n",
       "    <tr style=\"text-align: right;\">\n",
       "      <th></th>\n",
       "      <th>Rocinante 36</th>\n",
       "      <th>Unnamed: 1</th>\n",
       "      <th>Unnamed: 2</th>\n",
       "      <th>Marengo 32</th>\n",
       "      <th>Unnamed: 4</th>\n",
       "      <th>Unnamed: 5</th>\n",
       "    </tr>\n",
       "  </thead>\n",
       "  <tbody>\n",
       "    <tr>\n",
       "      <th>0</th>\n",
       "      <td>Car No.</td>\n",
       "      <td>Mileage (km/ltr)</td>\n",
       "      <td>Top speed (km/hr)</td>\n",
       "      <td>Car No.</td>\n",
       "      <td>Mileage (km/ltr)</td>\n",
       "      <td>Top speed (km/hr)</td>\n",
       "    </tr>\n",
       "    <tr>\n",
       "      <th>1</th>\n",
       "      <td>1</td>\n",
       "      <td>21.2</td>\n",
       "      <td>151.9</td>\n",
       "      <td>1</td>\n",
       "      <td>15.04</td>\n",
       "      <td>211.3</td>\n",
       "    </tr>\n",
       "    <tr>\n",
       "      <th>2</th>\n",
       "      <td>2</td>\n",
       "      <td>21.79</td>\n",
       "      <td>147.6</td>\n",
       "      <td>2</td>\n",
       "      <td>15.41</td>\n",
       "      <td>207</td>\n",
       "    </tr>\n",
       "    <tr>\n",
       "      <th>3</th>\n",
       "      <td>3</td>\n",
       "      <td>21.87</td>\n",
       "      <td>145.6</td>\n",
       "      <td>3</td>\n",
       "      <td>15.43</td>\n",
       "      <td>206.2</td>\n",
       "    </tr>\n",
       "    <tr>\n",
       "      <th>4</th>\n",
       "      <td>4</td>\n",
       "      <td>22.71</td>\n",
       "      <td>136.1</td>\n",
       "      <td>4</td>\n",
       "      <td>15.92</td>\n",
       "      <td>213.4</td>\n",
       "    </tr>\n",
       "  </tbody>\n",
       "</table>\n",
       "</div>"
      ],
      "text/plain": [
       "  Rocinante 36        Unnamed: 1         Unnamed: 2 Marengo 32  \\\n",
       "0      Car No.  Mileage (km/ltr)  Top speed (km/hr)    Car No.   \n",
       "1            1              21.2              151.9          1   \n",
       "2            2             21.79              147.6          2   \n",
       "3            3             21.87              145.6          3   \n",
       "4            4             22.71              136.1          4   \n",
       "\n",
       "         Unnamed: 4         Unnamed: 5  \n",
       "0  Mileage (km/ltr)  Top speed (km/hr)  \n",
       "1             15.04              211.3  \n",
       "2             15.41                207  \n",
       "3             15.43              206.2  \n",
       "4             15.92              213.4  "
      ]
     },
     "execution_count": 19,
     "metadata": {},
     "output_type": "execute_result"
    }
   ],
   "source": [
    "rm.head()"
   ]
  },
  {
   "cell_type": "markdown",
   "id": "c0de85ae",
   "metadata": {},
   "source": [
    "## EDA"
   ]
  },
  {
   "cell_type": "code",
   "execution_count": 20,
   "id": "1bb2b03c",
   "metadata": {},
   "outputs": [
    {
     "data": {
      "text/plain": [
       "(21, 6)"
      ]
     },
     "execution_count": 20,
     "metadata": {},
     "output_type": "execute_result"
    }
   ],
   "source": [
    "rm.shape"
   ]
  },
  {
   "cell_type": "code",
   "execution_count": 21,
   "id": "ffaf130c",
   "metadata": {},
   "outputs": [
    {
     "data": {
      "text/plain": [
       "['Rocinante 36',\n",
       " 'Unnamed: 1',\n",
       " 'Unnamed: 2',\n",
       " 'Marengo 32',\n",
       " 'Unnamed: 4',\n",
       " 'Unnamed: 5']"
      ]
     },
     "execution_count": 21,
     "metadata": {},
     "output_type": "execute_result"
    }
   ],
   "source": [
    "list(rm)"
   ]
  },
  {
   "cell_type": "code",
   "execution_count": 22,
   "id": "121ba9b0",
   "metadata": {},
   "outputs": [
    {
     "data": {
      "text/plain": [
       "0"
      ]
     },
     "execution_count": 22,
     "metadata": {},
     "output_type": "execute_result"
    }
   ],
   "source": [
    "rm.isnull().any().sum()"
   ]
  },
  {
   "cell_type": "markdown",
   "id": "c054493e",
   "metadata": {},
   "source": [
    "## Rename the columns"
   ]
  },
  {
   "cell_type": "code",
   "execution_count": 23,
   "id": "f26ad83f",
   "metadata": {},
   "outputs": [
    {
     "data": {
      "text/html": [
       "<div>\n",
       "<style scoped>\n",
       "    .dataframe tbody tr th:only-of-type {\n",
       "        vertical-align: middle;\n",
       "    }\n",
       "\n",
       "    .dataframe tbody tr th {\n",
       "        vertical-align: top;\n",
       "    }\n",
       "\n",
       "    .dataframe thead th {\n",
       "        text-align: right;\n",
       "    }\n",
       "</style>\n",
       "<table border=\"1\" class=\"dataframe\">\n",
       "  <thead>\n",
       "    <tr style=\"text-align: right;\">\n",
       "      <th></th>\n",
       "      <th>Rocinante 36</th>\n",
       "      <th>Mileage_R36</th>\n",
       "      <th>Top_speed_R36</th>\n",
       "      <th>Marengo 32</th>\n",
       "      <th>Mileage_M32</th>\n",
       "      <th>Top_speed_M32</th>\n",
       "    </tr>\n",
       "  </thead>\n",
       "  <tbody>\n",
       "    <tr>\n",
       "      <th>0</th>\n",
       "      <td>Car No.</td>\n",
       "      <td>Mileage (km/ltr)</td>\n",
       "      <td>Top speed (km/hr)</td>\n",
       "      <td>Car No.</td>\n",
       "      <td>Mileage (km/ltr)</td>\n",
       "      <td>Top speed (km/hr)</td>\n",
       "    </tr>\n",
       "    <tr>\n",
       "      <th>1</th>\n",
       "      <td>1</td>\n",
       "      <td>21.2</td>\n",
       "      <td>151.9</td>\n",
       "      <td>1</td>\n",
       "      <td>15.04</td>\n",
       "      <td>211.3</td>\n",
       "    </tr>\n",
       "    <tr>\n",
       "      <th>2</th>\n",
       "      <td>2</td>\n",
       "      <td>21.79</td>\n",
       "      <td>147.6</td>\n",
       "      <td>2</td>\n",
       "      <td>15.41</td>\n",
       "      <td>207</td>\n",
       "    </tr>\n",
       "    <tr>\n",
       "      <th>3</th>\n",
       "      <td>3</td>\n",
       "      <td>21.87</td>\n",
       "      <td>145.6</td>\n",
       "      <td>3</td>\n",
       "      <td>15.43</td>\n",
       "      <td>206.2</td>\n",
       "    </tr>\n",
       "    <tr>\n",
       "      <th>4</th>\n",
       "      <td>4</td>\n",
       "      <td>22.71</td>\n",
       "      <td>136.1</td>\n",
       "      <td>4</td>\n",
       "      <td>15.92</td>\n",
       "      <td>213.4</td>\n",
       "    </tr>\n",
       "    <tr>\n",
       "      <th>5</th>\n",
       "      <td>5</td>\n",
       "      <td>22.52</td>\n",
       "      <td>139.7</td>\n",
       "      <td>5</td>\n",
       "      <td>15.2</td>\n",
       "      <td>204.2</td>\n",
       "    </tr>\n",
       "    <tr>\n",
       "      <th>6</th>\n",
       "      <td>6</td>\n",
       "      <td>21.41</td>\n",
       "      <td>146.1</td>\n",
       "      <td>6</td>\n",
       "      <td>15.22</td>\n",
       "      <td>208.7</td>\n",
       "    </tr>\n",
       "    <tr>\n",
       "      <th>7</th>\n",
       "      <td>7</td>\n",
       "      <td>22.71</td>\n",
       "      <td>139.6</td>\n",
       "      <td>7</td>\n",
       "      <td>14.6</td>\n",
       "      <td>200</td>\n",
       "    </tr>\n",
       "    <tr>\n",
       "      <th>8</th>\n",
       "      <td>8</td>\n",
       "      <td>21.71</td>\n",
       "      <td>143</td>\n",
       "      <td>8</td>\n",
       "      <td>14.41</td>\n",
       "      <td>210.9</td>\n",
       "    </tr>\n",
       "    <tr>\n",
       "      <th>9</th>\n",
       "      <td>9</td>\n",
       "      <td>19.95</td>\n",
       "      <td>136.4</td>\n",
       "      <td>9</td>\n",
       "      <td>14.79</td>\n",
       "      <td>208.5</td>\n",
       "    </tr>\n",
       "    <tr>\n",
       "      <th>10</th>\n",
       "      <td>10</td>\n",
       "      <td>20.65</td>\n",
       "      <td>146.6</td>\n",
       "      <td>10</td>\n",
       "      <td>14.81</td>\n",
       "      <td>214.2</td>\n",
       "    </tr>\n",
       "    <tr>\n",
       "      <th>11</th>\n",
       "      <td>11</td>\n",
       "      <td>22.86</td>\n",
       "      <td>139.9</td>\n",
       "      <td>11</td>\n",
       "      <td>15.61</td>\n",
       "      <td>215.8</td>\n",
       "    </tr>\n",
       "    <tr>\n",
       "      <th>12</th>\n",
       "      <td>12</td>\n",
       "      <td>21.12</td>\n",
       "      <td>136.6</td>\n",
       "      <td>12</td>\n",
       "      <td>15.76</td>\n",
       "      <td>215.8</td>\n",
       "    </tr>\n",
       "    <tr>\n",
       "      <th>13</th>\n",
       "      <td>13</td>\n",
       "      <td>22.8</td>\n",
       "      <td>148.5</td>\n",
       "      <td>13</td>\n",
       "      <td>14.97</td>\n",
       "      <td>215.2</td>\n",
       "    </tr>\n",
       "    <tr>\n",
       "      <th>14</th>\n",
       "      <td>14</td>\n",
       "      <td>20.89</td>\n",
       "      <td>143.4</td>\n",
       "      <td>14</td>\n",
       "      <td>14.71</td>\n",
       "      <td>218.7</td>\n",
       "    </tr>\n",
       "    <tr>\n",
       "      <th>15</th>\n",
       "      <td>15</td>\n",
       "      <td>22.49</td>\n",
       "      <td>134.2</td>\n",
       "      <td>15</td>\n",
       "      <td>15.55</td>\n",
       "      <td>208</td>\n",
       "    </tr>\n",
       "    <tr>\n",
       "      <th>16</th>\n",
       "      <td>16</td>\n",
       "      <td>20.94</td>\n",
       "      <td>140.5</td>\n",
       "      <td>16</td>\n",
       "      <td>15.19</td>\n",
       "      <td>212.2</td>\n",
       "    </tr>\n",
       "    <tr>\n",
       "      <th>17</th>\n",
       "      <td>17</td>\n",
       "      <td>20.37</td>\n",
       "      <td>137.8</td>\n",
       "      <td>17</td>\n",
       "      <td>15.36</td>\n",
       "      <td>219.7</td>\n",
       "    </tr>\n",
       "    <tr>\n",
       "      <th>18</th>\n",
       "      <td>18</td>\n",
       "      <td>22.72</td>\n",
       "      <td>135.1</td>\n",
       "      <td>18</td>\n",
       "      <td>15.93</td>\n",
       "      <td>216.4</td>\n",
       "    </tr>\n",
       "    <tr>\n",
       "      <th>19</th>\n",
       "      <td>19</td>\n",
       "      <td>20.54</td>\n",
       "      <td>138.8</td>\n",
       "      <td>19</td>\n",
       "      <td>14.54</td>\n",
       "      <td>205.8</td>\n",
       "    </tr>\n",
       "    <tr>\n",
       "      <th>20</th>\n",
       "      <td>20</td>\n",
       "      <td>21.14</td>\n",
       "      <td>132</td>\n",
       "      <td>20</td>\n",
       "      <td>14.76</td>\n",
       "      <td>209</td>\n",
       "    </tr>\n",
       "  </tbody>\n",
       "</table>\n",
       "</div>"
      ],
      "text/plain": [
       "   Rocinante 36       Mileage_R36      Top_speed_R36 Marengo 32  \\\n",
       "0       Car No.  Mileage (km/ltr)  Top speed (km/hr)    Car No.   \n",
       "1             1              21.2              151.9          1   \n",
       "2             2             21.79              147.6          2   \n",
       "3             3             21.87              145.6          3   \n",
       "4             4             22.71              136.1          4   \n",
       "5             5             22.52              139.7          5   \n",
       "6             6             21.41              146.1          6   \n",
       "7             7             22.71              139.6          7   \n",
       "8             8             21.71                143          8   \n",
       "9             9             19.95              136.4          9   \n",
       "10           10             20.65              146.6         10   \n",
       "11           11             22.86              139.9         11   \n",
       "12           12             21.12              136.6         12   \n",
       "13           13              22.8              148.5         13   \n",
       "14           14             20.89              143.4         14   \n",
       "15           15             22.49              134.2         15   \n",
       "16           16             20.94              140.5         16   \n",
       "17           17             20.37              137.8         17   \n",
       "18           18             22.72              135.1         18   \n",
       "19           19             20.54              138.8         19   \n",
       "20           20             21.14                132         20   \n",
       "\n",
       "         Mileage_M32      Top_speed_M32  \n",
       "0   Mileage (km/ltr)  Top speed (km/hr)  \n",
       "1              15.04              211.3  \n",
       "2              15.41                207  \n",
       "3              15.43              206.2  \n",
       "4              15.92              213.4  \n",
       "5               15.2              204.2  \n",
       "6              15.22              208.7  \n",
       "7               14.6                200  \n",
       "8              14.41              210.9  \n",
       "9              14.79              208.5  \n",
       "10             14.81              214.2  \n",
       "11             15.61              215.8  \n",
       "12             15.76              215.8  \n",
       "13             14.97              215.2  \n",
       "14             14.71              218.7  \n",
       "15             15.55                208  \n",
       "16             15.19              212.2  \n",
       "17             15.36              219.7  \n",
       "18             15.93              216.4  \n",
       "19             14.54              205.8  \n",
       "20             14.76                209  "
      ]
     },
     "execution_count": 23,
     "metadata": {},
     "output_type": "execute_result"
    }
   ],
   "source": [
    "rm = rm.rename(columns={\n",
    "    'Unnamed: 1' : 'Mileage_R36',\n",
    "    'Unnamed: 2': 'Top_speed_R36',\n",
    "    'Unnamed: 4' : 'Mileage_M32',\n",
    "    'Unnamed: 5': 'Top_speed_M32'})\n",
    "rm"
   ]
  },
  {
   "cell_type": "markdown",
   "id": "336c2db0",
   "metadata": {},
   "source": [
    "## Droping the first row"
   ]
  },
  {
   "cell_type": "code",
   "execution_count": 24,
   "id": "37ca63fe",
   "metadata": {},
   "outputs": [],
   "source": [
    "rm = rm.drop(index=0).reset_index(drop=True)"
   ]
  },
  {
   "cell_type": "code",
   "execution_count": 25,
   "id": "3af1c61c",
   "metadata": {},
   "outputs": [
    {
     "data": {
      "text/html": [
       "<div>\n",
       "<style scoped>\n",
       "    .dataframe tbody tr th:only-of-type {\n",
       "        vertical-align: middle;\n",
       "    }\n",
       "\n",
       "    .dataframe tbody tr th {\n",
       "        vertical-align: top;\n",
       "    }\n",
       "\n",
       "    .dataframe thead th {\n",
       "        text-align: right;\n",
       "    }\n",
       "</style>\n",
       "<table border=\"1\" class=\"dataframe\">\n",
       "  <thead>\n",
       "    <tr style=\"text-align: right;\">\n",
       "      <th></th>\n",
       "      <th>Rocinante 36</th>\n",
       "      <th>Mileage_R36</th>\n",
       "      <th>Top_speed_R36</th>\n",
       "      <th>Marengo 32</th>\n",
       "      <th>Mileage_M32</th>\n",
       "      <th>Top_speed_M32</th>\n",
       "    </tr>\n",
       "  </thead>\n",
       "  <tbody>\n",
       "    <tr>\n",
       "      <th>0</th>\n",
       "      <td>1</td>\n",
       "      <td>21.2</td>\n",
       "      <td>151.9</td>\n",
       "      <td>1</td>\n",
       "      <td>15.04</td>\n",
       "      <td>211.3</td>\n",
       "    </tr>\n",
       "    <tr>\n",
       "      <th>1</th>\n",
       "      <td>2</td>\n",
       "      <td>21.79</td>\n",
       "      <td>147.6</td>\n",
       "      <td>2</td>\n",
       "      <td>15.41</td>\n",
       "      <td>207</td>\n",
       "    </tr>\n",
       "    <tr>\n",
       "      <th>2</th>\n",
       "      <td>3</td>\n",
       "      <td>21.87</td>\n",
       "      <td>145.6</td>\n",
       "      <td>3</td>\n",
       "      <td>15.43</td>\n",
       "      <td>206.2</td>\n",
       "    </tr>\n",
       "    <tr>\n",
       "      <th>3</th>\n",
       "      <td>4</td>\n",
       "      <td>22.71</td>\n",
       "      <td>136.1</td>\n",
       "      <td>4</td>\n",
       "      <td>15.92</td>\n",
       "      <td>213.4</td>\n",
       "    </tr>\n",
       "    <tr>\n",
       "      <th>4</th>\n",
       "      <td>5</td>\n",
       "      <td>22.52</td>\n",
       "      <td>139.7</td>\n",
       "      <td>5</td>\n",
       "      <td>15.2</td>\n",
       "      <td>204.2</td>\n",
       "    </tr>\n",
       "    <tr>\n",
       "      <th>5</th>\n",
       "      <td>6</td>\n",
       "      <td>21.41</td>\n",
       "      <td>146.1</td>\n",
       "      <td>6</td>\n",
       "      <td>15.22</td>\n",
       "      <td>208.7</td>\n",
       "    </tr>\n",
       "    <tr>\n",
       "      <th>6</th>\n",
       "      <td>7</td>\n",
       "      <td>22.71</td>\n",
       "      <td>139.6</td>\n",
       "      <td>7</td>\n",
       "      <td>14.6</td>\n",
       "      <td>200</td>\n",
       "    </tr>\n",
       "    <tr>\n",
       "      <th>7</th>\n",
       "      <td>8</td>\n",
       "      <td>21.71</td>\n",
       "      <td>143</td>\n",
       "      <td>8</td>\n",
       "      <td>14.41</td>\n",
       "      <td>210.9</td>\n",
       "    </tr>\n",
       "    <tr>\n",
       "      <th>8</th>\n",
       "      <td>9</td>\n",
       "      <td>19.95</td>\n",
       "      <td>136.4</td>\n",
       "      <td>9</td>\n",
       "      <td>14.79</td>\n",
       "      <td>208.5</td>\n",
       "    </tr>\n",
       "    <tr>\n",
       "      <th>9</th>\n",
       "      <td>10</td>\n",
       "      <td>20.65</td>\n",
       "      <td>146.6</td>\n",
       "      <td>10</td>\n",
       "      <td>14.81</td>\n",
       "      <td>214.2</td>\n",
       "    </tr>\n",
       "    <tr>\n",
       "      <th>10</th>\n",
       "      <td>11</td>\n",
       "      <td>22.86</td>\n",
       "      <td>139.9</td>\n",
       "      <td>11</td>\n",
       "      <td>15.61</td>\n",
       "      <td>215.8</td>\n",
       "    </tr>\n",
       "    <tr>\n",
       "      <th>11</th>\n",
       "      <td>12</td>\n",
       "      <td>21.12</td>\n",
       "      <td>136.6</td>\n",
       "      <td>12</td>\n",
       "      <td>15.76</td>\n",
       "      <td>215.8</td>\n",
       "    </tr>\n",
       "    <tr>\n",
       "      <th>12</th>\n",
       "      <td>13</td>\n",
       "      <td>22.8</td>\n",
       "      <td>148.5</td>\n",
       "      <td>13</td>\n",
       "      <td>14.97</td>\n",
       "      <td>215.2</td>\n",
       "    </tr>\n",
       "    <tr>\n",
       "      <th>13</th>\n",
       "      <td>14</td>\n",
       "      <td>20.89</td>\n",
       "      <td>143.4</td>\n",
       "      <td>14</td>\n",
       "      <td>14.71</td>\n",
       "      <td>218.7</td>\n",
       "    </tr>\n",
       "    <tr>\n",
       "      <th>14</th>\n",
       "      <td>15</td>\n",
       "      <td>22.49</td>\n",
       "      <td>134.2</td>\n",
       "      <td>15</td>\n",
       "      <td>15.55</td>\n",
       "      <td>208</td>\n",
       "    </tr>\n",
       "    <tr>\n",
       "      <th>15</th>\n",
       "      <td>16</td>\n",
       "      <td>20.94</td>\n",
       "      <td>140.5</td>\n",
       "      <td>16</td>\n",
       "      <td>15.19</td>\n",
       "      <td>212.2</td>\n",
       "    </tr>\n",
       "    <tr>\n",
       "      <th>16</th>\n",
       "      <td>17</td>\n",
       "      <td>20.37</td>\n",
       "      <td>137.8</td>\n",
       "      <td>17</td>\n",
       "      <td>15.36</td>\n",
       "      <td>219.7</td>\n",
       "    </tr>\n",
       "    <tr>\n",
       "      <th>17</th>\n",
       "      <td>18</td>\n",
       "      <td>22.72</td>\n",
       "      <td>135.1</td>\n",
       "      <td>18</td>\n",
       "      <td>15.93</td>\n",
       "      <td>216.4</td>\n",
       "    </tr>\n",
       "    <tr>\n",
       "      <th>18</th>\n",
       "      <td>19</td>\n",
       "      <td>20.54</td>\n",
       "      <td>138.8</td>\n",
       "      <td>19</td>\n",
       "      <td>14.54</td>\n",
       "      <td>205.8</td>\n",
       "    </tr>\n",
       "    <tr>\n",
       "      <th>19</th>\n",
       "      <td>20</td>\n",
       "      <td>21.14</td>\n",
       "      <td>132</td>\n",
       "      <td>20</td>\n",
       "      <td>14.76</td>\n",
       "      <td>209</td>\n",
       "    </tr>\n",
       "  </tbody>\n",
       "</table>\n",
       "</div>"
      ],
      "text/plain": [
       "   Rocinante 36 Mileage_R36 Top_speed_R36 Marengo 32 Mileage_M32 Top_speed_M32\n",
       "0             1        21.2         151.9          1       15.04         211.3\n",
       "1             2       21.79         147.6          2       15.41           207\n",
       "2             3       21.87         145.6          3       15.43         206.2\n",
       "3             4       22.71         136.1          4       15.92         213.4\n",
       "4             5       22.52         139.7          5        15.2         204.2\n",
       "5             6       21.41         146.1          6       15.22         208.7\n",
       "6             7       22.71         139.6          7        14.6           200\n",
       "7             8       21.71           143          8       14.41         210.9\n",
       "8             9       19.95         136.4          9       14.79         208.5\n",
       "9            10       20.65         146.6         10       14.81         214.2\n",
       "10           11       22.86         139.9         11       15.61         215.8\n",
       "11           12       21.12         136.6         12       15.76         215.8\n",
       "12           13        22.8         148.5         13       14.97         215.2\n",
       "13           14       20.89         143.4         14       14.71         218.7\n",
       "14           15       22.49         134.2         15       15.55           208\n",
       "15           16       20.94         140.5         16       15.19         212.2\n",
       "16           17       20.37         137.8         17       15.36         219.7\n",
       "17           18       22.72         135.1         18       15.93         216.4\n",
       "18           19       20.54         138.8         19       14.54         205.8\n",
       "19           20       21.14           132         20       14.76           209"
      ]
     },
     "execution_count": 25,
     "metadata": {},
     "output_type": "execute_result"
    }
   ],
   "source": [
    "rm"
   ]
  },
  {
   "cell_type": "markdown",
   "id": "d89d2993",
   "metadata": {},
   "source": [
    "## Subsetting for Rocinate 36 Model "
   ]
  },
  {
   "cell_type": "code",
   "execution_count": 26,
   "id": "b964af6e",
   "metadata": {},
   "outputs": [
    {
     "data": {
      "text/html": [
       "<div>\n",
       "<style scoped>\n",
       "    .dataframe tbody tr th:only-of-type {\n",
       "        vertical-align: middle;\n",
       "    }\n",
       "\n",
       "    .dataframe tbody tr th {\n",
       "        vertical-align: top;\n",
       "    }\n",
       "\n",
       "    .dataframe thead th {\n",
       "        text-align: right;\n",
       "    }\n",
       "</style>\n",
       "<table border=\"1\" class=\"dataframe\">\n",
       "  <thead>\n",
       "    <tr style=\"text-align: right;\">\n",
       "      <th></th>\n",
       "      <th>Rocinante 36</th>\n",
       "      <th>Mileage_R36</th>\n",
       "      <th>Top_speed_R36</th>\n",
       "    </tr>\n",
       "  </thead>\n",
       "  <tbody>\n",
       "    <tr>\n",
       "      <th>0</th>\n",
       "      <td>1</td>\n",
       "      <td>21.2</td>\n",
       "      <td>151.9</td>\n",
       "    </tr>\n",
       "    <tr>\n",
       "      <th>1</th>\n",
       "      <td>2</td>\n",
       "      <td>21.79</td>\n",
       "      <td>147.6</td>\n",
       "    </tr>\n",
       "    <tr>\n",
       "      <th>2</th>\n",
       "      <td>3</td>\n",
       "      <td>21.87</td>\n",
       "      <td>145.6</td>\n",
       "    </tr>\n",
       "    <tr>\n",
       "      <th>3</th>\n",
       "      <td>4</td>\n",
       "      <td>22.71</td>\n",
       "      <td>136.1</td>\n",
       "    </tr>\n",
       "    <tr>\n",
       "      <th>4</th>\n",
       "      <td>5</td>\n",
       "      <td>22.52</td>\n",
       "      <td>139.7</td>\n",
       "    </tr>\n",
       "    <tr>\n",
       "      <th>5</th>\n",
       "      <td>6</td>\n",
       "      <td>21.41</td>\n",
       "      <td>146.1</td>\n",
       "    </tr>\n",
       "    <tr>\n",
       "      <th>6</th>\n",
       "      <td>7</td>\n",
       "      <td>22.71</td>\n",
       "      <td>139.6</td>\n",
       "    </tr>\n",
       "    <tr>\n",
       "      <th>7</th>\n",
       "      <td>8</td>\n",
       "      <td>21.71</td>\n",
       "      <td>143</td>\n",
       "    </tr>\n",
       "    <tr>\n",
       "      <th>8</th>\n",
       "      <td>9</td>\n",
       "      <td>19.95</td>\n",
       "      <td>136.4</td>\n",
       "    </tr>\n",
       "    <tr>\n",
       "      <th>9</th>\n",
       "      <td>10</td>\n",
       "      <td>20.65</td>\n",
       "      <td>146.6</td>\n",
       "    </tr>\n",
       "    <tr>\n",
       "      <th>10</th>\n",
       "      <td>11</td>\n",
       "      <td>22.86</td>\n",
       "      <td>139.9</td>\n",
       "    </tr>\n",
       "    <tr>\n",
       "      <th>11</th>\n",
       "      <td>12</td>\n",
       "      <td>21.12</td>\n",
       "      <td>136.6</td>\n",
       "    </tr>\n",
       "    <tr>\n",
       "      <th>12</th>\n",
       "      <td>13</td>\n",
       "      <td>22.8</td>\n",
       "      <td>148.5</td>\n",
       "    </tr>\n",
       "    <tr>\n",
       "      <th>13</th>\n",
       "      <td>14</td>\n",
       "      <td>20.89</td>\n",
       "      <td>143.4</td>\n",
       "    </tr>\n",
       "    <tr>\n",
       "      <th>14</th>\n",
       "      <td>15</td>\n",
       "      <td>22.49</td>\n",
       "      <td>134.2</td>\n",
       "    </tr>\n",
       "    <tr>\n",
       "      <th>15</th>\n",
       "      <td>16</td>\n",
       "      <td>20.94</td>\n",
       "      <td>140.5</td>\n",
       "    </tr>\n",
       "    <tr>\n",
       "      <th>16</th>\n",
       "      <td>17</td>\n",
       "      <td>20.37</td>\n",
       "      <td>137.8</td>\n",
       "    </tr>\n",
       "    <tr>\n",
       "      <th>17</th>\n",
       "      <td>18</td>\n",
       "      <td>22.72</td>\n",
       "      <td>135.1</td>\n",
       "    </tr>\n",
       "    <tr>\n",
       "      <th>18</th>\n",
       "      <td>19</td>\n",
       "      <td>20.54</td>\n",
       "      <td>138.8</td>\n",
       "    </tr>\n",
       "    <tr>\n",
       "      <th>19</th>\n",
       "      <td>20</td>\n",
       "      <td>21.14</td>\n",
       "      <td>132</td>\n",
       "    </tr>\n",
       "  </tbody>\n",
       "</table>\n",
       "</div>"
      ],
      "text/plain": [
       "   Rocinante 36 Mileage_R36 Top_speed_R36\n",
       "0             1        21.2         151.9\n",
       "1             2       21.79         147.6\n",
       "2             3       21.87         145.6\n",
       "3             4       22.71         136.1\n",
       "4             5       22.52         139.7\n",
       "5             6       21.41         146.1\n",
       "6             7       22.71         139.6\n",
       "7             8       21.71           143\n",
       "8             9       19.95         136.4\n",
       "9            10       20.65         146.6\n",
       "10           11       22.86         139.9\n",
       "11           12       21.12         136.6\n",
       "12           13        22.8         148.5\n",
       "13           14       20.89         143.4\n",
       "14           15       22.49         134.2\n",
       "15           16       20.94         140.5\n",
       "16           17       20.37         137.8\n",
       "17           18       22.72         135.1\n",
       "18           19       20.54         138.8\n",
       "19           20       21.14           132"
      ]
     },
     "execution_count": 26,
     "metadata": {},
     "output_type": "execute_result"
    }
   ],
   "source": [
    "R36= rm[['Rocinante 36','Mileage_R36','Top_speed_R36']]\n",
    "R36"
   ]
  },
  {
   "cell_type": "code",
   "execution_count": 27,
   "id": "e803913d",
   "metadata": {},
   "outputs": [],
   "source": [
    "from scipy import stats"
   ]
  },
  {
   "cell_type": "markdown",
   "id": "7541bd62",
   "metadata": {},
   "source": [
    "## Q-1) Formulate the null and alternative hypotheses for mileage and top speed to check whether the new models are performing as per the desired design specifications."
   ]
  },
  {
   "cell_type": "markdown",
   "id": "492c9159",
   "metadata": {},
   "source": [
    "## Rocinate 36 \n",
    "### H0: Milage = 22km/l, top speed = 140km/hr\n",
    "### H1: Milage ≠ 22km/l, top speed ≠ 140km/hr\n",
    "## Marengo 32\n",
    "### H0: Milage = 15km/l, top speed = 210km/hr\n",
    "### H1: Milage ≠ 15km/l, top speed ≠ 210km/hr"
   ]
  },
  {
   "cell_type": "markdown",
   "id": "c96565bb",
   "metadata": {},
   "source": [
    "## Q-2) In order to comment on whether or not the design specifications are being matched, perform relevant hypothesis tests and calculate the p-values for each model. What will you conclude? Assume that you are performing the tests at a 95% confidence level.\n",
    " \n"
   ]
  },
  {
   "cell_type": "markdown",
   "id": "81ccbca5",
   "metadata": {},
   "source": [
    "## One sample T-test for Rocinate Model "
   ]
  },
  {
   "cell_type": "code",
   "execution_count": 28,
   "id": "75603cc5",
   "metadata": {},
   "outputs": [],
   "source": [
    "population_mean_Mileage_R36 = 22  \n",
    "population_mean_Top_speed_R36 = 140"
   ]
  },
  {
   "cell_type": "code",
   "execution_count": 29,
   "id": "99c6a5eb",
   "metadata": {
    "scrolled": true
   },
   "outputs": [
    {
     "ename": "ValueError",
     "evalue": "data type <class 'numpy.object_'> not inexact",
     "output_type": "error",
     "traceback": [
      "\u001b[1;31m---------------------------------------------------------------------------\u001b[0m",
      "\u001b[1;31mValueError\u001b[0m                                Traceback (most recent call last)",
      "Cell \u001b[1;32mIn[29], line 1\u001b[0m\n\u001b[1;32m----> 1\u001b[0m t_stat_Mileage_R36, p_value_Mileage_R36 \u001b[38;5;241m=\u001b[39m stats\u001b[38;5;241m.\u001b[39mttest_1samp(R36[\u001b[38;5;124m'\u001b[39m\u001b[38;5;124mMileage_R36\u001b[39m\u001b[38;5;124m'\u001b[39m], population_mean_Mileage_R36)\n\u001b[0;32m      2\u001b[0m t_stat_top_Top_speed_R36, p_value_Top_speed_R36 \u001b[38;5;241m=\u001b[39m stats\u001b[38;5;241m.\u001b[39mttest_1samp(R36[\u001b[38;5;124m'\u001b[39m\u001b[38;5;124mTop_speed_R36\u001b[39m\u001b[38;5;124m'\u001b[39m], population_mean_Top_speed_R36)\n",
      "File \u001b[1;32m~\\anaconda3\\Lib\\site-packages\\scipy\\stats\\_axis_nan_policy.py:523\u001b[0m, in \u001b[0;36m_axis_nan_policy_factory.<locals>.axis_nan_policy_decorator.<locals>.axis_nan_policy_wrapper\u001b[1;34m(***failed resolving arguments***)\u001b[0m\n\u001b[0;32m    521\u001b[0m \u001b[38;5;28;01mif\u001b[39;00m sentinel:\n\u001b[0;32m    522\u001b[0m     samples \u001b[38;5;241m=\u001b[39m _remove_sentinel(samples, paired, sentinel)\n\u001b[1;32m--> 523\u001b[0m res \u001b[38;5;241m=\u001b[39m hypotest_fun_out(\u001b[38;5;241m*\u001b[39msamples, \u001b[38;5;241m*\u001b[39m\u001b[38;5;241m*\u001b[39mkwds)\n\u001b[0;32m    524\u001b[0m res \u001b[38;5;241m=\u001b[39m result_to_tuple(res)\n\u001b[0;32m    525\u001b[0m res \u001b[38;5;241m=\u001b[39m _add_reduced_axes(res, reduced_axes, keepdims)\n",
      "File \u001b[1;32m~\\anaconda3\\Lib\\site-packages\\scipy\\stats\\_stats_py.py:6931\u001b[0m, in \u001b[0;36mttest_1samp\u001b[1;34m(a, popmean, axis, nan_policy, alternative)\u001b[0m\n\u001b[0;32m   6929\u001b[0m     \u001b[38;5;28;01mraise\u001b[39;00m \u001b[38;5;167;01mValueError\u001b[39;00m(\u001b[38;5;124m\"\u001b[39m\u001b[38;5;124m`popmean.shape[axis]` must equal 1.\u001b[39m\u001b[38;5;124m\"\u001b[39m) \u001b[38;5;28;01mfrom\u001b[39;00m \u001b[38;5;21;01me\u001b[39;00m\n\u001b[0;32m   6930\u001b[0m d \u001b[38;5;241m=\u001b[39m mean \u001b[38;5;241m-\u001b[39m popmean\n\u001b[1;32m-> 6931\u001b[0m v \u001b[38;5;241m=\u001b[39m _var(a, axis, ddof\u001b[38;5;241m=\u001b[39m\u001b[38;5;241m1\u001b[39m)\n\u001b[0;32m   6932\u001b[0m denom \u001b[38;5;241m=\u001b[39m np\u001b[38;5;241m.\u001b[39msqrt(v \u001b[38;5;241m/\u001b[39m n)\n\u001b[0;32m   6934\u001b[0m \u001b[38;5;28;01mwith\u001b[39;00m np\u001b[38;5;241m.\u001b[39merrstate(divide\u001b[38;5;241m=\u001b[39m\u001b[38;5;124m'\u001b[39m\u001b[38;5;124mignore\u001b[39m\u001b[38;5;124m'\u001b[39m, invalid\u001b[38;5;241m=\u001b[39m\u001b[38;5;124m'\u001b[39m\u001b[38;5;124mignore\u001b[39m\u001b[38;5;124m'\u001b[39m):\n",
      "File \u001b[1;32m~\\anaconda3\\Lib\\site-packages\\scipy\\stats\\_stats_py.py:1100\u001b[0m, in \u001b[0;36m_var\u001b[1;34m(x, axis, ddof, mean)\u001b[0m\n\u001b[0;32m   1098\u001b[0m \u001b[38;5;28;01mdef\u001b[39;00m \u001b[38;5;21m_var\u001b[39m(x, axis\u001b[38;5;241m=\u001b[39m\u001b[38;5;241m0\u001b[39m, ddof\u001b[38;5;241m=\u001b[39m\u001b[38;5;241m0\u001b[39m, mean\u001b[38;5;241m=\u001b[39m\u001b[38;5;28;01mNone\u001b[39;00m):\n\u001b[0;32m   1099\u001b[0m     \u001b[38;5;66;03m# Calculate variance of sample, warning if precision is lost\u001b[39;00m\n\u001b[1;32m-> 1100\u001b[0m     var \u001b[38;5;241m=\u001b[39m _moment(x, \u001b[38;5;241m2\u001b[39m, axis, mean\u001b[38;5;241m=\u001b[39mmean)\n\u001b[0;32m   1101\u001b[0m     \u001b[38;5;28;01mif\u001b[39;00m ddof \u001b[38;5;241m!=\u001b[39m \u001b[38;5;241m0\u001b[39m:\n\u001b[0;32m   1102\u001b[0m         n \u001b[38;5;241m=\u001b[39m x\u001b[38;5;241m.\u001b[39mshape[axis] \u001b[38;5;28;01mif\u001b[39;00m axis \u001b[38;5;129;01mis\u001b[39;00m \u001b[38;5;129;01mnot\u001b[39;00m \u001b[38;5;28;01mNone\u001b[39;00m \u001b[38;5;28;01melse\u001b[39;00m x\u001b[38;5;241m.\u001b[39msize\n",
      "File \u001b[1;32m~\\anaconda3\\Lib\\site-packages\\scipy\\stats\\_stats_py.py:1072\u001b[0m, in \u001b[0;36m_moment\u001b[1;34m(a, moment, axis, mean)\u001b[0m\n\u001b[0;32m   1068\u001b[0m mean \u001b[38;5;241m=\u001b[39m (a\u001b[38;5;241m.\u001b[39mmean(axis, keepdims\u001b[38;5;241m=\u001b[39m\u001b[38;5;28;01mTrue\u001b[39;00m) \u001b[38;5;28;01mif\u001b[39;00m mean \u001b[38;5;129;01mis\u001b[39;00m \u001b[38;5;28;01mNone\u001b[39;00m\n\u001b[0;32m   1069\u001b[0m         \u001b[38;5;28;01melse\u001b[39;00m dtype(mean))\n\u001b[0;32m   1070\u001b[0m a_zero_mean \u001b[38;5;241m=\u001b[39m a \u001b[38;5;241m-\u001b[39m mean\n\u001b[1;32m-> 1072\u001b[0m eps \u001b[38;5;241m=\u001b[39m np\u001b[38;5;241m.\u001b[39mfinfo(a_zero_mean\u001b[38;5;241m.\u001b[39mdtype)\u001b[38;5;241m.\u001b[39mresolution \u001b[38;5;241m*\u001b[39m \u001b[38;5;241m10\u001b[39m\n\u001b[0;32m   1073\u001b[0m \u001b[38;5;28;01mwith\u001b[39;00m np\u001b[38;5;241m.\u001b[39merrstate(divide\u001b[38;5;241m=\u001b[39m\u001b[38;5;124m'\u001b[39m\u001b[38;5;124mignore\u001b[39m\u001b[38;5;124m'\u001b[39m, invalid\u001b[38;5;241m=\u001b[39m\u001b[38;5;124m'\u001b[39m\u001b[38;5;124mignore\u001b[39m\u001b[38;5;124m'\u001b[39m):\n\u001b[0;32m   1074\u001b[0m     rel_diff \u001b[38;5;241m=\u001b[39m np\u001b[38;5;241m.\u001b[39mmax(np\u001b[38;5;241m.\u001b[39mabs(a_zero_mean), axis\u001b[38;5;241m=\u001b[39maxis,\n\u001b[0;32m   1075\u001b[0m                       keepdims\u001b[38;5;241m=\u001b[39m\u001b[38;5;28;01mTrue\u001b[39;00m) \u001b[38;5;241m/\u001b[39m np\u001b[38;5;241m.\u001b[39mabs(mean)\n",
      "File \u001b[1;32m~\\anaconda3\\Lib\\site-packages\\numpy\\core\\getlimits.py:492\u001b[0m, in \u001b[0;36mfinfo.__new__\u001b[1;34m(cls, dtype)\u001b[0m\n\u001b[0;32m    490\u001b[0m     dtype \u001b[38;5;241m=\u001b[39m newdtype\n\u001b[0;32m    491\u001b[0m \u001b[38;5;28;01mif\u001b[39;00m \u001b[38;5;129;01mnot\u001b[39;00m \u001b[38;5;28missubclass\u001b[39m(dtype, numeric\u001b[38;5;241m.\u001b[39minexact):\n\u001b[1;32m--> 492\u001b[0m     \u001b[38;5;28;01mraise\u001b[39;00m \u001b[38;5;167;01mValueError\u001b[39;00m(\u001b[38;5;124m\"\u001b[39m\u001b[38;5;124mdata type \u001b[39m\u001b[38;5;132;01m%r\u001b[39;00m\u001b[38;5;124m not inexact\u001b[39m\u001b[38;5;124m\"\u001b[39m \u001b[38;5;241m%\u001b[39m (dtype))\n\u001b[0;32m    493\u001b[0m obj \u001b[38;5;241m=\u001b[39m \u001b[38;5;28mcls\u001b[39m\u001b[38;5;241m.\u001b[39m_finfo_cache\u001b[38;5;241m.\u001b[39mget(dtype, \u001b[38;5;28;01mNone\u001b[39;00m)\n\u001b[0;32m    494\u001b[0m \u001b[38;5;28;01mif\u001b[39;00m obj \u001b[38;5;129;01mis\u001b[39;00m \u001b[38;5;129;01mnot\u001b[39;00m \u001b[38;5;28;01mNone\u001b[39;00m:\n",
      "\u001b[1;31mValueError\u001b[0m: data type <class 'numpy.object_'> not inexact"
     ]
    }
   ],
   "source": [
    "t_stat_Mileage_R36, p_value_Mileage_R36 = stats.ttest_1samp(R36['Mileage_R36'], population_mean_Mileage_R36)\n",
    "t_stat_top_Top_speed_R36, p_value_Top_speed_R36 = stats.ttest_1samp(R36['Top_speed_R36'], population_mean_Top_speed_R36)"
   ]
  },
  {
   "cell_type": "markdown",
   "id": "3c58668c",
   "metadata": {},
   "source": [
    "## This error has occured as the data type is in Object. So it should be converted to float type to apply the function"
   ]
  },
  {
   "cell_type": "code",
   "execution_count": 30,
   "id": "75235ad8",
   "metadata": {},
   "outputs": [
    {
     "name": "stdout",
     "output_type": "stream",
     "text": [
      "Rocinante 36     object\n",
      "Mileage_R36      object\n",
      "Top_speed_R36    object\n",
      "dtype: object\n"
     ]
    }
   ],
   "source": [
    "print(R36.dtypes)"
   ]
  },
  {
   "cell_type": "markdown",
   "id": "8d6af34e",
   "metadata": {},
   "source": [
    "## Changing the data type of the variables from object to float"
   ]
  },
  {
   "cell_type": "code",
   "execution_count": 31,
   "id": "4e5aa03c",
   "metadata": {
    "scrolled": true
   },
   "outputs": [
    {
     "name": "stderr",
     "output_type": "stream",
     "text": [
      "C:\\Users\\user\\AppData\\Local\\Temp\\ipykernel_11368\\1600563823.py:1: SettingWithCopyWarning: \n",
      "A value is trying to be set on a copy of a slice from a DataFrame.\n",
      "Try using .loc[row_indexer,col_indexer] = value instead\n",
      "\n",
      "See the caveats in the documentation: https://pandas.pydata.org/pandas-docs/stable/user_guide/indexing.html#returning-a-view-versus-a-copy\n",
      "  R36['Mileage_R36'] = pd.to_numeric(R36['Mileage_R36'], errors='coerce')\n"
     ]
    },
    {
     "data": {
      "text/html": [
       "<div>\n",
       "<style scoped>\n",
       "    .dataframe tbody tr th:only-of-type {\n",
       "        vertical-align: middle;\n",
       "    }\n",
       "\n",
       "    .dataframe tbody tr th {\n",
       "        vertical-align: top;\n",
       "    }\n",
       "\n",
       "    .dataframe thead th {\n",
       "        text-align: right;\n",
       "    }\n",
       "</style>\n",
       "<table border=\"1\" class=\"dataframe\">\n",
       "  <thead>\n",
       "    <tr style=\"text-align: right;\">\n",
       "      <th></th>\n",
       "      <th>Rocinante 36</th>\n",
       "      <th>Mileage_R36</th>\n",
       "      <th>Top_speed_R36</th>\n",
       "    </tr>\n",
       "  </thead>\n",
       "  <tbody>\n",
       "    <tr>\n",
       "      <th>0</th>\n",
       "      <td>1</td>\n",
       "      <td>21.20</td>\n",
       "      <td>151.9</td>\n",
       "    </tr>\n",
       "    <tr>\n",
       "      <th>1</th>\n",
       "      <td>2</td>\n",
       "      <td>21.79</td>\n",
       "      <td>147.6</td>\n",
       "    </tr>\n",
       "    <tr>\n",
       "      <th>2</th>\n",
       "      <td>3</td>\n",
       "      <td>21.87</td>\n",
       "      <td>145.6</td>\n",
       "    </tr>\n",
       "    <tr>\n",
       "      <th>3</th>\n",
       "      <td>4</td>\n",
       "      <td>22.71</td>\n",
       "      <td>136.1</td>\n",
       "    </tr>\n",
       "    <tr>\n",
       "      <th>4</th>\n",
       "      <td>5</td>\n",
       "      <td>22.52</td>\n",
       "      <td>139.7</td>\n",
       "    </tr>\n",
       "    <tr>\n",
       "      <th>5</th>\n",
       "      <td>6</td>\n",
       "      <td>21.41</td>\n",
       "      <td>146.1</td>\n",
       "    </tr>\n",
       "    <tr>\n",
       "      <th>6</th>\n",
       "      <td>7</td>\n",
       "      <td>22.71</td>\n",
       "      <td>139.6</td>\n",
       "    </tr>\n",
       "    <tr>\n",
       "      <th>7</th>\n",
       "      <td>8</td>\n",
       "      <td>21.71</td>\n",
       "      <td>143</td>\n",
       "    </tr>\n",
       "    <tr>\n",
       "      <th>8</th>\n",
       "      <td>9</td>\n",
       "      <td>19.95</td>\n",
       "      <td>136.4</td>\n",
       "    </tr>\n",
       "    <tr>\n",
       "      <th>9</th>\n",
       "      <td>10</td>\n",
       "      <td>20.65</td>\n",
       "      <td>146.6</td>\n",
       "    </tr>\n",
       "    <tr>\n",
       "      <th>10</th>\n",
       "      <td>11</td>\n",
       "      <td>22.86</td>\n",
       "      <td>139.9</td>\n",
       "    </tr>\n",
       "    <tr>\n",
       "      <th>11</th>\n",
       "      <td>12</td>\n",
       "      <td>21.12</td>\n",
       "      <td>136.6</td>\n",
       "    </tr>\n",
       "    <tr>\n",
       "      <th>12</th>\n",
       "      <td>13</td>\n",
       "      <td>22.80</td>\n",
       "      <td>148.5</td>\n",
       "    </tr>\n",
       "    <tr>\n",
       "      <th>13</th>\n",
       "      <td>14</td>\n",
       "      <td>20.89</td>\n",
       "      <td>143.4</td>\n",
       "    </tr>\n",
       "    <tr>\n",
       "      <th>14</th>\n",
       "      <td>15</td>\n",
       "      <td>22.49</td>\n",
       "      <td>134.2</td>\n",
       "    </tr>\n",
       "    <tr>\n",
       "      <th>15</th>\n",
       "      <td>16</td>\n",
       "      <td>20.94</td>\n",
       "      <td>140.5</td>\n",
       "    </tr>\n",
       "    <tr>\n",
       "      <th>16</th>\n",
       "      <td>17</td>\n",
       "      <td>20.37</td>\n",
       "      <td>137.8</td>\n",
       "    </tr>\n",
       "    <tr>\n",
       "      <th>17</th>\n",
       "      <td>18</td>\n",
       "      <td>22.72</td>\n",
       "      <td>135.1</td>\n",
       "    </tr>\n",
       "    <tr>\n",
       "      <th>18</th>\n",
       "      <td>19</td>\n",
       "      <td>20.54</td>\n",
       "      <td>138.8</td>\n",
       "    </tr>\n",
       "    <tr>\n",
       "      <th>19</th>\n",
       "      <td>20</td>\n",
       "      <td>21.14</td>\n",
       "      <td>132</td>\n",
       "    </tr>\n",
       "  </tbody>\n",
       "</table>\n",
       "</div>"
      ],
      "text/plain": [
       "   Rocinante 36  Mileage_R36 Top_speed_R36\n",
       "0             1        21.20         151.9\n",
       "1             2        21.79         147.6\n",
       "2             3        21.87         145.6\n",
       "3             4        22.71         136.1\n",
       "4             5        22.52         139.7\n",
       "5             6        21.41         146.1\n",
       "6             7        22.71         139.6\n",
       "7             8        21.71           143\n",
       "8             9        19.95         136.4\n",
       "9            10        20.65         146.6\n",
       "10           11        22.86         139.9\n",
       "11           12        21.12         136.6\n",
       "12           13        22.80         148.5\n",
       "13           14        20.89         143.4\n",
       "14           15        22.49         134.2\n",
       "15           16        20.94         140.5\n",
       "16           17        20.37         137.8\n",
       "17           18        22.72         135.1\n",
       "18           19        20.54         138.8\n",
       "19           20        21.14           132"
      ]
     },
     "execution_count": 31,
     "metadata": {},
     "output_type": "execute_result"
    }
   ],
   "source": [
    "R36['Mileage_R36'] = pd.to_numeric(R36['Mileage_R36'], errors='coerce')\n",
    "R36"
   ]
  },
  {
   "cell_type": "code",
   "execution_count": 32,
   "id": "b1a97814",
   "metadata": {},
   "outputs": [
    {
     "name": "stdout",
     "output_type": "stream",
     "text": [
      "Rocinante 36      object\n",
      "Mileage_R36      float64\n",
      "Top_speed_R36     object\n",
      "dtype: object\n"
     ]
    }
   ],
   "source": [
    "print(R36.dtypes)"
   ]
  },
  {
   "cell_type": "code",
   "execution_count": 33,
   "id": "1b2da611",
   "metadata": {},
   "outputs": [
    {
     "name": "stderr",
     "output_type": "stream",
     "text": [
      "C:\\Users\\user\\AppData\\Local\\Temp\\ipykernel_11368\\156301483.py:1: SettingWithCopyWarning: \n",
      "A value is trying to be set on a copy of a slice from a DataFrame.\n",
      "Try using .loc[row_indexer,col_indexer] = value instead\n",
      "\n",
      "See the caveats in the documentation: https://pandas.pydata.org/pandas-docs/stable/user_guide/indexing.html#returning-a-view-versus-a-copy\n",
      "  R36['Top_speed_R36'] = pd.to_numeric(R36['Top_speed_R36'], errors='coerce')\n"
     ]
    },
    {
     "data": {
      "text/html": [
       "<div>\n",
       "<style scoped>\n",
       "    .dataframe tbody tr th:only-of-type {\n",
       "        vertical-align: middle;\n",
       "    }\n",
       "\n",
       "    .dataframe tbody tr th {\n",
       "        vertical-align: top;\n",
       "    }\n",
       "\n",
       "    .dataframe thead th {\n",
       "        text-align: right;\n",
       "    }\n",
       "</style>\n",
       "<table border=\"1\" class=\"dataframe\">\n",
       "  <thead>\n",
       "    <tr style=\"text-align: right;\">\n",
       "      <th></th>\n",
       "      <th>Rocinante 36</th>\n",
       "      <th>Mileage_R36</th>\n",
       "      <th>Top_speed_R36</th>\n",
       "    </tr>\n",
       "  </thead>\n",
       "  <tbody>\n",
       "    <tr>\n",
       "      <th>0</th>\n",
       "      <td>1</td>\n",
       "      <td>21.20</td>\n",
       "      <td>151.9</td>\n",
       "    </tr>\n",
       "    <tr>\n",
       "      <th>1</th>\n",
       "      <td>2</td>\n",
       "      <td>21.79</td>\n",
       "      <td>147.6</td>\n",
       "    </tr>\n",
       "    <tr>\n",
       "      <th>2</th>\n",
       "      <td>3</td>\n",
       "      <td>21.87</td>\n",
       "      <td>145.6</td>\n",
       "    </tr>\n",
       "    <tr>\n",
       "      <th>3</th>\n",
       "      <td>4</td>\n",
       "      <td>22.71</td>\n",
       "      <td>136.1</td>\n",
       "    </tr>\n",
       "    <tr>\n",
       "      <th>4</th>\n",
       "      <td>5</td>\n",
       "      <td>22.52</td>\n",
       "      <td>139.7</td>\n",
       "    </tr>\n",
       "    <tr>\n",
       "      <th>5</th>\n",
       "      <td>6</td>\n",
       "      <td>21.41</td>\n",
       "      <td>146.1</td>\n",
       "    </tr>\n",
       "    <tr>\n",
       "      <th>6</th>\n",
       "      <td>7</td>\n",
       "      <td>22.71</td>\n",
       "      <td>139.6</td>\n",
       "    </tr>\n",
       "    <tr>\n",
       "      <th>7</th>\n",
       "      <td>8</td>\n",
       "      <td>21.71</td>\n",
       "      <td>143.0</td>\n",
       "    </tr>\n",
       "    <tr>\n",
       "      <th>8</th>\n",
       "      <td>9</td>\n",
       "      <td>19.95</td>\n",
       "      <td>136.4</td>\n",
       "    </tr>\n",
       "    <tr>\n",
       "      <th>9</th>\n",
       "      <td>10</td>\n",
       "      <td>20.65</td>\n",
       "      <td>146.6</td>\n",
       "    </tr>\n",
       "    <tr>\n",
       "      <th>10</th>\n",
       "      <td>11</td>\n",
       "      <td>22.86</td>\n",
       "      <td>139.9</td>\n",
       "    </tr>\n",
       "    <tr>\n",
       "      <th>11</th>\n",
       "      <td>12</td>\n",
       "      <td>21.12</td>\n",
       "      <td>136.6</td>\n",
       "    </tr>\n",
       "    <tr>\n",
       "      <th>12</th>\n",
       "      <td>13</td>\n",
       "      <td>22.80</td>\n",
       "      <td>148.5</td>\n",
       "    </tr>\n",
       "    <tr>\n",
       "      <th>13</th>\n",
       "      <td>14</td>\n",
       "      <td>20.89</td>\n",
       "      <td>143.4</td>\n",
       "    </tr>\n",
       "    <tr>\n",
       "      <th>14</th>\n",
       "      <td>15</td>\n",
       "      <td>22.49</td>\n",
       "      <td>134.2</td>\n",
       "    </tr>\n",
       "    <tr>\n",
       "      <th>15</th>\n",
       "      <td>16</td>\n",
       "      <td>20.94</td>\n",
       "      <td>140.5</td>\n",
       "    </tr>\n",
       "    <tr>\n",
       "      <th>16</th>\n",
       "      <td>17</td>\n",
       "      <td>20.37</td>\n",
       "      <td>137.8</td>\n",
       "    </tr>\n",
       "    <tr>\n",
       "      <th>17</th>\n",
       "      <td>18</td>\n",
       "      <td>22.72</td>\n",
       "      <td>135.1</td>\n",
       "    </tr>\n",
       "    <tr>\n",
       "      <th>18</th>\n",
       "      <td>19</td>\n",
       "      <td>20.54</td>\n",
       "      <td>138.8</td>\n",
       "    </tr>\n",
       "    <tr>\n",
       "      <th>19</th>\n",
       "      <td>20</td>\n",
       "      <td>21.14</td>\n",
       "      <td>132.0</td>\n",
       "    </tr>\n",
       "  </tbody>\n",
       "</table>\n",
       "</div>"
      ],
      "text/plain": [
       "   Rocinante 36  Mileage_R36  Top_speed_R36\n",
       "0             1        21.20          151.9\n",
       "1             2        21.79          147.6\n",
       "2             3        21.87          145.6\n",
       "3             4        22.71          136.1\n",
       "4             5        22.52          139.7\n",
       "5             6        21.41          146.1\n",
       "6             7        22.71          139.6\n",
       "7             8        21.71          143.0\n",
       "8             9        19.95          136.4\n",
       "9            10        20.65          146.6\n",
       "10           11        22.86          139.9\n",
       "11           12        21.12          136.6\n",
       "12           13        22.80          148.5\n",
       "13           14        20.89          143.4\n",
       "14           15        22.49          134.2\n",
       "15           16        20.94          140.5\n",
       "16           17        20.37          137.8\n",
       "17           18        22.72          135.1\n",
       "18           19        20.54          138.8\n",
       "19           20        21.14          132.0"
      ]
     },
     "execution_count": 33,
     "metadata": {},
     "output_type": "execute_result"
    }
   ],
   "source": [
    "R36['Top_speed_R36'] = pd.to_numeric(R36['Top_speed_R36'], errors='coerce')\n",
    "R36"
   ]
  },
  {
   "cell_type": "code",
   "execution_count": 34,
   "id": "5757ddd8",
   "metadata": {},
   "outputs": [
    {
     "name": "stdout",
     "output_type": "stream",
     "text": [
      "Rocinante 36      object\n",
      "Mileage_R36      float64\n",
      "Top_speed_R36    float64\n",
      "dtype: object\n"
     ]
    }
   ],
   "source": [
    "print(R36.dtypes)"
   ]
  },
  {
   "cell_type": "markdown",
   "id": "e86a1bdf",
   "metadata": {},
   "source": [
    "## Reapplying the function for One- sample t-test"
   ]
  },
  {
   "cell_type": "code",
   "execution_count": 35,
   "id": "a28bb6a7",
   "metadata": {},
   "outputs": [],
   "source": [
    "t_stat_Mileage_R36, p_value_Mileage_R36 = stats.ttest_1samp(R36['Mileage_R36'], population_mean_Mileage_R36)\n",
    "t_stat_Top_speed_R36, p_value_Top_speed_R36 = stats.ttest_1samp(R36['Top_speed_R36'], population_mean_Top_speed_R36)"
   ]
  },
  {
   "cell_type": "code",
   "execution_count": 36,
   "id": "b86eebbe",
   "metadata": {
    "scrolled": true
   },
   "outputs": [
    {
     "name": "stdout",
     "output_type": "stream",
     "text": [
      "One-sample t-test for Mileage_R36: t-statistic = -1.8350746065984094, p-value = 0.08220024707686456\n",
      "One-sample t-test for Top_Speed_R36: t-statistic = 0.803602305363553, p-value = 0.43156615071637905\n"
     ]
    }
   ],
   "source": [
    "print(f\"One-sample t-test for Mileage_R36: t-statistic = {t_stat_Mileage_R36}, p-value = {p_value_Mileage_R36}\")\n",
    "print(f\"One-sample t-test for Top_Speed_R36: t-statistic = {t_stat_Top_speed_R36}, p-value = {p_value_Top_speed_R36}\")"
   ]
  },
  {
   "cell_type": "markdown",
   "id": "5786f176",
   "metadata": {},
   "source": [
    "## Result\n",
    "### Both the milage and top speed have the p-value > than 0.05 hence we accept the null hypothesis i.e. the given milage and top speed claimed by the random motors is true for the Rocinate 36 model"
   ]
  },
  {
   "cell_type": "markdown",
   "id": "cf4fb7b2",
   "metadata": {},
   "source": [
    "## Subsetting for Marengo 32 Model "
   ]
  },
  {
   "cell_type": "code",
   "execution_count": 37,
   "id": "723f8dad",
   "metadata": {
    "scrolled": false
   },
   "outputs": [
    {
     "data": {
      "text/html": [
       "<div>\n",
       "<style scoped>\n",
       "    .dataframe tbody tr th:only-of-type {\n",
       "        vertical-align: middle;\n",
       "    }\n",
       "\n",
       "    .dataframe tbody tr th {\n",
       "        vertical-align: top;\n",
       "    }\n",
       "\n",
       "    .dataframe thead th {\n",
       "        text-align: right;\n",
       "    }\n",
       "</style>\n",
       "<table border=\"1\" class=\"dataframe\">\n",
       "  <thead>\n",
       "    <tr style=\"text-align: right;\">\n",
       "      <th></th>\n",
       "      <th>Marengo 32</th>\n",
       "      <th>Mileage_M32</th>\n",
       "      <th>Top_speed_M32</th>\n",
       "    </tr>\n",
       "  </thead>\n",
       "  <tbody>\n",
       "    <tr>\n",
       "      <th>0</th>\n",
       "      <td>1</td>\n",
       "      <td>15.04</td>\n",
       "      <td>211.3</td>\n",
       "    </tr>\n",
       "    <tr>\n",
       "      <th>1</th>\n",
       "      <td>2</td>\n",
       "      <td>15.41</td>\n",
       "      <td>207</td>\n",
       "    </tr>\n",
       "    <tr>\n",
       "      <th>2</th>\n",
       "      <td>3</td>\n",
       "      <td>15.43</td>\n",
       "      <td>206.2</td>\n",
       "    </tr>\n",
       "    <tr>\n",
       "      <th>3</th>\n",
       "      <td>4</td>\n",
       "      <td>15.92</td>\n",
       "      <td>213.4</td>\n",
       "    </tr>\n",
       "    <tr>\n",
       "      <th>4</th>\n",
       "      <td>5</td>\n",
       "      <td>15.2</td>\n",
       "      <td>204.2</td>\n",
       "    </tr>\n",
       "    <tr>\n",
       "      <th>5</th>\n",
       "      <td>6</td>\n",
       "      <td>15.22</td>\n",
       "      <td>208.7</td>\n",
       "    </tr>\n",
       "    <tr>\n",
       "      <th>6</th>\n",
       "      <td>7</td>\n",
       "      <td>14.6</td>\n",
       "      <td>200</td>\n",
       "    </tr>\n",
       "    <tr>\n",
       "      <th>7</th>\n",
       "      <td>8</td>\n",
       "      <td>14.41</td>\n",
       "      <td>210.9</td>\n",
       "    </tr>\n",
       "    <tr>\n",
       "      <th>8</th>\n",
       "      <td>9</td>\n",
       "      <td>14.79</td>\n",
       "      <td>208.5</td>\n",
       "    </tr>\n",
       "    <tr>\n",
       "      <th>9</th>\n",
       "      <td>10</td>\n",
       "      <td>14.81</td>\n",
       "      <td>214.2</td>\n",
       "    </tr>\n",
       "    <tr>\n",
       "      <th>10</th>\n",
       "      <td>11</td>\n",
       "      <td>15.61</td>\n",
       "      <td>215.8</td>\n",
       "    </tr>\n",
       "    <tr>\n",
       "      <th>11</th>\n",
       "      <td>12</td>\n",
       "      <td>15.76</td>\n",
       "      <td>215.8</td>\n",
       "    </tr>\n",
       "    <tr>\n",
       "      <th>12</th>\n",
       "      <td>13</td>\n",
       "      <td>14.97</td>\n",
       "      <td>215.2</td>\n",
       "    </tr>\n",
       "    <tr>\n",
       "      <th>13</th>\n",
       "      <td>14</td>\n",
       "      <td>14.71</td>\n",
       "      <td>218.7</td>\n",
       "    </tr>\n",
       "    <tr>\n",
       "      <th>14</th>\n",
       "      <td>15</td>\n",
       "      <td>15.55</td>\n",
       "      <td>208</td>\n",
       "    </tr>\n",
       "    <tr>\n",
       "      <th>15</th>\n",
       "      <td>16</td>\n",
       "      <td>15.19</td>\n",
       "      <td>212.2</td>\n",
       "    </tr>\n",
       "    <tr>\n",
       "      <th>16</th>\n",
       "      <td>17</td>\n",
       "      <td>15.36</td>\n",
       "      <td>219.7</td>\n",
       "    </tr>\n",
       "    <tr>\n",
       "      <th>17</th>\n",
       "      <td>18</td>\n",
       "      <td>15.93</td>\n",
       "      <td>216.4</td>\n",
       "    </tr>\n",
       "    <tr>\n",
       "      <th>18</th>\n",
       "      <td>19</td>\n",
       "      <td>14.54</td>\n",
       "      <td>205.8</td>\n",
       "    </tr>\n",
       "    <tr>\n",
       "      <th>19</th>\n",
       "      <td>20</td>\n",
       "      <td>14.76</td>\n",
       "      <td>209</td>\n",
       "    </tr>\n",
       "  </tbody>\n",
       "</table>\n",
       "</div>"
      ],
      "text/plain": [
       "   Marengo 32 Mileage_M32 Top_speed_M32\n",
       "0           1       15.04         211.3\n",
       "1           2       15.41           207\n",
       "2           3       15.43         206.2\n",
       "3           4       15.92         213.4\n",
       "4           5        15.2         204.2\n",
       "5           6       15.22         208.7\n",
       "6           7        14.6           200\n",
       "7           8       14.41         210.9\n",
       "8           9       14.79         208.5\n",
       "9          10       14.81         214.2\n",
       "10         11       15.61         215.8\n",
       "11         12       15.76         215.8\n",
       "12         13       14.97         215.2\n",
       "13         14       14.71         218.7\n",
       "14         15       15.55           208\n",
       "15         16       15.19         212.2\n",
       "16         17       15.36         219.7\n",
       "17         18       15.93         216.4\n",
       "18         19       14.54         205.8\n",
       "19         20       14.76           209"
      ]
     },
     "execution_count": 37,
     "metadata": {},
     "output_type": "execute_result"
    }
   ],
   "source": [
    "M32= rm[['Marengo 32','Mileage_M32','Top_speed_M32']]\n",
    "M32"
   ]
  },
  {
   "cell_type": "code",
   "execution_count": 38,
   "id": "09d81ae1",
   "metadata": {
    "scrolled": true
   },
   "outputs": [
    {
     "name": "stdout",
     "output_type": "stream",
     "text": [
      "Marengo 32       object\n",
      "Mileage_M32      object\n",
      "Top_speed_M32    object\n",
      "dtype: object\n"
     ]
    }
   ],
   "source": [
    "print(M32.dtypes)"
   ]
  },
  {
   "cell_type": "markdown",
   "id": "d573cf30",
   "metadata": {},
   "source": [
    "## Changing the data type from object to float"
   ]
  },
  {
   "cell_type": "code",
   "execution_count": 39,
   "id": "b833a023",
   "metadata": {
    "scrolled": true
   },
   "outputs": [
    {
     "name": "stderr",
     "output_type": "stream",
     "text": [
      "C:\\Users\\user\\AppData\\Local\\Temp\\ipykernel_11368\\1455539259.py:1: SettingWithCopyWarning: \n",
      "A value is trying to be set on a copy of a slice from a DataFrame.\n",
      "Try using .loc[row_indexer,col_indexer] = value instead\n",
      "\n",
      "See the caveats in the documentation: https://pandas.pydata.org/pandas-docs/stable/user_guide/indexing.html#returning-a-view-versus-a-copy\n",
      "  M32['Mileage_M32'] = pd.to_numeric(M32['Mileage_M32'], errors='coerce')\n",
      "C:\\Users\\user\\AppData\\Local\\Temp\\ipykernel_11368\\1455539259.py:3: SettingWithCopyWarning: \n",
      "A value is trying to be set on a copy of a slice from a DataFrame.\n",
      "Try using .loc[row_indexer,col_indexer] = value instead\n",
      "\n",
      "See the caveats in the documentation: https://pandas.pydata.org/pandas-docs/stable/user_guide/indexing.html#returning-a-view-versus-a-copy\n",
      "  M32['Top_speed_M32'] = pd.to_numeric(M32['Top_speed_M32'], errors='coerce')\n"
     ]
    },
    {
     "data": {
      "text/html": [
       "<div>\n",
       "<style scoped>\n",
       "    .dataframe tbody tr th:only-of-type {\n",
       "        vertical-align: middle;\n",
       "    }\n",
       "\n",
       "    .dataframe tbody tr th {\n",
       "        vertical-align: top;\n",
       "    }\n",
       "\n",
       "    .dataframe thead th {\n",
       "        text-align: right;\n",
       "    }\n",
       "</style>\n",
       "<table border=\"1\" class=\"dataframe\">\n",
       "  <thead>\n",
       "    <tr style=\"text-align: right;\">\n",
       "      <th></th>\n",
       "      <th>Marengo 32</th>\n",
       "      <th>Mileage_M32</th>\n",
       "      <th>Top_speed_M32</th>\n",
       "    </tr>\n",
       "  </thead>\n",
       "  <tbody>\n",
       "    <tr>\n",
       "      <th>0</th>\n",
       "      <td>1</td>\n",
       "      <td>15.04</td>\n",
       "      <td>211.3</td>\n",
       "    </tr>\n",
       "    <tr>\n",
       "      <th>1</th>\n",
       "      <td>2</td>\n",
       "      <td>15.41</td>\n",
       "      <td>207.0</td>\n",
       "    </tr>\n",
       "    <tr>\n",
       "      <th>2</th>\n",
       "      <td>3</td>\n",
       "      <td>15.43</td>\n",
       "      <td>206.2</td>\n",
       "    </tr>\n",
       "    <tr>\n",
       "      <th>3</th>\n",
       "      <td>4</td>\n",
       "      <td>15.92</td>\n",
       "      <td>213.4</td>\n",
       "    </tr>\n",
       "    <tr>\n",
       "      <th>4</th>\n",
       "      <td>5</td>\n",
       "      <td>15.20</td>\n",
       "      <td>204.2</td>\n",
       "    </tr>\n",
       "    <tr>\n",
       "      <th>5</th>\n",
       "      <td>6</td>\n",
       "      <td>15.22</td>\n",
       "      <td>208.7</td>\n",
       "    </tr>\n",
       "    <tr>\n",
       "      <th>6</th>\n",
       "      <td>7</td>\n",
       "      <td>14.60</td>\n",
       "      <td>200.0</td>\n",
       "    </tr>\n",
       "    <tr>\n",
       "      <th>7</th>\n",
       "      <td>8</td>\n",
       "      <td>14.41</td>\n",
       "      <td>210.9</td>\n",
       "    </tr>\n",
       "    <tr>\n",
       "      <th>8</th>\n",
       "      <td>9</td>\n",
       "      <td>14.79</td>\n",
       "      <td>208.5</td>\n",
       "    </tr>\n",
       "    <tr>\n",
       "      <th>9</th>\n",
       "      <td>10</td>\n",
       "      <td>14.81</td>\n",
       "      <td>214.2</td>\n",
       "    </tr>\n",
       "    <tr>\n",
       "      <th>10</th>\n",
       "      <td>11</td>\n",
       "      <td>15.61</td>\n",
       "      <td>215.8</td>\n",
       "    </tr>\n",
       "    <tr>\n",
       "      <th>11</th>\n",
       "      <td>12</td>\n",
       "      <td>15.76</td>\n",
       "      <td>215.8</td>\n",
       "    </tr>\n",
       "    <tr>\n",
       "      <th>12</th>\n",
       "      <td>13</td>\n",
       "      <td>14.97</td>\n",
       "      <td>215.2</td>\n",
       "    </tr>\n",
       "    <tr>\n",
       "      <th>13</th>\n",
       "      <td>14</td>\n",
       "      <td>14.71</td>\n",
       "      <td>218.7</td>\n",
       "    </tr>\n",
       "    <tr>\n",
       "      <th>14</th>\n",
       "      <td>15</td>\n",
       "      <td>15.55</td>\n",
       "      <td>208.0</td>\n",
       "    </tr>\n",
       "    <tr>\n",
       "      <th>15</th>\n",
       "      <td>16</td>\n",
       "      <td>15.19</td>\n",
       "      <td>212.2</td>\n",
       "    </tr>\n",
       "    <tr>\n",
       "      <th>16</th>\n",
       "      <td>17</td>\n",
       "      <td>15.36</td>\n",
       "      <td>219.7</td>\n",
       "    </tr>\n",
       "    <tr>\n",
       "      <th>17</th>\n",
       "      <td>18</td>\n",
       "      <td>15.93</td>\n",
       "      <td>216.4</td>\n",
       "    </tr>\n",
       "    <tr>\n",
       "      <th>18</th>\n",
       "      <td>19</td>\n",
       "      <td>14.54</td>\n",
       "      <td>205.8</td>\n",
       "    </tr>\n",
       "    <tr>\n",
       "      <th>19</th>\n",
       "      <td>20</td>\n",
       "      <td>14.76</td>\n",
       "      <td>209.0</td>\n",
       "    </tr>\n",
       "  </tbody>\n",
       "</table>\n",
       "</div>"
      ],
      "text/plain": [
       "   Marengo 32  Mileage_M32  Top_speed_M32\n",
       "0           1        15.04          211.3\n",
       "1           2        15.41          207.0\n",
       "2           3        15.43          206.2\n",
       "3           4        15.92          213.4\n",
       "4           5        15.20          204.2\n",
       "5           6        15.22          208.7\n",
       "6           7        14.60          200.0\n",
       "7           8        14.41          210.9\n",
       "8           9        14.79          208.5\n",
       "9          10        14.81          214.2\n",
       "10         11        15.61          215.8\n",
       "11         12        15.76          215.8\n",
       "12         13        14.97          215.2\n",
       "13         14        14.71          218.7\n",
       "14         15        15.55          208.0\n",
       "15         16        15.19          212.2\n",
       "16         17        15.36          219.7\n",
       "17         18        15.93          216.4\n",
       "18         19        14.54          205.8\n",
       "19         20        14.76          209.0"
      ]
     },
     "execution_count": 39,
     "metadata": {},
     "output_type": "execute_result"
    }
   ],
   "source": [
    "M32['Mileage_M32'] = pd.to_numeric(M32['Mileage_M32'], errors='coerce')\n",
    "M32\n",
    "M32['Top_speed_M32'] = pd.to_numeric(M32['Top_speed_M32'], errors='coerce')\n",
    "M32"
   ]
  },
  {
   "cell_type": "code",
   "execution_count": 40,
   "id": "7bbf186e",
   "metadata": {},
   "outputs": [
    {
     "name": "stdout",
     "output_type": "stream",
     "text": [
      "Marengo 32        object\n",
      "Mileage_M32      float64\n",
      "Top_speed_M32    float64\n",
      "dtype: object\n"
     ]
    }
   ],
   "source": [
    "print(M32.dtypes)"
   ]
  },
  {
   "cell_type": "markdown",
   "id": "77aff5c1",
   "metadata": {},
   "source": [
    "## One sample t-test for the marengo 32 model"
   ]
  },
  {
   "cell_type": "code",
   "execution_count": 41,
   "id": "8d151c68",
   "metadata": {},
   "outputs": [],
   "source": [
    "population_mean_Mileage_M32 = 15 \n",
    "population_mean_Top_speed_M32 = 210"
   ]
  },
  {
   "cell_type": "code",
   "execution_count": 42,
   "id": "499b7e86",
   "metadata": {},
   "outputs": [],
   "source": [
    "t_stat_Mileage_M32, p_value_Mileage_M32 = stats.ttest_1samp(M32['Mileage_M32'], population_mean_Mileage_M32)\n",
    "t_stat_Top_speed_M32, p_value_Top_speed_M32 = stats.ttest_1samp(M32['Top_speed_M32'], population_mean_Top_speed_M32)"
   ]
  },
  {
   "cell_type": "code",
   "execution_count": 43,
   "id": "9b4c5c54",
   "metadata": {
    "scrolled": true
   },
   "outputs": [
    {
     "name": "stdout",
     "output_type": "stream",
     "text": [
      "One-sample t-test for Mileage_M32: t-statistic = 1.5644592519493412, p-value = 0.13421298678380816\n",
      "One-sample t-test for Top_Speed_M32: t-statistic = 0.9124445171733968, p-value = 0.3729676712183989\n"
     ]
    }
   ],
   "source": [
    "print(f\"One-sample t-test for Mileage_M32: t-statistic = {t_stat_Mileage_M32}, p-value = {p_value_Mileage_M32}\")\n",
    "print(f\"One-sample t-test for Top_Speed_M32: t-statistic = {t_stat_Top_speed_M32}, p-value = {p_value_Top_speed_M32}\")"
   ]
  },
  {
   "cell_type": "markdown",
   "id": "92d98d87",
   "metadata": {},
   "source": [
    "## Result\n",
    "### Both the milage and top speed have the p-value > than 0.05 hence we accept the null hypothesis i.e. the given milage and top speed claimed by the random motors is true for the Marengo 32 model"
   ]
  },
  {
   "cell_type": "markdown",
   "id": "d1ffcce9",
   "metadata": {},
   "source": [
    "## Q-3) You have already learnt about the possible errors that might result from hypothesis tests. Which type of error is more expensive for Random Motors, and why? Assume that you need to refund the money to all your customers if your cars do not deliver the promised specifications.\n",
    "\n",
    "### H0:                        TRUE                                        FALSE\n",
    "### Reject:       Type 1 Error(α)                         Correct Decision (1-β)\n",
    "### Accept:      Correct Decision (1-α)            Type 2 Error (β)\n",
    "\n",
    "## Answer\n",
    "### Type 2 Error will be more expensive to the Random Motors because if the H0 is false and they accept it then the cars might not perform as expected and they have to refund the complete money to the consumers, but if the H0 is true and not accepted then the company might loose on some business but there wont be any issues with the expected performance of the cars. In type 1 errornot only they will loose the money but they can also face the issue of reputation and company brand image if the cars do not perform well.\n"
   ]
  },
  {
   "cell_type": "markdown",
   "id": "91ad6f69",
   "metadata": {},
   "source": [
    "## Q-4) Develop a regression equation for each model at a 95% confidence level. Using the regression equation, predict the sales of the two models. State the hypothesis assumption for the overall test and individual variables.\n",
    "### Sub-questions: \n",
    "### a)\tOverall significance of regression and significance of individual variables\n",
    "### b)\tPredict the sales at specified price, mileage and top speed for both models\n",
    "### c)\tIncrease the input values by 5% and check the sales\n",
    "### d)\tDecrease the input values by 5% and check the sales \n",
    "### Assumptions:\n",
    "### a)\tError term is normally distributed with mean 0 and constant variance\n",
    "### b)\tInput variables are independent of each other xi#xj ( VIF)\n",
    "### c)\tSuccessive error term is independent \n",
    "### d)\tSpecification bias\n",
    "\n",
    "### Find out outliers in independent variables(hat-diagonal) and outliers in dependent(studentized residuals) variable [ Rocinate : check what is R2 is before excluding outliers (in x and y variables) and after removing outliers ]\n"
   ]
  },
  {
   "cell_type": "markdown",
   "id": "4f6841cf",
   "metadata": {},
   "source": [
    "## Importing the sales and price data set "
   ]
  },
  {
   "cell_type": "code",
   "execution_count": 44,
   "id": "17ecd8b1",
   "metadata": {},
   "outputs": [
    {
     "data": {
      "text/plain": [
       "<pandas.io.excel._base.ExcelFile at 0x217158ee410>"
      ]
     },
     "execution_count": 44,
     "metadata": {},
     "output_type": "execute_result"
    }
   ],
   "source": [
    "os.chdir('C:\\Application of Software')\n",
    "RM1 = pd.ExcelFile('Exhibit+2.xlsx')\n",
    "RM1"
   ]
  },
  {
   "cell_type": "code",
   "execution_count": 45,
   "id": "e0564082",
   "metadata": {},
   "outputs": [],
   "source": [
    "Rmodel = pd.read_excel(RM1, 'Rocinante Models')\n",
    "Mmodel= pd.read_excel(RM1, 'Marengo Models')"
   ]
  },
  {
   "cell_type": "markdown",
   "id": "ed787258",
   "metadata": {},
   "source": [
    "## EDA for Rocinate model"
   ]
  },
  {
   "cell_type": "code",
   "execution_count": 46,
   "id": "5cbd83e5",
   "metadata": {
    "scrolled": true
   },
   "outputs": [
    {
     "data": {
      "text/html": [
       "<div>\n",
       "<style scoped>\n",
       "    .dataframe tbody tr th:only-of-type {\n",
       "        vertical-align: middle;\n",
       "    }\n",
       "\n",
       "    .dataframe tbody tr th {\n",
       "        vertical-align: top;\n",
       "    }\n",
       "\n",
       "    .dataframe thead th {\n",
       "        text-align: right;\n",
       "    }\n",
       "</style>\n",
       "<table border=\"1\" class=\"dataframe\">\n",
       "  <thead>\n",
       "    <tr style=\"text-align: right;\">\n",
       "      <th></th>\n",
       "      <th>Cars</th>\n",
       "      <th>Sales \\n(in 1,000 units)</th>\n",
       "      <th>Price\\n(in lakh rupees)</th>\n",
       "      <th>Mileage\\n(Km/ltr)</th>\n",
       "      <th>Top speed (Km/hr)</th>\n",
       "    </tr>\n",
       "  </thead>\n",
       "  <tbody>\n",
       "    <tr>\n",
       "      <th>0</th>\n",
       "      <td>Rocinante 1</td>\n",
       "      <td>171.877</td>\n",
       "      <td>6.1</td>\n",
       "      <td>15.8</td>\n",
       "      <td>168.2</td>\n",
       "    </tr>\n",
       "    <tr>\n",
       "      <th>1</th>\n",
       "      <td>Rocinante 2</td>\n",
       "      <td>139.796</td>\n",
       "      <td>6.1</td>\n",
       "      <td>12.1</td>\n",
       "      <td>149.6</td>\n",
       "    </tr>\n",
       "    <tr>\n",
       "      <th>2</th>\n",
       "      <td>Rocinante 3</td>\n",
       "      <td>178.947</td>\n",
       "      <td>9.9</td>\n",
       "      <td>17.0</td>\n",
       "      <td>173.4</td>\n",
       "    </tr>\n",
       "    <tr>\n",
       "      <th>3</th>\n",
       "      <td>Rocinante 4</td>\n",
       "      <td>140.022</td>\n",
       "      <td>5.8</td>\n",
       "      <td>11.6</td>\n",
       "      <td>170.6</td>\n",
       "    </tr>\n",
       "    <tr>\n",
       "      <th>4</th>\n",
       "      <td>Rocinante 5</td>\n",
       "      <td>186.476</td>\n",
       "      <td>10.0</td>\n",
       "      <td>17.2</td>\n",
       "      <td>175.0</td>\n",
       "    </tr>\n",
       "  </tbody>\n",
       "</table>\n",
       "</div>"
      ],
      "text/plain": [
       "          Cars  Sales \\n(in 1,000 units)  Price\\n(in lakh rupees)  \\\n",
       "0  Rocinante 1                   171.877                      6.1   \n",
       "1  Rocinante 2                   139.796                      6.1   \n",
       "2  Rocinante 3                   178.947                      9.9   \n",
       "3  Rocinante 4                   140.022                      5.8   \n",
       "4  Rocinante 5                   186.476                     10.0   \n",
       "\n",
       "   Mileage\\n(Km/ltr)  Top speed (Km/hr)  \n",
       "0               15.8              168.2  \n",
       "1               12.1              149.6  \n",
       "2               17.0              173.4  \n",
       "3               11.6              170.6  \n",
       "4               17.2              175.0  "
      ]
     },
     "execution_count": 46,
     "metadata": {},
     "output_type": "execute_result"
    }
   ],
   "source": [
    "Rmodel.head()"
   ]
  },
  {
   "cell_type": "code",
   "execution_count": 47,
   "id": "865bf7be",
   "metadata": {},
   "outputs": [
    {
     "data": {
      "text/plain": [
       "(35, 5)"
      ]
     },
     "execution_count": 47,
     "metadata": {},
     "output_type": "execute_result"
    }
   ],
   "source": [
    "Rmodel.shape"
   ]
  },
  {
   "cell_type": "code",
   "execution_count": 48,
   "id": "cc2ed8ac",
   "metadata": {
    "scrolled": true
   },
   "outputs": [
    {
     "data": {
      "text/plain": [
       "0"
      ]
     },
     "execution_count": 48,
     "metadata": {},
     "output_type": "execute_result"
    }
   ],
   "source": [
    "Rmodel.isnull().any().sum()"
   ]
  },
  {
   "cell_type": "code",
   "execution_count": 49,
   "id": "40dad36b",
   "metadata": {},
   "outputs": [],
   "source": [
    "import statsmodels.api as sm"
   ]
  },
  {
   "cell_type": "markdown",
   "id": "38852802",
   "metadata": {},
   "source": [
    "## Fitting a MLR line for Rocinate Model "
   ]
  },
  {
   "cell_type": "code",
   "execution_count": 50,
   "id": "c09bb0be",
   "metadata": {},
   "outputs": [],
   "source": [
    "y = Rmodel['Sales \\n(in 1,000 units)']\n",
    "x = Rmodel[['Price\\n(in lakh rupees)','Mileage\\n(Km/ltr)','Top speed (Km/hr)']]"
   ]
  },
  {
   "cell_type": "code",
   "execution_count": 51,
   "id": "545cc47c",
   "metadata": {},
   "outputs": [],
   "source": [
    "x = sm.add_constant(x)"
   ]
  },
  {
   "cell_type": "code",
   "execution_count": 52,
   "id": "9094b4cb",
   "metadata": {},
   "outputs": [],
   "source": [
    "modelR = sm.OLS(y,x).fit()"
   ]
  },
  {
   "cell_type": "code",
   "execution_count": 53,
   "id": "ca44f73e",
   "metadata": {
    "scrolled": false
   },
   "outputs": [
    {
     "data": {
      "text/html": [
       "<table class=\"simpletable\">\n",
       "<caption>OLS Regression Results</caption>\n",
       "<tr>\n",
       "  <th>Dep. Variable:</th>    <td>Sales \n",
       "(in 1,000 units)</td> <th>  R-squared:         </th> <td>   0.996</td>\n",
       "</tr>\n",
       "<tr>\n",
       "  <th>Model:</th>                      <td>OLS</td>           <th>  Adj. R-squared:    </th> <td>   0.995</td>\n",
       "</tr>\n",
       "<tr>\n",
       "  <th>Method:</th>                <td>Least Squares</td>      <th>  F-statistic:       </th> <td>   2430.</td>\n",
       "</tr>\n",
       "<tr>\n",
       "  <th>Date:</th>                <td>Sat, 26 Oct 2024</td>     <th>  Prob (F-statistic):</th> <td>7.45e-37</td>\n",
       "</tr>\n",
       "<tr>\n",
       "  <th>Time:</th>                    <td>17:44:17</td>         <th>  Log-Likelihood:    </th> <td> -76.809</td>\n",
       "</tr>\n",
       "<tr>\n",
       "  <th>No. Observations:</th>         <td>    35</td>          <th>  AIC:               </th> <td>   161.6</td>\n",
       "</tr>\n",
       "<tr>\n",
       "  <th>Df Residuals:</th>             <td>    31</td>          <th>  BIC:               </th> <td>   167.8</td>\n",
       "</tr>\n",
       "<tr>\n",
       "  <th>Df Model:</th>                 <td>     3</td>          <th>                     </th>     <td> </td>   \n",
       "</tr>\n",
       "<tr>\n",
       "  <th>Covariance Type:</th>         <td>nonrobust</td>        <th>                     </th>     <td> </td>   \n",
       "</tr>\n",
       "</table>\n",
       "<table class=\"simpletable\">\n",
       "<tr>\n",
       "             <td></td>               <th>coef</th>     <th>std err</th>      <th>t</th>      <th>P>|t|</th>  <th>[0.025</th>    <th>0.975]</th>  \n",
       "</tr>\n",
       "<tr>\n",
       "  <th>const</th>                  <td>   50.7231</td> <td>    5.292</td> <td>    9.585</td> <td> 0.000</td> <td>   39.930</td> <td>   61.516</td>\n",
       "</tr>\n",
       "<tr>\n",
       "  <th>Price\n",
       "(in lakh rupees)</th> <td>   -0.7950</td> <td>    0.254</td> <td>   -3.126</td> <td> 0.004</td> <td>   -1.314</td> <td>   -0.276</td>\n",
       "</tr>\n",
       "<tr>\n",
       "  <th>Mileage\n",
       "(Km/ltr)</th>       <td>    8.3063</td> <td>    0.100</td> <td>   82.913</td> <td> 0.000</td> <td>    8.102</td> <td>    8.511</td>\n",
       "</tr>\n",
       "<tr>\n",
       "  <th>Top speed (Km/hr)</th>      <td>   -0.0186</td> <td>    0.031</td> <td>   -0.608</td> <td> 0.548</td> <td>   -0.081</td> <td>    0.044</td>\n",
       "</tr>\n",
       "</table>\n",
       "<table class=\"simpletable\">\n",
       "<tr>\n",
       "  <th>Omnibus:</th>       <td> 2.817</td> <th>  Durbin-Watson:     </th> <td>   1.655</td>\n",
       "</tr>\n",
       "<tr>\n",
       "  <th>Prob(Omnibus):</th> <td> 0.245</td> <th>  Jarque-Bera (JB):  </th> <td>   2.103</td>\n",
       "</tr>\n",
       "<tr>\n",
       "  <th>Skew:</th>          <td> 0.600</td> <th>  Prob(JB):          </th> <td>   0.349</td>\n",
       "</tr>\n",
       "<tr>\n",
       "  <th>Kurtosis:</th>      <td> 3.030</td> <th>  Cond. No.          </th> <td>2.23e+03</td>\n",
       "</tr>\n",
       "</table><br/><br/>Notes:<br/>[1] Standard Errors assume that the covariance matrix of the errors is correctly specified.<br/>[2] The condition number is large, 2.23e+03. This might indicate that there are<br/>strong multicollinearity or other numerical problems."
      ],
      "text/latex": [
       "\\begin{center}\n",
       "\\begin{tabular}{lclc}\n",
       "\\toprule\n",
       "\\textbf{Dep. Variable:}         & Sales \n",
       "(in 1,000 units) & \\textbf{  R-squared:         } &     0.996   \\\\\n",
       "\\textbf{Model:}                 &           OLS           & \\textbf{  Adj. R-squared:    } &     0.995   \\\\\n",
       "\\textbf{Method:}                &      Least Squares      & \\textbf{  F-statistic:       } &     2430.   \\\\\n",
       "\\textbf{Date:}                  &     Sat, 26 Oct 2024    & \\textbf{  Prob (F-statistic):} &  7.45e-37   \\\\\n",
       "\\textbf{Time:}                  &         17:44:17        & \\textbf{  Log-Likelihood:    } &   -76.809   \\\\\n",
       "\\textbf{No. Observations:}      &              35         & \\textbf{  AIC:               } &     161.6   \\\\\n",
       "\\textbf{Df Residuals:}          &              31         & \\textbf{  BIC:               } &     167.8   \\\\\n",
       "\\textbf{Df Model:}              &               3         & \\textbf{                     } &             \\\\\n",
       "\\textbf{Covariance Type:}       &        nonrobust        & \\textbf{                     } &             \\\\\n",
       "\\bottomrule\n",
       "\\end{tabular}\n",
       "\\begin{tabular}{lcccccc}\n",
       "                                & \\textbf{coef} & \\textbf{std err} & \\textbf{t} & \\textbf{P$> |$t$|$} & \\textbf{[0.025} & \\textbf{0.975]}  \\\\\n",
       "\\midrule\n",
       "\\textbf{const}                  &      50.7231  &        5.292     &     9.585  &         0.000        &       39.930    &       61.516     \\\\\n",
       "\\textbf{Price\n",
       "(in lakh rupees)} &      -0.7950  &        0.254     &    -3.126  &         0.004        &       -1.314    &       -0.276     \\\\\n",
       "\\textbf{Mileage\n",
       "(Km/ltr)}       &       8.3063  &        0.100     &    82.913  &         0.000        &        8.102    &        8.511     \\\\\n",
       "\\textbf{Top speed (Km/hr)}      &      -0.0186  &        0.031     &    -0.608  &         0.548        &       -0.081    &        0.044     \\\\\n",
       "\\bottomrule\n",
       "\\end{tabular}\n",
       "\\begin{tabular}{lclc}\n",
       "\\textbf{Omnibus:}       &  2.817 & \\textbf{  Durbin-Watson:     } &    1.655  \\\\\n",
       "\\textbf{Prob(Omnibus):} &  0.245 & \\textbf{  Jarque-Bera (JB):  } &    2.103  \\\\\n",
       "\\textbf{Skew:}          &  0.600 & \\textbf{  Prob(JB):          } &    0.349  \\\\\n",
       "\\textbf{Kurtosis:}      &  3.030 & \\textbf{  Cond. No.          } & 2.23e+03  \\\\\n",
       "\\bottomrule\n",
       "\\end{tabular}\n",
       "%\\caption{OLS Regression Results}\n",
       "\\end{center}\n",
       "\n",
       "Notes: \\newline\n",
       " [1] Standard Errors assume that the covariance matrix of the errors is correctly specified. \\newline\n",
       " [2] The condition number is large, 2.23e+03. This might indicate that there are \\newline\n",
       " strong multicollinearity or other numerical problems."
      ],
      "text/plain": [
       "<class 'statsmodels.iolib.summary.Summary'>\n",
       "\"\"\"\n",
       "                               OLS Regression Results                              \n",
       "===================================================================================\n",
       "Dep. Variable:     Sales \n",
       "(in 1,000 units)   R-squared:                       0.996\n",
       "Model:                                 OLS   Adj. R-squared:                  0.995\n",
       "Method:                      Least Squares   F-statistic:                     2430.\n",
       "Date:                     Sat, 26 Oct 2024   Prob (F-statistic):           7.45e-37\n",
       "Time:                             17:44:17   Log-Likelihood:                -76.809\n",
       "No. Observations:                       35   AIC:                             161.6\n",
       "Df Residuals:                           31   BIC:                             167.8\n",
       "Df Model:                                3                                         \n",
       "Covariance Type:                 nonrobust                                         \n",
       "==========================================================================================\n",
       "                             coef    std err          t      P>|t|      [0.025      0.975]\n",
       "------------------------------------------------------------------------------------------\n",
       "const                     50.7231      5.292      9.585      0.000      39.930      61.516\n",
       "Price\n",
       "(in lakh rupees)    -0.7950      0.254     -3.126      0.004      -1.314      -0.276\n",
       "Mileage\n",
       "(Km/ltr)           8.3063      0.100     82.913      0.000       8.102       8.511\n",
       "Top speed (Km/hr)         -0.0186      0.031     -0.608      0.548      -0.081       0.044\n",
       "==============================================================================\n",
       "Omnibus:                        2.817   Durbin-Watson:                   1.655\n",
       "Prob(Omnibus):                  0.245   Jarque-Bera (JB):                2.103\n",
       "Skew:                           0.600   Prob(JB):                        0.349\n",
       "Kurtosis:                       3.030   Cond. No.                     2.23e+03\n",
       "==============================================================================\n",
       "\n",
       "Notes:\n",
       "[1] Standard Errors assume that the covariance matrix of the errors is correctly specified.\n",
       "[2] The condition number is large, 2.23e+03. This might indicate that there are\n",
       "strong multicollinearity or other numerical problems.\n",
       "\"\"\""
      ]
     },
     "execution_count": 53,
     "metadata": {},
     "output_type": "execute_result"
    }
   ],
   "source": [
    "modelR.summary()"
   ]
  },
  {
   "cell_type": "markdown",
   "id": "b25902b3",
   "metadata": {},
   "source": [
    "## The overall R square value is high i.e 0.996 hence the independent variables explain 99% of variation in the dependent variabe\n",
    "## A high F-value of 2430 implies that the independent variables in the model collectively explain a significant portion of the variance in the dependent variable.\n",
    " ## The p value for the individual variable is >0.05 for top speed hence we accept the null hypothesis for top speed i.e it does not have significant impact on sales whereas the price and milage with p-value < 0.05 have a significant impact on the sales"
   ]
  },
  {
   "cell_type": "markdown",
   "id": "f0e20be7",
   "metadata": {},
   "source": [
    "## The regression equation for the Rocinate model will be "
   ]
  },
  {
   "cell_type": "markdown",
   "id": "6e83188a",
   "metadata": {},
   "source": [
    "### Sales = 50.7231 - 0.7950* Price + 8.3063* Milage - 0.0186* Top speed"
   ]
  },
  {
   "cell_type": "markdown",
   "id": "29aa1b85",
   "metadata": {},
   "source": [
    "## Predicting sales for rocinate model at specified values"
   ]
  },
  {
   "cell_type": "code",
   "execution_count": 54,
   "id": "93d2ebd4",
   "metadata": {},
   "outputs": [
    {
     "name": "stdout",
     "output_type": "stream",
     "text": [
      "225.2927\n"
     ]
    }
   ],
   "source": [
    "### Sales of Rocinate model \n",
    "Sales= 50.7231 - 0.7950 * 7 +8.3063 * 22  - 0.0186 * 140\n",
    "print(Sales)"
   ]
  },
  {
   "cell_type": "markdown",
   "id": "962d4aa9",
   "metadata": {},
   "source": [
    "### Therefore the Rocinate model is expected to sell around 225 units at specified price"
   ]
  },
  {
   "cell_type": "code",
   "execution_count": 55,
   "id": "908864c3",
   "metadata": {},
   "outputs": [
    {
     "name": "stdout",
     "output_type": "stream",
     "text": [
      "230.89443500000002\n"
     ]
    }
   ],
   "source": [
    "## Sales of Rocinate model after increasing the input values by 5%\n",
    "Sales= 47.7800 - 0.7829 * (7*1.05) +8.2945 * (22*1.05)- 0.0186 * (140*1.05)\n",
    "print(Sales)"
   ]
  },
  {
   "cell_type": "markdown",
   "id": "bacba7df",
   "metadata": {},
   "source": [
    "### After increasing the values by 5 % the sales is expected to raise to 230 units"
   ]
  },
  {
   "cell_type": "code",
   "execution_count": 56,
   "id": "932ed2fb",
   "metadata": {},
   "outputs": [
    {
     "name": "stdout",
     "output_type": "stream",
     "text": [
      "213.45496499999996\n"
     ]
    }
   ],
   "source": [
    "## Sales of Rocinate model after decreasing the input values by 5%\n",
    "Sales= 47.7800 - 0.7829 * (7*0.95) +8.2945 * (22*0.95)- 0.0186 * (140*0.95)\n",
    "print(Sales)"
   ]
  },
  {
   "cell_type": "markdown",
   "id": "4ab1df50",
   "metadata": {},
   "source": [
    "### After decreasing the values by 5 % the sales is expected to reduce to 213 units"
   ]
  },
  {
   "cell_type": "markdown",
   "id": "69bec2ab",
   "metadata": {},
   "source": [
    "## Diagnostic test for assumptions of Rocinate model"
   ]
  },
  {
   "cell_type": "markdown",
   "id": "c2ccf7d1",
   "metadata": {},
   "source": [
    "## Test for Heteroscadasticity"
   ]
  },
  {
   "cell_type": "code",
   "execution_count": 57,
   "id": "8f7edf14",
   "metadata": {},
   "outputs": [],
   "source": [
    "# Test of Heteroscedasticiy\n",
    "# Breushpagan test\n",
    "# H0: Homoschedastic\n",
    "# H1: Heteroshcedastic"
   ]
  },
  {
   "cell_type": "code",
   "execution_count": 58,
   "id": "62090d29",
   "metadata": {},
   "outputs": [],
   "source": [
    "import statsmodels.stats.api as sms"
   ]
  },
  {
   "cell_type": "code",
   "execution_count": 59,
   "id": "44461e29",
   "metadata": {},
   "outputs": [
    {
     "data": {
      "text/plain": [
       "0    -2.112592\n",
       "1    -3.805617\n",
       "2    -1.892511\n",
       "3     0.725065\n",
       "4     4.084441\n",
       "5     3.591028\n",
       "6    -0.738284\n",
       "7    -1.882010\n",
       "8     0.154904\n",
       "9    -1.010470\n",
       "10   -0.028807\n",
       "11    1.231004\n",
       "12    3.926112\n",
       "13   -1.587584\n",
       "14   -0.930190\n",
       "15   -1.176160\n",
       "16   -3.549065\n",
       "17    0.955025\n",
       "18    3.093481\n",
       "19   -0.651290\n",
       "20    1.831553\n",
       "21    1.942193\n",
       "22    5.609616\n",
       "23   -3.126691\n",
       "24    0.665759\n",
       "25   -1.958606\n",
       "26   -0.256932\n",
       "27   -0.982664\n",
       "28    0.601384\n",
       "29    0.453293\n",
       "30   -0.709917\n",
       "31    0.942835\n",
       "32   -1.054848\n",
       "33   -0.033380\n",
       "34   -2.320076\n",
       "dtype: float64"
      ]
     },
     "execution_count": 59,
     "metadata": {},
     "output_type": "execute_result"
    }
   ],
   "source": [
    "modelR.resid"
   ]
  },
  {
   "cell_type": "code",
   "execution_count": 60,
   "id": "f09f9932",
   "metadata": {},
   "outputs": [],
   "source": [
    "lm, pval, f_stat, f_pval = sms.het_breuschpagan(modelR.resid,x)"
   ]
  },
  {
   "cell_type": "code",
   "execution_count": 61,
   "id": "595dc5bc",
   "metadata": {
    "scrolled": true
   },
   "outputs": [
    {
     "data": {
      "text/plain": [
       "(1.7884283456542343,\n",
       " 0.6174562893155056,\n",
       " 0.5564453989339865,\n",
       " 0.6477238758220805)"
      ]
     },
     "execution_count": 61,
     "metadata": {},
     "output_type": "execute_result"
    }
   ],
   "source": [
    "lm, pval, f_stat, f_pval"
   ]
  },
  {
   "cell_type": "markdown",
   "id": "3ac7734c",
   "metadata": {},
   "source": [
    "### Result\n",
    "### Since both the LM p-value (0.617) and the F p-value (0.648) are higher than 0.05, there is no statistically significant evidence of heteroscedasticity in the residuals. This supports the assumption of homoscedasticity, meaning the variances of the errors are likely to be constant."
   ]
  },
  {
   "cell_type": "code",
   "execution_count": 62,
   "id": "1fb5b3b4",
   "metadata": {},
   "outputs": [
    {
     "data": {
      "image/png": "[encoded data removed]",
      "text/plain": [
       "<Figure size 640x480 with 1 Axes>"
      ]
     },
     "metadata": {},
     "output_type": "display_data"
    },
    {
     "ename": "AttributeError",
     "evalue": "'OLSResults' object has no attribute 'resids'",
     "output_type": "error",
     "traceback": [
      "\u001b[1;31m---------------------------------------------------------------------------\u001b[0m",
      "\u001b[1;31mAttributeError\u001b[0m                            Traceback (most recent call last)",
      "Cell \u001b[1;32mIn[62], line 11\u001b[0m\n\u001b[0;32m      8\u001b[0m plt\u001b[38;5;241m.\u001b[39mshow()\n\u001b[0;32m     10\u001b[0m \u001b[38;5;66;03m# Breusch-Pagan test\u001b[39;00m\n\u001b[1;32m---> 11\u001b[0m bp_test \u001b[38;5;241m=\u001b[39m het_breuschpagan(modelR\u001b[38;5;241m.\u001b[39mresids, model\u001b[38;5;241m.\u001b[39mmodel\u001b[38;5;241m.\u001b[39mexog)\n\u001b[0;32m     12\u001b[0m \u001b[38;5;28mprint\u001b[39m(\u001b[38;5;124mf\u001b[39m\u001b[38;5;124m'\u001b[39m\u001b[38;5;124mBreusch-Pagan test statistic: \u001b[39m\u001b[38;5;132;01m{\u001b[39;00mbp_test[\u001b[38;5;241m0\u001b[39m]\u001b[38;5;132;01m}\u001b[39;00m\u001b[38;5;124m, p-value: \u001b[39m\u001b[38;5;132;01m{\u001b[39;00mbp_test[\u001b[38;5;241m1\u001b[39m]\u001b[38;5;132;01m}\u001b[39;00m\u001b[38;5;124m'\u001b[39m)\n",
      "File \u001b[1;32m~\\anaconda3\\Lib\\site-packages\\statsmodels\\base\\wrapper.py:34\u001b[0m, in \u001b[0;36mResultsWrapper.__getattribute__\u001b[1;34m(self, attr)\u001b[0m\n\u001b[0;32m     31\u001b[0m \u001b[38;5;28;01mexcept\u001b[39;00m \u001b[38;5;167;01mAttributeError\u001b[39;00m:\n\u001b[0;32m     32\u001b[0m     \u001b[38;5;28;01mpass\u001b[39;00m\n\u001b[1;32m---> 34\u001b[0m obj \u001b[38;5;241m=\u001b[39m \u001b[38;5;28mgetattr\u001b[39m(results, attr)\n\u001b[0;32m     35\u001b[0m data \u001b[38;5;241m=\u001b[39m results\u001b[38;5;241m.\u001b[39mmodel\u001b[38;5;241m.\u001b[39mdata\n\u001b[0;32m     36\u001b[0m how \u001b[38;5;241m=\u001b[39m \u001b[38;5;28mself\u001b[39m\u001b[38;5;241m.\u001b[39m_wrap_attrs\u001b[38;5;241m.\u001b[39mget(attr)\n",
      "\u001b[1;31mAttributeError\u001b[0m: 'OLSResults' object has no attribute 'resids'"
     ]
    }
   ],
   "source": [
    "import seaborn as sns\n",
    "from statsmodels.stats.diagnostic import het_breuschpagan\n",
    "\n",
    "# Residuals vs. fitted values plot\n",
    "fitted_values = modelR.fittedvalues\n",
    "sns.residplot(x=fitted_values, y=modelR.resid, lowess=True, line_kws={'color': 'purple'})\n",
    "plt.title('Residuals vs Fitted Values for Rocinate model')\n",
    "plt.show()\n",
    "\n",
    "# Breusch-Pagan test\n",
    "bp_test = het_breuschpagan(modelR.resids, model.model.exog)\n",
    "print(f'Breusch-Pagan test statistic: {bp_test[0]}, p-value: {bp_test[1]}')"
   ]
  },
  {
   "cell_type": "markdown",
   "id": "3dab8ec9",
   "metadata": {},
   "source": [
    "## Test for Normality"
   ]
  },
  {
   "cell_type": "code",
   "execution_count": 63,
   "id": "d1f11d98",
   "metadata": {},
   "outputs": [
    {
     "data": {
      "image/png": "[encoded data removed]",
      "text/plain": [
       "<Figure size 600x250 with 1 Axes>"
      ]
     },
     "metadata": {},
     "output_type": "display_data"
    }
   ],
   "source": [
    "Since both the LM p-value (0.617) and the F p-value (0.648) are higher than 0.05, there is no statistically significant evidence of heteroscedasticity in the residuals. This supports the assumption of homoscedasticity, meaning the variances of the errors are likely to be constant."
   ]
  },
  {
   "cell_type": "code",
   "execution_count": 64,
   "id": "bd06e34d",
   "metadata": {
    "scrolled": false
   },
   "outputs": [
    {
     "name": "stderr",
     "output_type": "stream",
     "text": [
      "C:\\Users\\user\\AppData\\Local\\Temp\\ipykernel_11368\\2502637606.py:1: UserWarning: \n",
      "\n",
      "`distplot` is a deprecated function and will be removed in seaborn v0.14.0.\n",
      "\n",
      "Please adapt your code to use either `displot` (a figure-level function with\n",
      "similar flexibility) or `histplot` (an axes-level function for histograms).\n",
      "\n",
      "For a guide to updating your code to use the new functions, please see\n",
      "https://gist.github.com/mwaskom/de44147ed2974457ad6372750bbe5751\n",
      "\n",
      "  sns.distplot(modelR.resid, hist=True, kde=True);\n"
     ]
    },
    {
     "data": {
      "image/png": "[encoded data removed]",
      "text/plain": [
       "<Figure size 640x480 with 1 Axes>"
      ]
     },
     "metadata": {},
     "output_type": "display_data"
    }
   ],
   "source": [
    "sns.distplot(modelR.resid, hist=True, kde=True);"
   ]
  },
  {
   "cell_type": "markdown",
   "id": "218834ff",
   "metadata": {},
   "source": [
    "## The above plot indicates that the residuals are almost normally distributed "
   ]
  },
  {
   "cell_type": "code",
   "execution_count": 71,
   "id": "de948c5d",
   "metadata": {},
   "outputs": [],
   "source": [
    "from scipy.stats import shapiro, kstest, anderson"
   ]
  },
  {
   "cell_type": "code",
   "execution_count": 72,
   "id": "5c9a8159",
   "metadata": {
    "scrolled": true
   },
   "outputs": [
    {
     "name": "stdout",
     "output_type": "stream",
     "text": [
      "Shapiro-Wilk Test: Statistic = 0.9628714919090271, p-value = 0.2783476710319519\n",
      "Kolmogorov-Smirnov Test: Statistic = 0.10379500585351331, p-value = 0.8079916500238932\n",
      "Anderson-Darling Test: Statistic = 0.46069275127986486\n",
      "Critical values: [0.527 0.6   0.719 0.839 0.998]\n",
      "Significance levels: [15.  10.   5.   2.5  1. ]\n"
     ]
    }
   ],
   "source": [
    "# Shapiro-Wilk Test\n",
    "shapiro_stat, shapiro_p = shapiro(modelR.resid)\n",
    "print(f\"Shapiro-Wilk Test: Statistic = {shapiro_stat}, p-value = {shapiro_p}\")\n",
    "\n",
    "# Kolmogorov-Smirnov Test\n",
    "# (We assume residuals are tested against a normal distribution with mean 0 and standard deviation 1)\n",
    "ks_stat, ks_p = kstest(modelR.resid, 'norm', args=(modelR.resid.mean(), modelR.resid.std()))\n",
    "print(f\"Kolmogorov-Smirnov Test: Statistic = {ks_stat}, p-value = {ks_p}\")\n",
    "\n",
    "# Anderson-Darling Test\n",
    "ad_result = anderson(modelR.resid, dist='norm')\n",
    "print(f\"Anderson-Darling Test: Statistic = {ad_result.statistic}\")\n",
    "print(\"Critical values:\", ad_result.critical_values)\n",
    "print(\"Significance levels:\", ad_result.significance_level)"
   ]
  },
  {
   "cell_type": "markdown",
   "id": "35c82dbd",
   "metadata": {},
   "source": [
    "### As the p-value of Shapiro-Wilk Test and Kolmogorov-Smirnov Test is > 0.05 hence we fail to reject the null hypothesis therefore the data is normally distributed\n",
    "### Also the t-statistics of the Anderson-Darling Test is less that the critical value at 5 % level of significance i.e. 0.719 hence it proves the normality "
   ]
  },
  {
   "cell_type": "markdown",
   "id": "ea9bf2d1",
   "metadata": {},
   "source": [
    "## Test for Multicolleniarity"
   ]
  },
  {
   "cell_type": "code",
   "execution_count": 65,
   "id": "c46c8290",
   "metadata": {},
   "outputs": [],
   "source": [
    "from statsmodels.stats.outliers_influence import variance_inflation_factor"
   ]
  },
  {
   "cell_type": "code",
   "execution_count": 66,
   "id": "7c614513",
   "metadata": {},
   "outputs": [
    {
     "data": {
      "text/plain": [
       "array([[  1. ,   6.1,  15.8, 168.2],\n",
       "       [  1. ,   6.1,  12.1, 149.6],\n",
       "       [  1. ,   9.9,  17. , 173.4],\n",
       "       [  1. ,   5.8,  11.6, 170.6],\n",
       "       [  1. ,  10. ,  17.2, 175. ],\n",
       "       [  1. ,   6.5,  17.6, 173.1],\n",
       "       [  1. ,   5.5,  16. , 184.6],\n",
       "       [  1. ,   8.4,  13. , 175.7],\n",
       "       [  1. ,   6.6,  19.3, 166.7],\n",
       "       [  1. ,   8.8,  13.3, 175.4],\n",
       "       [  1. ,   9.5,  15.8, 150.9],\n",
       "       [  1. ,   9.2,  19.2, 140.5],\n",
       "       [  1. ,   8.1,  11.7, 150.2],\n",
       "       [  1. ,   5.4,  11.2, 146.2],\n",
       "       [  1. ,   5.6,   7.8, 151.2],\n",
       "       [  1. ,   6.3,  19. , 143.2],\n",
       "       [  1. ,   5.8,  19.7, 178.9],\n",
       "       [  1. ,   7.7,  19.5, 168.2],\n",
       "       [  1. ,   7.2,   7.5, 164.7],\n",
       "       [  1. ,   8.4,  18.1, 182.7],\n",
       "       [  1. ,   8.4,   7.9, 165.7],\n",
       "       [  1. ,   5.7,  12.6, 137. ],\n",
       "       [  1. ,   5.5,  12.9, 173.9],\n",
       "       [  1. ,   8.4,   7.6, 165.1],\n",
       "       [  1. ,   5.6,  16.7, 160.1],\n",
       "       [  1. ,   9.9,  15.5, 155.6],\n",
       "       [  1. ,   6.2,   9.5, 155.4],\n",
       "       [  1. ,   9.9,  16.3, 161.9],\n",
       "       [  1. ,   6.5,   9.1, 146.8],\n",
       "       [  1. ,   7.1,  15.3, 149.5],\n",
       "       [  1. ,   9.6,  19.1, 146.5],\n",
       "       [  1. ,   5.8,  19.4, 178.9],\n",
       "       [  1. ,   6.2,   9.4, 175.4],\n",
       "       [  1. ,   5.9,  19.4, 175.9],\n",
       "       [  1. ,   6.1,   9.4, 165.4]])"
      ]
     },
     "execution_count": 66,
     "metadata": {},
     "output_type": "execute_result"
    }
   ],
   "source": [
    "x.values"
   ]
  },
  {
   "cell_type": "code",
   "execution_count": 67,
   "id": "2161b7b4",
   "metadata": {},
   "outputs": [
    {
     "data": {
      "text/plain": [
       "4"
      ]
     },
     "execution_count": 67,
     "metadata": {},
     "output_type": "execute_result"
    }
   ],
   "source": [
    "x.shape[1]"
   ]
  },
  {
   "cell_type": "code",
   "execution_count": 68,
   "id": "ff05de02",
   "metadata": {},
   "outputs": [
    {
     "data": {
      "text/plain": [
       "Index(['const', 'Price\\n(in lakh rupees)', 'Mileage\\n(Km/ltr)',\n",
       "       'Top speed (Km/hr)'],\n",
       "      dtype='object')"
      ]
     },
     "execution_count": 68,
     "metadata": {},
     "output_type": "execute_result"
    }
   ],
   "source": [
    "x.columns"
   ]
  },
  {
   "cell_type": "code",
   "execution_count": 69,
   "id": "b6f26e8b",
   "metadata": {
    "scrolled": false
   },
   "outputs": [
    {
     "data": {
      "text/html": [
       "<div>\n",
       "<style scoped>\n",
       "    .dataframe tbody tr th:only-of-type {\n",
       "        vertical-align: middle;\n",
       "    }\n",
       "\n",
       "    .dataframe tbody tr th {\n",
       "        vertical-align: top;\n",
       "    }\n",
       "\n",
       "    .dataframe thead th {\n",
       "        text-align: right;\n",
       "    }\n",
       "</style>\n",
       "<table border=\"1\" class=\"dataframe\">\n",
       "  <thead>\n",
       "    <tr style=\"text-align: right;\">\n",
       "      <th></th>\n",
       "      <th>vif_factor</th>\n",
       "      <th>features</th>\n",
       "    </tr>\n",
       "  </thead>\n",
       "  <tbody>\n",
       "    <tr>\n",
       "      <th>0</th>\n",
       "      <td>184.048148</td>\n",
       "      <td>const</td>\n",
       "    </tr>\n",
       "    <tr>\n",
       "      <th>1</th>\n",
       "      <td>1.042167</td>\n",
       "      <td>Price\\n(in lakh rupees)</td>\n",
       "    </tr>\n",
       "    <tr>\n",
       "      <th>2</th>\n",
       "      <td>1.076662</td>\n",
       "      <td>Mileage\\n(Km/ltr)</td>\n",
       "    </tr>\n",
       "    <tr>\n",
       "      <th>3</th>\n",
       "      <td>1.041262</td>\n",
       "      <td>Top speed (Km/hr)</td>\n",
       "    </tr>\n",
       "  </tbody>\n",
       "</table>\n",
       "</div>"
      ],
      "text/plain": [
       "   vif_factor                 features\n",
       "0  184.048148                    const\n",
       "1    1.042167  Price\\n(in lakh rupees)\n",
       "2    1.076662        Mileage\\n(Km/ltr)\n",
       "3    1.041262        Top speed (Km/hr)"
      ]
     },
     "execution_count": 69,
     "metadata": {},
     "output_type": "execute_result"
    }
   ],
   "source": [
    "vif = pd.DataFrame()\n",
    "vif['vif_factor'] = [variance_inflation_factor(x.values,i) for i in range(x.shape[1])]\n",
    "vif['features'] = x.columns\n",
    "vif"
   ]
  },
  {
   "cell_type": "markdown",
   "id": "22c87d99",
   "metadata": {},
   "source": [
    "### The  VIF factor for all the variables except the intercept is < 5 hence they are free from multicollniarity "
   ]
  },
  {
   "cell_type": "markdown",
   "id": "166a1237",
   "metadata": {},
   "source": [
    "## Test for Auto-correlation"
   ]
  },
  {
   "cell_type": "code",
   "execution_count": 73,
   "id": "1ff9c2d3",
   "metadata": {
    "scrolled": true
   },
   "outputs": [
    {
     "name": "stdout",
     "output_type": "stream",
     "text": [
      "Durbin-Watson statistic: 1.6547723984064442\n"
     ]
    }
   ],
   "source": [
    "from statsmodels.stats.stattools import durbin_watson\n",
    "\n",
    "# Durbin-Watson test for autocorrelation\n",
    "dw_stat = durbin_watson(modelR.resid)\n",
    "print(f'Durbin-Watson statistic: {dw_stat}')"
   ]
  },
  {
   "cell_type": "markdown",
   "id": "f23e89f1",
   "metadata": {},
   "source": [
    "### The Durbin-Watson statistic is 1.654 suggests that there is slightly positive to no autocorrelation in the residuals"
   ]
  },
  {
   "cell_type": "markdown",
   "id": "4030ba46",
   "metadata": {},
   "source": [
    "## Test for specification bias"
   ]
  },
  {
   "cell_type": "code",
   "execution_count": 74,
   "id": "59343d63",
   "metadata": {},
   "outputs": [
    {
     "name": "stdout",
     "output_type": "stream",
     "text": [
      "Ramsey RESET test statistic: 0.1800797051113392, p-value: 0.8361304418861749\n"
     ]
    }
   ],
   "source": [
    "from statsmodels.stats.outliers_influence import reset_ramsey\n",
    "\n",
    "# Ramsey RESET test\n",
    "reset_test = reset_ramsey(modelR, degree=3)\n",
    "print(f'Ramsey RESET test statistic: {reset_test.fvalue}, p-value: {reset_test.pvalue}')"
   ]
  },
  {
   "cell_type": "markdown",
   "id": "a607fbe9",
   "metadata": {},
   "source": [
    "### Since the p-value is higher than 0.05, it suggests that the model is correctly specified, and there are no serious specification errors."
   ]
  },
  {
   "cell_type": "markdown",
   "id": "ab311d5b",
   "metadata": {},
   "source": [
    "## Hat Diagonal Test"
   ]
  },
  {
   "cell_type": "code",
   "execution_count": 76,
   "id": "609692aa",
   "metadata": {},
   "outputs": [
    {
     "name": "stdout",
     "output_type": "stream",
     "text": [
      "High leverage points or (outliers in X): []\n"
     ]
    }
   ],
   "source": [
    "# Get the influence measures (hat diagonal)\n",
    "influence = modelR.get_influence()\n",
    "hat_values = influence.hat_matrix_diag\n",
    "\n",
    "# Set a threshold for identifying high-leverage points (rule of thumb: 2*(k+1)/n, where k = number of predictors)\n",
    "n = len(Rmodel)\n",
    "k = x.shape[1] - 1  # number of predictors excluding the intercept\n",
    "leverage_threshold = 2 * (k + 1) / n\n",
    "\n",
    "# Identify high-leverage points\n",
    "high_leverage_points = np.where(hat_values > leverage_threshold)[0]\n",
    "\n",
    "print(f\"High leverage points or (outliers in X): {high_leverage_points}\")"
   ]
  },
  {
   "cell_type": "markdown",
   "id": "8c1b4e5b",
   "metadata": {},
   "source": [
    "### The output indicates that there are no high leverage points in the dataset,the range of predictor values is relatively uniform"
   ]
  },
  {
   "cell_type": "markdown",
   "id": "16c1b589",
   "metadata": {},
   "source": [
    "## Studentized residual test"
   ]
  },
  {
   "cell_type": "code",
   "execution_count": 78,
   "id": "ee9b41e8",
   "metadata": {},
   "outputs": [
    {
     "name": "stdout",
     "output_type": "stream",
     "text": [
      "Outliers in Y or (studentized residuals): []\n"
     ]
    }
   ],
   "source": [
    "# Get studentized residuals\n",
    "studentized_residuals = influence.resid_studentized_external\n",
    "\n",
    "# Set a threshold for identifying outliers in Y (commonly used threshold: |residual| > 3)\n",
    "student_residuals_threshold = 3\n",
    "\n",
    "# Identify outliers in the dependent variable\n",
    "outliers_in_y = np.where(np.abs(studentized_residuals) > student_residuals_threshold)[0]\n",
    "\n",
    "print(f\"Outliers in Y or (studentized residuals): {outliers_in_y}\")"
   ]
  },
  {
   "cell_type": "markdown",
   "id": "dbe1fed3",
   "metadata": {},
   "source": [
    "### The output indicates that there are no outliers in the response variable(Y)"
   ]
  },
  {
   "cell_type": "markdown",
   "id": "494934a4",
   "metadata": {},
   "source": [
    "## EDA for Marengo Model "
   ]
  },
  {
   "cell_type": "code",
   "execution_count": 79,
   "id": "254ec798",
   "metadata": {},
   "outputs": [
    {
     "data": {
      "text/html": [
       "<div>\n",
       "<style scoped>\n",
       "    .dataframe tbody tr th:only-of-type {\n",
       "        vertical-align: middle;\n",
       "    }\n",
       "\n",
       "    .dataframe tbody tr th {\n",
       "        vertical-align: top;\n",
       "    }\n",
       "\n",
       "    .dataframe thead th {\n",
       "        text-align: right;\n",
       "    }\n",
       "</style>\n",
       "<table border=\"1\" class=\"dataframe\">\n",
       "  <thead>\n",
       "    <tr style=\"text-align: right;\">\n",
       "      <th></th>\n",
       "      <th>Cars</th>\n",
       "      <th>Sales \\n(in 1,000 units)</th>\n",
       "      <th>Price\\n(in lakh rupees)</th>\n",
       "      <th>Mileage\\n(Km/ltr)</th>\n",
       "      <th>Top speed (Km/hr)</th>\n",
       "    </tr>\n",
       "  </thead>\n",
       "  <tbody>\n",
       "    <tr>\n",
       "      <th>0</th>\n",
       "      <td>Marengo 1</td>\n",
       "      <td>20.896</td>\n",
       "      <td>42.5</td>\n",
       "      <td>9.3</td>\n",
       "      <td>199.4</td>\n",
       "    </tr>\n",
       "    <tr>\n",
       "      <th>1</th>\n",
       "      <td>Marengo 2</td>\n",
       "      <td>31.048</td>\n",
       "      <td>36.0</td>\n",
       "      <td>9.7</td>\n",
       "      <td>235.2</td>\n",
       "    </tr>\n",
       "    <tr>\n",
       "      <th>2</th>\n",
       "      <td>Marengo 3</td>\n",
       "      <td>29.904</td>\n",
       "      <td>54.7</td>\n",
       "      <td>16.6</td>\n",
       "      <td>240.8</td>\n",
       "    </tr>\n",
       "    <tr>\n",
       "      <th>3</th>\n",
       "      <td>Marengo 4</td>\n",
       "      <td>28.792</td>\n",
       "      <td>42.7</td>\n",
       "      <td>11.7</td>\n",
       "      <td>232.5</td>\n",
       "    </tr>\n",
       "    <tr>\n",
       "      <th>4</th>\n",
       "      <td>Marengo 5</td>\n",
       "      <td>16.776</td>\n",
       "      <td>44.9</td>\n",
       "      <td>13.7</td>\n",
       "      <td>188.8</td>\n",
       "    </tr>\n",
       "  </tbody>\n",
       "</table>\n",
       "</div>"
      ],
      "text/plain": [
       "        Cars  Sales \\n(in 1,000 units)  Price\\n(in lakh rupees)  \\\n",
       "0  Marengo 1                    20.896                     42.5   \n",
       "1  Marengo 2                    31.048                     36.0   \n",
       "2  Marengo 3                    29.904                     54.7   \n",
       "3  Marengo 4                    28.792                     42.7   \n",
       "4  Marengo 5                    16.776                     44.9   \n",
       "\n",
       "   Mileage\\n(Km/ltr)  Top speed (Km/hr)  \n",
       "0                9.3              199.4  \n",
       "1                9.7              235.2  \n",
       "2               16.6              240.8  \n",
       "3               11.7              232.5  \n",
       "4               13.7              188.8  "
      ]
     },
     "execution_count": 79,
     "metadata": {},
     "output_type": "execute_result"
    }
   ],
   "source": [
    "Mmodel.head()"
   ]
  },
  {
   "cell_type": "code",
   "execution_count": 80,
   "id": "4a7ca295",
   "metadata": {},
   "outputs": [
    {
     "data": {
      "text/plain": [
       "(31, 5)"
      ]
     },
     "execution_count": 80,
     "metadata": {},
     "output_type": "execute_result"
    }
   ],
   "source": [
    "Mmodel.shape"
   ]
  },
  {
   "cell_type": "code",
   "execution_count": 81,
   "id": "825cbdc6",
   "metadata": {},
   "outputs": [
    {
     "data": {
      "text/plain": [
       "0"
      ]
     },
     "execution_count": 81,
     "metadata": {},
     "output_type": "execute_result"
    }
   ],
   "source": [
    "Mmodel.isnull().any().sum()"
   ]
  },
  {
   "cell_type": "markdown",
   "id": "95e10734",
   "metadata": {},
   "source": [
    "## Fitting a MLR for Marengo Model "
   ]
  },
  {
   "cell_type": "code",
   "execution_count": 82,
   "id": "708add31",
   "metadata": {},
   "outputs": [],
   "source": [
    "y = Mmodel['Sales \\n(in 1,000 units)']\n",
    "x = Mmodel[['Price\\n(in lakh rupees)','Mileage\\n(Km/ltr)','Top speed (Km/hr)']]"
   ]
  },
  {
   "cell_type": "code",
   "execution_count": 83,
   "id": "ac2cfefe",
   "metadata": {},
   "outputs": [
    {
     "data": {
      "text/html": [
       "<table class=\"simpletable\">\n",
       "<caption>OLS Regression Results</caption>\n",
       "<tr>\n",
       "  <th>Dep. Variable:</th>    <td>Sales \n",
       "(in 1,000 units)</td> <th>  R-squared:         </th> <td>   0.863</td>\n",
       "</tr>\n",
       "<tr>\n",
       "  <th>Model:</th>                      <td>OLS</td>           <th>  Adj. R-squared:    </th> <td>   0.848</td>\n",
       "</tr>\n",
       "<tr>\n",
       "  <th>Method:</th>                <td>Least Squares</td>      <th>  F-statistic:       </th> <td>   56.74</td>\n",
       "</tr>\n",
       "<tr>\n",
       "  <th>Date:</th>                <td>Sat, 26 Oct 2024</td>     <th>  Prob (F-statistic):</th> <td>8.74e-12</td>\n",
       "</tr>\n",
       "<tr>\n",
       "  <th>Time:</th>                    <td>18:15:04</td>         <th>  Log-Likelihood:    </th> <td> -67.757</td>\n",
       "</tr>\n",
       "<tr>\n",
       "  <th>No. Observations:</th>         <td>    31</td>          <th>  AIC:               </th> <td>   143.5</td>\n",
       "</tr>\n",
       "<tr>\n",
       "  <th>Df Residuals:</th>             <td>    27</td>          <th>  BIC:               </th> <td>   149.2</td>\n",
       "</tr>\n",
       "<tr>\n",
       "  <th>Df Model:</th>                 <td>     3</td>          <th>                     </th>     <td> </td>   \n",
       "</tr>\n",
       "<tr>\n",
       "  <th>Covariance Type:</th>         <td>nonrobust</td>        <th>                     </th>     <td> </td>   \n",
       "</tr>\n",
       "</table>\n",
       "<table class=\"simpletable\">\n",
       "<tr>\n",
       "             <td></td>               <th>coef</th>     <th>std err</th>      <th>t</th>      <th>P>|t|</th>  <th>[0.025</th>    <th>0.975]</th>  \n",
       "</tr>\n",
       "<tr>\n",
       "  <th>const</th>                  <td>  -13.4476</td> <td>    4.454</td> <td>   -3.019</td> <td> 0.005</td> <td>  -22.586</td> <td>   -4.309</td>\n",
       "</tr>\n",
       "<tr>\n",
       "  <th>Price\n",
       "(in lakh rupees)</th> <td>   -0.1867</td> <td>    0.055</td> <td>   -3.368</td> <td> 0.002</td> <td>   -0.300</td> <td>   -0.073</td>\n",
       "</tr>\n",
       "<tr>\n",
       "  <th>Mileage\n",
       "(Km/ltr)</th>       <td>    0.0413</td> <td>    0.207</td> <td>    0.200</td> <td> 0.843</td> <td>   -0.383</td> <td>    0.465</td>\n",
       "</tr>\n",
       "<tr>\n",
       "  <th>Top speed (Km/hr)</th>      <td>    0.2208</td> <td>    0.017</td> <td>   12.820</td> <td> 0.000</td> <td>    0.185</td> <td>    0.256</td>\n",
       "</tr>\n",
       "</table>\n",
       "<table class=\"simpletable\">\n",
       "<tr>\n",
       "  <th>Omnibus:</th>       <td> 2.082</td> <th>  Durbin-Watson:     </th> <td>   1.649</td>\n",
       "</tr>\n",
       "<tr>\n",
       "  <th>Prob(Omnibus):</th> <td> 0.353</td> <th>  Jarque-Bera (JB):  </th> <td>   1.181</td>\n",
       "</tr>\n",
       "<tr>\n",
       "  <th>Skew:</th>          <td>-0.071</td> <th>  Prob(JB):          </th> <td>   0.554</td>\n",
       "</tr>\n",
       "<tr>\n",
       "  <th>Kurtosis:</th>      <td> 2.054</td> <th>  Cond. No.          </th> <td>2.30e+03</td>\n",
       "</tr>\n",
       "</table><br/><br/>Notes:<br/>[1] Standard Errors assume that the covariance matrix of the errors is correctly specified.<br/>[2] The condition number is large, 2.3e+03. This might indicate that there are<br/>strong multicollinearity or other numerical problems."
      ],
      "text/latex": [
       "\\begin{center}\n",
       "\\begin{tabular}{lclc}\n",
       "\\toprule\n",
       "\\textbf{Dep. Variable:}         & Sales \n",
       "(in 1,000 units) & \\textbf{  R-squared:         } &     0.863   \\\\\n",
       "\\textbf{Model:}                 &           OLS           & \\textbf{  Adj. R-squared:    } &     0.848   \\\\\n",
       "\\textbf{Method:}                &      Least Squares      & \\textbf{  F-statistic:       } &     56.74   \\\\\n",
       "\\textbf{Date:}                  &     Sat, 26 Oct 2024    & \\textbf{  Prob (F-statistic):} &  8.74e-12   \\\\\n",
       "\\textbf{Time:}                  &         18:15:04        & \\textbf{  Log-Likelihood:    } &   -67.757   \\\\\n",
       "\\textbf{No. Observations:}      &              31         & \\textbf{  AIC:               } &     143.5   \\\\\n",
       "\\textbf{Df Residuals:}          &              27         & \\textbf{  BIC:               } &     149.2   \\\\\n",
       "\\textbf{Df Model:}              &               3         & \\textbf{                     } &             \\\\\n",
       "\\textbf{Covariance Type:}       &        nonrobust        & \\textbf{                     } &             \\\\\n",
       "\\bottomrule\n",
       "\\end{tabular}\n",
       "\\begin{tabular}{lcccccc}\n",
       "                                & \\textbf{coef} & \\textbf{std err} & \\textbf{t} & \\textbf{P$> |$t$|$} & \\textbf{[0.025} & \\textbf{0.975]}  \\\\\n",
       "\\midrule\n",
       "\\textbf{const}                  &     -13.4476  &        4.454     &    -3.019  &         0.005        &      -22.586    &       -4.309     \\\\\n",
       "\\textbf{Price\n",
       "(in lakh rupees)} &      -0.1867  &        0.055     &    -3.368  &         0.002        &       -0.300    &       -0.073     \\\\\n",
       "\\textbf{Mileage\n",
       "(Km/ltr)}       &       0.0413  &        0.207     &     0.200  &         0.843        &       -0.383    &        0.465     \\\\\n",
       "\\textbf{Top speed (Km/hr)}      &       0.2208  &        0.017     &    12.820  &         0.000        &        0.185    &        0.256     \\\\\n",
       "\\bottomrule\n",
       "\\end{tabular}\n",
       "\\begin{tabular}{lclc}\n",
       "\\textbf{Omnibus:}       &  2.082 & \\textbf{  Durbin-Watson:     } &    1.649  \\\\\n",
       "\\textbf{Prob(Omnibus):} &  0.353 & \\textbf{  Jarque-Bera (JB):  } &    1.181  \\\\\n",
       "\\textbf{Skew:}          & -0.071 & \\textbf{  Prob(JB):          } &    0.554  \\\\\n",
       "\\textbf{Kurtosis:}      &  2.054 & \\textbf{  Cond. No.          } & 2.30e+03  \\\\\n",
       "\\bottomrule\n",
       "\\end{tabular}\n",
       "%\\caption{OLS Regression Results}\n",
       "\\end{center}\n",
       "\n",
       "Notes: \\newline\n",
       " [1] Standard Errors assume that the covariance matrix of the errors is correctly specified. \\newline\n",
       " [2] The condition number is large, 2.3e+03. This might indicate that there are \\newline\n",
       " strong multicollinearity or other numerical problems."
      ],
      "text/plain": [
       "<class 'statsmodels.iolib.summary.Summary'>\n",
       "\"\"\"\n",
       "                               OLS Regression Results                              \n",
       "===================================================================================\n",
       "Dep. Variable:     Sales \n",
       "(in 1,000 units)   R-squared:                       0.863\n",
       "Model:                                 OLS   Adj. R-squared:                  0.848\n",
       "Method:                      Least Squares   F-statistic:                     56.74\n",
       "Date:                     Sat, 26 Oct 2024   Prob (F-statistic):           8.74e-12\n",
       "Time:                             18:15:04   Log-Likelihood:                -67.757\n",
       "No. Observations:                       31   AIC:                             143.5\n",
       "Df Residuals:                           27   BIC:                             149.2\n",
       "Df Model:                                3                                         \n",
       "Covariance Type:                 nonrobust                                         \n",
       "==========================================================================================\n",
       "                             coef    std err          t      P>|t|      [0.025      0.975]\n",
       "------------------------------------------------------------------------------------------\n",
       "const                    -13.4476      4.454     -3.019      0.005     -22.586      -4.309\n",
       "Price\n",
       "(in lakh rupees)    -0.1867      0.055     -3.368      0.002      -0.300      -0.073\n",
       "Mileage\n",
       "(Km/ltr)           0.0413      0.207      0.200      0.843      -0.383       0.465\n",
       "Top speed (Km/hr)          0.2208      0.017     12.820      0.000       0.185       0.256\n",
       "==============================================================================\n",
       "Omnibus:                        2.082   Durbin-Watson:                   1.649\n",
       "Prob(Omnibus):                  0.353   Jarque-Bera (JB):                1.181\n",
       "Skew:                          -0.071   Prob(JB):                        0.554\n",
       "Kurtosis:                       2.054   Cond. No.                     2.30e+03\n",
       "==============================================================================\n",
       "\n",
       "Notes:\n",
       "[1] Standard Errors assume that the covariance matrix of the errors is correctly specified.\n",
       "[2] The condition number is large, 2.3e+03. This might indicate that there are\n",
       "strong multicollinearity or other numerical problems.\n",
       "\"\"\""
      ]
     },
     "execution_count": 83,
     "metadata": {},
     "output_type": "execute_result"
    }
   ],
   "source": [
    "x = sm.add_constant(x)\n",
    "modelM = sm.OLS(y,x).fit()\n",
    "modelM.summary()"
   ]
  },
  {
   "cell_type": "markdown",
   "id": "941b1b82",
   "metadata": {},
   "source": [
    "## The overall R square value is high i.e 0.863 hence the independent variable explain 86% of variation in the dependent variabe\n",
    " ## The p value for the individual variable is >0.05 for milage hence we accept the null hypothesis for milage i.e it does not have significant impact on sales whereas the price and top speed with p-value < 0.05 have a significant impact on the sales\n",
    "## A F-value of 56.74 implies that the independent variables in the model collectively explain a significant portion of the variance in the dependent variable.\n",
    "\n",
    "### The regression equation for the Marengo model will be\n",
    "### Sales= -13.4476 -0.1867 * Price +0.0413 *Milage  + 0.2208 *Top speed"
   ]
  },
  {
   "cell_type": "markdown",
   "id": "6806a9c3",
   "metadata": {},
   "source": [
    "## Predicting Sales for Marengo Model at speified value"
   ]
  },
  {
   "cell_type": "code",
   "execution_count": 84,
   "id": "d3f6fe08",
   "metadata": {},
   "outputs": [
    {
     "name": "stdout",
     "output_type": "stream",
     "text": [
      "25.8852\n"
     ]
    }
   ],
   "source": [
    "## Sales for Marengo model at specified value \n",
    "Sales= -13.4476 -0.1867 * 41 +0.0413 * 15 + 0.2208 * 210\n",
    "print(Sales)"
   ]
  },
  {
   "cell_type": "markdown",
   "id": "f86f07df",
   "metadata": {},
   "source": [
    "### Therefore the Marengo model is expected to sell around 25 units at specified price"
   ]
  },
  {
   "cell_type": "code",
   "execution_count": 85,
   "id": "42905e8a",
   "metadata": {},
   "outputs": [
    {
     "name": "stdout",
     "output_type": "stream",
     "text": [
      "27.85184\n"
     ]
    }
   ],
   "source": [
    "## Sales of Marengo model after increasing the input values by 5%\n",
    "Sales= -13.4476 -0.1867 * (41*1.05) +0.0413 * (15*1.05) + 0.2208 * (210*1.05)\n",
    "print(Sales)"
   ]
  },
  {
   "cell_type": "markdown",
   "id": "0e544fd2",
   "metadata": {},
   "source": [
    "### After increasing the values by 5 % the sales is expected to raise to 27 units"
   ]
  },
  {
   "cell_type": "code",
   "execution_count": 86,
   "id": "2fe34295",
   "metadata": {},
   "outputs": [
    {
     "name": "stdout",
     "output_type": "stream",
     "text": [
      "23.91856\n"
     ]
    }
   ],
   "source": [
    "## Sales of Marengo model after decreasing the input values by 5%\n",
    "Sales= -13.4476 -0.1867 * (41*0.95) +0.0413 * (15*0.95) + 0.2208 * (210*0.95)\n",
    "print(Sales)"
   ]
  },
  {
   "cell_type": "markdown",
   "id": "4c168334",
   "metadata": {},
   "source": [
    "### After decreasing the values by 5 % the sales is expected to reduce to 23 units"
   ]
  },
  {
   "cell_type": "markdown",
   "id": "4df6827a",
   "metadata": {},
   "source": [
    "## Diagnostic Test for assumptions of Marengo Model "
   ]
  },
  {
   "cell_type": "markdown",
   "id": "19c611f0",
   "metadata": {},
   "source": [
    "## Test for Homoscadasticity"
   ]
  },
  {
   "cell_type": "code",
   "execution_count": 87,
   "id": "8d57b6a8",
   "metadata": {},
   "outputs": [],
   "source": [
    "# Test of Heteroscedasticiy\n",
    "# Breushpagan test\n",
    "# H0: Homoschedastic\n",
    "# H1: Heteroshcedastic"
   ]
  },
  {
   "cell_type": "code",
   "execution_count": 88,
   "id": "8453e509",
   "metadata": {},
   "outputs": [
    {
     "data": {
      "text/plain": [
       "0    -2.132360\n",
       "1    -1.115314\n",
       "2    -0.288965\n",
       "3    -1.606673\n",
       "4    -3.645440\n",
       "5    -2.063662\n",
       "6    -0.623532\n",
       "7     0.337771\n",
       "8     3.347996\n",
       "9     0.290912\n",
       "10    3.343583\n",
       "11    3.027340\n",
       "12    1.866532\n",
       "13    1.602946\n",
       "14    0.948174\n",
       "15   -0.007617\n",
       "16   -0.335425\n",
       "17   -3.955807\n",
       "18    0.787075\n",
       "19    1.796128\n",
       "20   -2.781190\n",
       "21    1.515208\n",
       "22   -2.073765\n",
       "23    0.850625\n",
       "24    3.874909\n",
       "25   -1.185174\n",
       "26   -3.148983\n",
       "27    1.481421\n",
       "28   -2.974075\n",
       "29    0.333150\n",
       "30    2.534212\n",
       "dtype: float64"
      ]
     },
     "execution_count": 88,
     "metadata": {},
     "output_type": "execute_result"
    }
   ],
   "source": [
    "modelM.resid"
   ]
  },
  {
   "cell_type": "code",
   "execution_count": 89,
   "id": "3a083cc6",
   "metadata": {
    "scrolled": true
   },
   "outputs": [
    {
     "data": {
      "text/plain": [
       "(7.394947338592965,\n",
       " 0.060320039874715715,\n",
       " 2.8195033920068173,\n",
       " 0.05783341845756493)"
      ]
     },
     "execution_count": 89,
     "metadata": {},
     "output_type": "execute_result"
    }
   ],
   "source": [
    "lm, pval, f_stat, f_pval = sms.het_breuschpagan(modelM.resid,x)\n",
    "lm, pval, f_stat, f_pval"
   ]
  },
  {
   "cell_type": "markdown",
   "id": "8a587c5b",
   "metadata": {},
   "source": [
    "### Result\n",
    "### Since both the LM p-value (0.603) and the F p-value (0.057) are higher than 0.05, there is no statistically significant evidence of heteroscedasticity in the residuals. This supports the assumption of homoscedasticity, meaning the variances of the errors are likely to be constant."
   ]
  },
  {
   "cell_type": "code",
   "execution_count": 91,
   "id": "35bbaab5",
   "metadata": {},
   "outputs": [
    {
     "data": {
      "image/png": "[encoded data removed]",
      "text/plain": [
       "<Figure size 640x480 with 1 Axes>"
      ]
     },
     "metadata": {},
     "output_type": "display_data"
    },
    {
     "ename": "AttributeError",
     "evalue": "'OLSResults' object has no attribute 'resids'",
     "output_type": "error",
     "traceback": [
      "\u001b[1;31m---------------------------------------------------------------------------\u001b[0m",
      "\u001b[1;31mAttributeError\u001b[0m                            Traceback (most recent call last)",
      "Cell \u001b[1;32mIn[91], line 11\u001b[0m\n\u001b[0;32m      8\u001b[0m plt\u001b[38;5;241m.\u001b[39mshow()\n\u001b[0;32m     10\u001b[0m \u001b[38;5;66;03m# Breusch-Pagan test\u001b[39;00m\n\u001b[1;32m---> 11\u001b[0m bp_test \u001b[38;5;241m=\u001b[39m het_breuschpagan(modelM\u001b[38;5;241m.\u001b[39mresids, model\u001b[38;5;241m.\u001b[39mmodel\u001b[38;5;241m.\u001b[39mexog)\n\u001b[0;32m     12\u001b[0m \u001b[38;5;28mprint\u001b[39m(\u001b[38;5;124mf\u001b[39m\u001b[38;5;124m'\u001b[39m\u001b[38;5;124mBreusch-Pagan test statistic: \u001b[39m\u001b[38;5;132;01m{\u001b[39;00mbp_test[\u001b[38;5;241m0\u001b[39m]\u001b[38;5;132;01m}\u001b[39;00m\u001b[38;5;124m, p-value: \u001b[39m\u001b[38;5;132;01m{\u001b[39;00mbp_test[\u001b[38;5;241m1\u001b[39m]\u001b[38;5;132;01m}\u001b[39;00m\u001b[38;5;124m'\u001b[39m)\n",
      "File \u001b[1;32m~\\anaconda3\\Lib\\site-packages\\statsmodels\\base\\wrapper.py:34\u001b[0m, in \u001b[0;36mResultsWrapper.__getattribute__\u001b[1;34m(self, attr)\u001b[0m\n\u001b[0;32m     31\u001b[0m \u001b[38;5;28;01mexcept\u001b[39;00m \u001b[38;5;167;01mAttributeError\u001b[39;00m:\n\u001b[0;32m     32\u001b[0m     \u001b[38;5;28;01mpass\u001b[39;00m\n\u001b[1;32m---> 34\u001b[0m obj \u001b[38;5;241m=\u001b[39m \u001b[38;5;28mgetattr\u001b[39m(results, attr)\n\u001b[0;32m     35\u001b[0m data \u001b[38;5;241m=\u001b[39m results\u001b[38;5;241m.\u001b[39mmodel\u001b[38;5;241m.\u001b[39mdata\n\u001b[0;32m     36\u001b[0m how \u001b[38;5;241m=\u001b[39m \u001b[38;5;28mself\u001b[39m\u001b[38;5;241m.\u001b[39m_wrap_attrs\u001b[38;5;241m.\u001b[39mget(attr)\n",
      "\u001b[1;31mAttributeError\u001b[0m: 'OLSResults' object has no attribute 'resids'"
     ]
    }
   ],
   "source": [
    "import seaborn as sns\n",
    "from statsmodels.stats.diagnostic import het_breuschpagan\n",
    "\n",
    "# Residuals vs. fitted values plot\n",
    "fitted_values = modelM.fittedvalues\n",
    "sns.residplot(x=fitted_values, y=modelM.resid, lowess=True, line_kws={'color': 'green'})\n",
    "plt.title('Residuals vs Fitted Values for the Marengo model')\n",
    "plt.show()\n",
    "\n",
    "# Breusch-Pagan test\n",
    "bp_test = het_breuschpagan(modelM.resids, model.model.exog)\n",
    "print(f'Breusch-Pagan test statistic: {bp_test[0]}, p-value: {bp_test[1]}')"
   ]
  },
  {
   "cell_type": "markdown",
   "id": "943cb055",
   "metadata": {},
   "source": [
    "## Test for Normality"
   ]
  },
  {
   "cell_type": "code",
   "execution_count": 92,
   "id": "f4ecac6d",
   "metadata": {},
   "outputs": [
    {
     "data": {
      "image/png": "[encoded data removed]",
      "text/plain": [
       "<Figure size 600x250 with 1 Axes>"
      ]
     },
     "metadata": {},
     "output_type": "display_data"
    }
   ],
   "source": [
    "#Normality\n",
    "import scipy as sp\n",
    "fig, ax = plt.subplots(figsize=(6,2.5))\n",
    "sp.stats.probplot(modelM.resid, plot=ax, fit=True);"
   ]
  },
  {
   "cell_type": "code",
   "execution_count": 93,
   "id": "c8d2d9f2",
   "metadata": {
    "scrolled": false
   },
   "outputs": [
    {
     "name": "stderr",
     "output_type": "stream",
     "text": [
      "C:\\Users\\user\\AppData\\Local\\Temp\\ipykernel_11368\\3730480496.py:1: UserWarning: \n",
      "\n",
      "`distplot` is a deprecated function and will be removed in seaborn v0.14.0.\n",
      "\n",
      "Please adapt your code to use either `displot` (a figure-level function with\n",
      "similar flexibility) or `histplot` (an axes-level function for histograms).\n",
      "\n",
      "For a guide to updating your code to use the new functions, please see\n",
      "https://gist.github.com/mwaskom/de44147ed2974457ad6372750bbe5751\n",
      "\n",
      "  sns.distplot(modelM.resid, hist=True, kde=True);\n"
     ]
    },
    {
     "data": {
      "image/png": "[encoded data removed]",
      "text/plain": [
       "<Figure size 640x480 with 1 Axes>"
      ]
     },
     "metadata": {},
     "output_type": "display_data"
    }
   ],
   "source": [
    "sns.distplot(modelM.resid, hist=True, kde=True);"
   ]
  },
  {
   "cell_type": "markdown",
   "id": "ae56a3a2",
   "metadata": {},
   "source": [
    "###  The above plot depicts almost bell shaped curve indicating that the values are normally distributed"
   ]
  },
  {
   "cell_type": "code",
   "execution_count": 94,
   "id": "bc9a3705",
   "metadata": {
    "scrolled": true
   },
   "outputs": [
    {
     "name": "stdout",
     "output_type": "stream",
     "text": [
      "Shapiro-Wilk Test: Statistic = 0.9717198014259338, p-value = 0.5675449371337891\n",
      "Kolmogorov-Smirnov Test: Statistic = 0.08522896783756789, p-value = 0.963678003683098\n",
      "Anderson-Darling Test: Statistic = 0.22843428804130994\n",
      "Critical values: [0.522 0.595 0.713 0.832 0.99 ]\n",
      "Significance levels: [15.  10.   5.   2.5  1. ]\n"
     ]
    }
   ],
   "source": [
    "# Shapiro-Wilk Test\n",
    "shapiro_stat, shapiro_p = shapiro(modelM.resid)\n",
    "print(f\"Shapiro-Wilk Test: Statistic = {shapiro_stat}, p-value = {shapiro_p}\")\n",
    "\n",
    "# Kolmogorov-Smirnov Test\n",
    "# (We assume residuals are tested against a normal distribution with mean 0 and standard deviation 1)\n",
    "ks_stat, ks_p = kstest(modelM.resid, 'norm', args=(modelM.resid.mean(), modelM.resid.std()))\n",
    "print(f\"Kolmogorov-Smirnov Test: Statistic = {ks_stat}, p-value = {ks_p}\")\n",
    "\n",
    "# Anderson-Darling Test\n",
    "ad_result = anderson(modelM.resid, dist='norm')\n",
    "print(f\"Anderson-Darling Test: Statistic = {ad_result.statistic}\")\n",
    "print(\"Critical values:\", ad_result.critical_values)\n",
    "print(\"Significance levels:\", ad_result.significance_level)"
   ]
  },
  {
   "cell_type": "markdown",
   "id": "49d30a10",
   "metadata": {},
   "source": [
    "### As the p-value of Shapiro-Wilk Test and Kolmogorov-Smirnov Test is > 0.05 hence we fail to reject the null hypothesis therefore the data is normally distributed\n",
    "### Also the t-statistics of the Anderson-Darling Test is less that the critical value at 5 % level of significance i.e. 0.713 hence it proves the normality "
   ]
  },
  {
   "cell_type": "markdown",
   "id": "e7fc3dd3",
   "metadata": {},
   "source": [
    "## Test for Multicolleniarity "
   ]
  },
  {
   "cell_type": "code",
   "execution_count": 95,
   "id": "8bfdd9a4",
   "metadata": {},
   "outputs": [
    {
     "data": {
      "text/plain": [
       "array([[  1. ,  42.5,   9.3, 199.4],\n",
       "       [  1. ,  36. ,   9.7, 235.2],\n",
       "       [  1. ,  54.7,  16.6, 240.8],\n",
       "       [  1. ,  42.7,  11.7, 232.5],\n",
       "       [  1. ,  44.9,  13.7, 188.8],\n",
       "       [  1. ,  35.5,   9.6, 184.2],\n",
       "       [  1. ,  51.3,  13.7, 207.7],\n",
       "       [  1. ,  30.4,  12.6, 249.5],\n",
       "       [  1. ,  38.4,  16.2, 175.8],\n",
       "       [  1. ,  32.2,   9.6, 245.6],\n",
       "       [  1. ,  59.4,  11.3, 223.3],\n",
       "       [  1. ,  50.8,  13.6, 240. ],\n",
       "       [  1. ,  57.5,  13.5, 250. ],\n",
       "       [  1. ,  44.6,  11.1, 247.4],\n",
       "       [  1. ,  34.6,  14.1, 192. ],\n",
       "       [  1. ,  56.4,  13.4, 201.2],\n",
       "       [  1. ,  41.4,  12.8, 193.3],\n",
       "       [  1. ,  53.7,  16. , 202. ],\n",
       "       [  1. ,  44.8,  12.7, 208.9],\n",
       "       [  1. ,  32.4,  13.6, 176.9],\n",
       "       [  1. ,  40.9,  11.6, 218.2],\n",
       "       [  1. ,  44.1,  11.4, 190. ],\n",
       "       [  1. ,  46.6,  16.3, 176.8],\n",
       "       [  1. ,  31.4,  14.5, 178.9],\n",
       "       [  1. ,  54.7,  14.3, 192.3],\n",
       "       [  1. ,  37.9,   9.4, 184.1],\n",
       "       [  1. ,  52.9,  15.3, 240.3],\n",
       "       [  1. ,  42.7,  15. , 192.1],\n",
       "       [  1. ,  54.9,  13.5, 199. ],\n",
       "       [  1. ,  44. ,  11.8, 181.1],\n",
       "       [  1. ,  42.2,   9.3, 181.2]])"
      ]
     },
     "execution_count": 95,
     "metadata": {},
     "output_type": "execute_result"
    }
   ],
   "source": [
    "x.values"
   ]
  },
  {
   "cell_type": "code",
   "execution_count": 96,
   "id": "caa16402",
   "metadata": {},
   "outputs": [
    {
     "data": {
      "text/plain": [
       "4"
      ]
     },
     "execution_count": 96,
     "metadata": {},
     "output_type": "execute_result"
    }
   ],
   "source": [
    "x.shape[1]"
   ]
  },
  {
   "cell_type": "code",
   "execution_count": 97,
   "id": "007722ad",
   "metadata": {},
   "outputs": [
    {
     "data": {
      "text/plain": [
       "Index(['const', 'Price\\n(in lakh rupees)', 'Mileage\\n(Km/ltr)',\n",
       "       'Top speed (Km/hr)'],\n",
       "      dtype='object')"
      ]
     },
     "execution_count": 97,
     "metadata": {},
     "output_type": "execute_result"
    }
   ],
   "source": [
    "x.columns"
   ]
  },
  {
   "cell_type": "code",
   "execution_count": 98,
   "id": "f814a6b1",
   "metadata": {},
   "outputs": [
    {
     "data": {
      "text/html": [
       "<div>\n",
       "<style scoped>\n",
       "    .dataframe tbody tr th:only-of-type {\n",
       "        vertical-align: middle;\n",
       "    }\n",
       "\n",
       "    .dataframe tbody tr th {\n",
       "        vertical-align: top;\n",
       "    }\n",
       "\n",
       "    .dataframe thead th {\n",
       "        text-align: right;\n",
       "    }\n",
       "</style>\n",
       "<table border=\"1\" class=\"dataframe\">\n",
       "  <thead>\n",
       "    <tr style=\"text-align: right;\">\n",
       "      <th></th>\n",
       "      <th>vif_factor</th>\n",
       "      <th>features</th>\n",
       "    </tr>\n",
       "  </thead>\n",
       "  <tbody>\n",
       "    <tr>\n",
       "      <th>0</th>\n",
       "      <td>115.565519</td>\n",
       "      <td>const</td>\n",
       "    </tr>\n",
       "    <tr>\n",
       "      <th>1</th>\n",
       "      <td>1.232176</td>\n",
       "      <td>Price\\n(in lakh rupees)</td>\n",
       "    </tr>\n",
       "    <tr>\n",
       "      <th>2</th>\n",
       "      <td>1.184425</td>\n",
       "      <td>Mileage\\n(Km/ltr)</td>\n",
       "    </tr>\n",
       "    <tr>\n",
       "      <th>3</th>\n",
       "      <td>1.090848</td>\n",
       "      <td>Top speed (Km/hr)</td>\n",
       "    </tr>\n",
       "  </tbody>\n",
       "</table>\n",
       "</div>"
      ],
      "text/plain": [
       "   vif_factor                 features\n",
       "0  115.565519                    const\n",
       "1    1.232176  Price\\n(in lakh rupees)\n",
       "2    1.184425        Mileage\\n(Km/ltr)\n",
       "3    1.090848        Top speed (Km/hr)"
      ]
     },
     "execution_count": 98,
     "metadata": {},
     "output_type": "execute_result"
    }
   ],
   "source": [
    "vif = pd.DataFrame()\n",
    "vif['vif_factor'] = [variance_inflation_factor(x.values,i) for i in range(x.shape[1])]\n",
    "vif['features'] = x.columns\n",
    "vif"
   ]
  },
  {
   "cell_type": "markdown",
   "id": "64707d12",
   "metadata": {},
   "source": [
    "### Since the VIF factor for all the independent variables in < 5 hence they are free from multicollniarity "
   ]
  },
  {
   "cell_type": "markdown",
   "id": "047f8a17",
   "metadata": {},
   "source": [
    "## Test for Autocorrelation"
   ]
  },
  {
   "cell_type": "code",
   "execution_count": 99,
   "id": "1bf85101",
   "metadata": {
    "scrolled": true
   },
   "outputs": [
    {
     "name": "stdout",
     "output_type": "stream",
     "text": [
      "Durbin-Watson statistic: 1.6492894303731782\n"
     ]
    }
   ],
   "source": [
    "from statsmodels.stats.stattools import durbin_watson\n",
    "\n",
    "# Durbin-Watson test for autocorrelation\n",
    "dw_stat = durbin_watson(modelM.resid)\n",
    "print(f'Durbin-Watson statistic: {dw_stat}')"
   ]
  },
  {
   "cell_type": "markdown",
   "id": "7b1543c5",
   "metadata": {},
   "source": [
    "### The Durbin-Watson statistic is 1.649 suggests that there is slightly positive to no autocorrelation in the residuals"
   ]
  },
  {
   "cell_type": "markdown",
   "id": "6108d9b6",
   "metadata": {},
   "source": [
    "## Test for specification Bias"
   ]
  },
  {
   "cell_type": "code",
   "execution_count": 100,
   "id": "8c4418ee",
   "metadata": {},
   "outputs": [
    {
     "name": "stdout",
     "output_type": "stream",
     "text": [
      "Ramsey RESET test statistic: 0.3919691193068531, p-value: 0.6798051582842308\n"
     ]
    }
   ],
   "source": [
    "from statsmodels.stats.outliers_influence import reset_ramsey\n",
    "\n",
    "# Ramsey RESET test\n",
    "reset_test = reset_ramsey(modelM, degree=3)\n",
    "print(f'Ramsey RESET test statistic: {reset_test.fvalue}, p-value: {reset_test.pvalue}')"
   ]
  },
  {
   "cell_type": "markdown",
   "id": "267617b6",
   "metadata": {},
   "source": [
    "### Since the p-value is higher than 0.05, it suggests that the model is correctly specified, and there are no serious specification errors."
   ]
  },
  {
   "cell_type": "markdown",
   "id": "8976a5ec",
   "metadata": {},
   "source": [
    "## Hat Diagonal test"
   ]
  },
  {
   "cell_type": "code",
   "execution_count": 101,
   "id": "bc8e86de",
   "metadata": {
    "scrolled": true
   },
   "outputs": [
    {
     "name": "stdout",
     "output_type": "stream",
     "text": [
      "High leverage points (outliers in X): [7]\n"
     ]
    }
   ],
   "source": [
    "# Get the influence measures (hat diagonal)\n",
    "influence = modelM.get_influence()\n",
    "hat_values = influence.hat_matrix_diag\n",
    "\n",
    "# Set a threshold for identifying high-leverage points (rule of thumb: 2*(k+1)/n, where k = number of predictors)\n",
    "n = len(Mmodel)\n",
    "k = x.shape[1] - 1  # number of predictors excluding the intercept\n",
    "leverage_threshold = 2 * (k + 1) / n\n",
    "\n",
    "# Identify high-leverage points\n",
    "high_leverage_points = np.where(hat_values > leverage_threshold)[0]\n",
    "\n",
    "print(f\"High leverage points (outliers in X): {high_leverage_points}\")"
   ]
  },
  {
   "cell_type": "markdown",
   "id": "38b17db3",
   "metadata": {},
   "source": [
    "### The output indicates that observation 7 is identified as a high leverage point in the dataset, this point may have an extreme value in one or more predictor variables compared to the other observations."
   ]
  },
  {
   "cell_type": "code",
   "execution_count": 103,
   "id": "c0cad03e",
   "metadata": {
    "scrolled": false
   },
   "outputs": [
    {
     "data": {
      "text/html": [
       "<div>\n",
       "<style scoped>\n",
       "    .dataframe tbody tr th:only-of-type {\n",
       "        vertical-align: middle;\n",
       "    }\n",
       "\n",
       "    .dataframe tbody tr th {\n",
       "        vertical-align: top;\n",
       "    }\n",
       "\n",
       "    .dataframe thead th {\n",
       "        text-align: right;\n",
       "    }\n",
       "</style>\n",
       "<table border=\"1\" class=\"dataframe\">\n",
       "  <thead>\n",
       "    <tr style=\"text-align: right;\">\n",
       "      <th></th>\n",
       "      <th>Cars</th>\n",
       "      <th>Sales \\n(in 1,000 units)</th>\n",
       "      <th>Price\\n(in lakh rupees)</th>\n",
       "      <th>Mileage\\n(Km/ltr)</th>\n",
       "      <th>Top speed (Km/hr)</th>\n",
       "    </tr>\n",
       "  </thead>\n",
       "  <tbody>\n",
       "    <tr>\n",
       "      <th>0</th>\n",
       "      <td>Marengo 1</td>\n",
       "      <td>20.896</td>\n",
       "      <td>42.5</td>\n",
       "      <td>9.3</td>\n",
       "      <td>199.4</td>\n",
       "    </tr>\n",
       "    <tr>\n",
       "      <th>1</th>\n",
       "      <td>Marengo 2</td>\n",
       "      <td>31.048</td>\n",
       "      <td>36.0</td>\n",
       "      <td>9.7</td>\n",
       "      <td>235.2</td>\n",
       "    </tr>\n",
       "    <tr>\n",
       "      <th>2</th>\n",
       "      <td>Marengo 3</td>\n",
       "      <td>29.904</td>\n",
       "      <td>54.7</td>\n",
       "      <td>16.6</td>\n",
       "      <td>240.8</td>\n",
       "    </tr>\n",
       "    <tr>\n",
       "      <th>3</th>\n",
       "      <td>Marengo 4</td>\n",
       "      <td>28.792</td>\n",
       "      <td>42.7</td>\n",
       "      <td>11.7</td>\n",
       "      <td>232.5</td>\n",
       "    </tr>\n",
       "    <tr>\n",
       "      <th>4</th>\n",
       "      <td>Marengo 5</td>\n",
       "      <td>16.776</td>\n",
       "      <td>44.9</td>\n",
       "      <td>13.7</td>\n",
       "      <td>188.8</td>\n",
       "    </tr>\n",
       "    <tr>\n",
       "      <th>5</th>\n",
       "      <td>Marengo 6</td>\n",
       "      <td>18.928</td>\n",
       "      <td>35.5</td>\n",
       "      <td>9.6</td>\n",
       "      <td>184.2</td>\n",
       "    </tr>\n",
       "    <tr>\n",
       "      <th>6</th>\n",
       "      <td>Marengo 7</td>\n",
       "      <td>22.776</td>\n",
       "      <td>51.3</td>\n",
       "      <td>13.7</td>\n",
       "      <td>207.7</td>\n",
       "    </tr>\n",
       "    <tr>\n",
       "      <th>7</th>\n",
       "      <td>Marengo 8</td>\n",
       "      <td>36.824</td>\n",
       "      <td>30.4</td>\n",
       "      <td>12.6</td>\n",
       "      <td>249.5</td>\n",
       "    </tr>\n",
       "    <tr>\n",
       "      <th>8</th>\n",
       "      <td>Marengo 9</td>\n",
       "      <td>22.216</td>\n",
       "      <td>38.4</td>\n",
       "      <td>16.2</td>\n",
       "      <td>175.8</td>\n",
       "    </tr>\n",
       "    <tr>\n",
       "      <th>9</th>\n",
       "      <td>Marengo 10</td>\n",
       "      <td>35.456</td>\n",
       "      <td>32.2</td>\n",
       "      <td>9.6</td>\n",
       "      <td>245.6</td>\n",
       "    </tr>\n",
       "    <tr>\n",
       "      <th>10</th>\n",
       "      <td>Marengo 11</td>\n",
       "      <td>28.576</td>\n",
       "      <td>59.4</td>\n",
       "      <td>11.3</td>\n",
       "      <td>223.3</td>\n",
       "    </tr>\n",
       "    <tr>\n",
       "      <th>11</th>\n",
       "      <td>Marengo 12</td>\n",
       "      <td>33.648</td>\n",
       "      <td>50.8</td>\n",
       "      <td>13.6</td>\n",
       "      <td>240.0</td>\n",
       "    </tr>\n",
       "    <tr>\n",
       "      <th>12</th>\n",
       "      <td>Marengo 13</td>\n",
       "      <td>33.440</td>\n",
       "      <td>57.5</td>\n",
       "      <td>13.5</td>\n",
       "      <td>250.0</td>\n",
       "    </tr>\n",
       "    <tr>\n",
       "      <th>13</th>\n",
       "      <td>Marengo 14</td>\n",
       "      <td>34.912</td>\n",
       "      <td>44.6</td>\n",
       "      <td>11.1</td>\n",
       "      <td>247.4</td>\n",
       "    </tr>\n",
       "    <tr>\n",
       "      <th>14</th>\n",
       "      <td>Marengo 15</td>\n",
       "      <td>24.016</td>\n",
       "      <td>34.6</td>\n",
       "      <td>14.1</td>\n",
       "      <td>192.0</td>\n",
       "    </tr>\n",
       "    <tr>\n",
       "      <th>15</th>\n",
       "      <td>Marengo 16</td>\n",
       "      <td>20.992</td>\n",
       "      <td>56.4</td>\n",
       "      <td>13.4</td>\n",
       "      <td>201.2</td>\n",
       "    </tr>\n",
       "    <tr>\n",
       "      <th>16</th>\n",
       "      <td>Marengo 17</td>\n",
       "      <td>21.696</td>\n",
       "      <td>41.4</td>\n",
       "      <td>12.8</td>\n",
       "      <td>193.3</td>\n",
       "    </tr>\n",
       "    <tr>\n",
       "      <th>17</th>\n",
       "      <td>Marengo 18</td>\n",
       "      <td>17.832</td>\n",
       "      <td>53.7</td>\n",
       "      <td>16.0</td>\n",
       "      <td>202.0</td>\n",
       "    </tr>\n",
       "    <tr>\n",
       "      <th>18</th>\n",
       "      <td>Marengo 19</td>\n",
       "      <td>25.624</td>\n",
       "      <td>44.8</td>\n",
       "      <td>12.7</td>\n",
       "      <td>208.9</td>\n",
       "    </tr>\n",
       "    <tr>\n",
       "      <th>19</th>\n",
       "      <td>Marengo 20</td>\n",
       "      <td>21.920</td>\n",
       "      <td>32.4</td>\n",
       "      <td>13.6</td>\n",
       "      <td>176.9</td>\n",
       "    </tr>\n",
       "    <tr>\n",
       "      <th>20</th>\n",
       "      <td>Marengo 21</td>\n",
       "      <td>24.792</td>\n",
       "      <td>40.9</td>\n",
       "      <td>11.6</td>\n",
       "      <td>218.2</td>\n",
       "    </tr>\n",
       "    <tr>\n",
       "      <th>21</th>\n",
       "      <td>Marengo 22</td>\n",
       "      <td>22.256</td>\n",
       "      <td>44.1</td>\n",
       "      <td>11.4</td>\n",
       "      <td>190.0</td>\n",
       "    </tr>\n",
       "    <tr>\n",
       "      <th>22</th>\n",
       "      <td>Marengo 23</td>\n",
       "      <td>15.488</td>\n",
       "      <td>46.6</td>\n",
       "      <td>16.3</td>\n",
       "      <td>176.8</td>\n",
       "    </tr>\n",
       "    <tr>\n",
       "      <th>23</th>\n",
       "      <td>Marengo 24</td>\n",
       "      <td>21.640</td>\n",
       "      <td>31.4</td>\n",
       "      <td>14.5</td>\n",
       "      <td>178.9</td>\n",
       "    </tr>\n",
       "    <tr>\n",
       "      <th>24</th>\n",
       "      <td>Marengo 25</td>\n",
       "      <td>23.264</td>\n",
       "      <td>54.7</td>\n",
       "      <td>14.3</td>\n",
       "      <td>192.3</td>\n",
       "    </tr>\n",
       "    <tr>\n",
       "      <th>25</th>\n",
       "      <td>Marengo 26</td>\n",
       "      <td>19.328</td>\n",
       "      <td>37.9</td>\n",
       "      <td>9.4</td>\n",
       "      <td>184.1</td>\n",
       "    </tr>\n",
       "    <tr>\n",
       "      <th>26</th>\n",
       "      <td>Marengo 27</td>\n",
       "      <td>27.216</td>\n",
       "      <td>52.9</td>\n",
       "      <td>15.3</td>\n",
       "      <td>240.3</td>\n",
       "    </tr>\n",
       "    <tr>\n",
       "      <th>27</th>\n",
       "      <td>Marengo 28</td>\n",
       "      <td>23.096</td>\n",
       "      <td>42.7</td>\n",
       "      <td>15.0</td>\n",
       "      <td>192.1</td>\n",
       "    </tr>\n",
       "    <tr>\n",
       "      <th>28</th>\n",
       "      <td>Marengo 29</td>\n",
       "      <td>17.824</td>\n",
       "      <td>54.9</td>\n",
       "      <td>13.5</td>\n",
       "      <td>199.0</td>\n",
       "    </tr>\n",
       "    <tr>\n",
       "      <th>29</th>\n",
       "      <td>Marengo 30</td>\n",
       "      <td>19.144</td>\n",
       "      <td>44.0</td>\n",
       "      <td>11.8</td>\n",
       "      <td>181.1</td>\n",
       "    </tr>\n",
       "    <tr>\n",
       "      <th>30</th>\n",
       "      <td>Marengo 31</td>\n",
       "      <td>21.600</td>\n",
       "      <td>42.2</td>\n",
       "      <td>9.3</td>\n",
       "      <td>181.2</td>\n",
       "    </tr>\n",
       "  </tbody>\n",
       "</table>\n",
       "</div>"
      ],
      "text/plain": [
       "          Cars  Sales \\n(in 1,000 units)  Price\\n(in lakh rupees)  \\\n",
       "0    Marengo 1                    20.896                     42.5   \n",
       "1    Marengo 2                    31.048                     36.0   \n",
       "2    Marengo 3                    29.904                     54.7   \n",
       "3    Marengo 4                    28.792                     42.7   \n",
       "4    Marengo 5                    16.776                     44.9   \n",
       "5    Marengo 6                    18.928                     35.5   \n",
       "6    Marengo 7                    22.776                     51.3   \n",
       "7    Marengo 8                    36.824                     30.4   \n",
       "8    Marengo 9                    22.216                     38.4   \n",
       "9   Marengo 10                    35.456                     32.2   \n",
       "10  Marengo 11                    28.576                     59.4   \n",
       "11  Marengo 12                    33.648                     50.8   \n",
       "12  Marengo 13                    33.440                     57.5   \n",
       "13  Marengo 14                    34.912                     44.6   \n",
       "14  Marengo 15                    24.016                     34.6   \n",
       "15  Marengo 16                    20.992                     56.4   \n",
       "16  Marengo 17                    21.696                     41.4   \n",
       "17  Marengo 18                    17.832                     53.7   \n",
       "18  Marengo 19                    25.624                     44.8   \n",
       "19  Marengo 20                    21.920                     32.4   \n",
       "20  Marengo 21                    24.792                     40.9   \n",
       "21  Marengo 22                    22.256                     44.1   \n",
       "22  Marengo 23                    15.488                     46.6   \n",
       "23  Marengo 24                    21.640                     31.4   \n",
       "24  Marengo 25                    23.264                     54.7   \n",
       "25  Marengo 26                    19.328                     37.9   \n",
       "26  Marengo 27                    27.216                     52.9   \n",
       "27  Marengo 28                    23.096                     42.7   \n",
       "28  Marengo 29                    17.824                     54.9   \n",
       "29  Marengo 30                    19.144                     44.0   \n",
       "30  Marengo 31                    21.600                     42.2   \n",
       "\n",
       "    Mileage\\n(Km/ltr)  Top speed (Km/hr)  \n",
       "0                 9.3              199.4  \n",
       "1                 9.7              235.2  \n",
       "2                16.6              240.8  \n",
       "3                11.7              232.5  \n",
       "4                13.7              188.8  \n",
       "5                 9.6              184.2  \n",
       "6                13.7              207.7  \n",
       "7                12.6              249.5  \n",
       "8                16.2              175.8  \n",
       "9                 9.6              245.6  \n",
       "10               11.3              223.3  \n",
       "11               13.6              240.0  \n",
       "12               13.5              250.0  \n",
       "13               11.1              247.4  \n",
       "14               14.1              192.0  \n",
       "15               13.4              201.2  \n",
       "16               12.8              193.3  \n",
       "17               16.0              202.0  \n",
       "18               12.7              208.9  \n",
       "19               13.6              176.9  \n",
       "20               11.6              218.2  \n",
       "21               11.4              190.0  \n",
       "22               16.3              176.8  \n",
       "23               14.5              178.9  \n",
       "24               14.3              192.3  \n",
       "25                9.4              184.1  \n",
       "26               15.3              240.3  \n",
       "27               15.0              192.1  \n",
       "28               13.5              199.0  \n",
       "29               11.8              181.1  \n",
       "30                9.3              181.2  "
      ]
     },
     "execution_count": 103,
     "metadata": {},
     "output_type": "execute_result"
    }
   ],
   "source": [
    "Mmodel"
   ]
  },
  {
   "cell_type": "markdown",
   "id": "5c3ee7f7",
   "metadata": {},
   "source": [
    "### Marengo 8 is having the least price and a high top speed compared to other models also it is one of the highest selling models, hence it might have been identified as a high leverage point"
   ]
  },
  {
   "cell_type": "markdown",
   "id": "621458a1",
   "metadata": {},
   "source": [
    "## Studentized Test"
   ]
  },
  {
   "cell_type": "code",
   "execution_count": 102,
   "id": "dc3d41a1",
   "metadata": {
    "scrolled": true
   },
   "outputs": [
    {
     "name": "stdout",
     "output_type": "stream",
     "text": [
      "Outliers in Y (studentized residuals): []\n"
     ]
    }
   ],
   "source": [
    "# Get the studentized residuals\n",
    "studentized_residuals = influence.resid_studentized_external\n",
    "\n",
    "# Set a threshold for identifying outliers in Y (commonly used threshold: |residual| > 3)\n",
    "student_residuals_threshold = 3\n",
    "\n",
    "# Identify outliers in the dependent variable\n",
    "outliers_in_y = np.where(np.abs(studentized_residuals) > student_residuals_threshold)[0]\n",
    "\n",
    "print(f\"Outliers in Y (studentized residuals): {outliers_in_y}\")"
   ]
  },
  {
   "cell_type": "markdown",
   "id": "2ccb3bcd",
   "metadata": {},
   "source": [
    "### The output indicates that there are no outliers in the response variable(Y)"
   ]
  },
  {
   "cell_type": "markdown",
   "id": "cb71f6cc",
   "metadata": {},
   "source": [
    "## Q-5) Based on the sales prediction, calculate the overall projected profit for the Rocinante36 and Marengo32 models, respectively?"
   ]
  },
  {
   "cell_type": "markdown",
   "id": "f6a15164",
   "metadata": {},
   "source": [
    "## Overall projected profit for the Rocinate36  model "
   ]
  },
  {
   "cell_type": "code",
   "execution_count": 104,
   "id": "481a1a30",
   "metadata": {},
   "outputs": [],
   "source": [
    "## Total Profit \n",
    "## Profit = (Price - Cost of Production)* projected Sales quantity \n",
    "Projected_Sales_quantity= 225\n",
    "Price = 7\n",
    "Cost_of_Production = 6"
   ]
  },
  {
   "cell_type": "code",
   "execution_count": 105,
   "id": "0ef5814c",
   "metadata": {},
   "outputs": [
    {
     "data": {
      "text/plain": [
       "225"
      ]
     },
     "execution_count": 105,
     "metadata": {},
     "output_type": "execute_result"
    }
   ],
   "source": [
    "Profit = (7-6)*225\n",
    "Profit"
   ]
  },
  {
   "cell_type": "markdown",
   "id": "08e1e63a",
   "metadata": {},
   "source": [
    "## Therefore overall projected profit that the Random motors can make by selling the Rocinate 36 model is 225 Lakh"
   ]
  },
  {
   "cell_type": "markdown",
   "id": "148b2681",
   "metadata": {},
   "source": [
    "## Overall projected profit for the Marengo32 Model "
   ]
  },
  {
   "cell_type": "code",
   "execution_count": 106,
   "id": "a848b65e",
   "metadata": {},
   "outputs": [],
   "source": [
    "## Total Profit \n",
    "## Profit = (Price - Cost of Production)* projected Sales quantity \n",
    "Sales_quantity= 25\n",
    "Price= 41\n",
    "Cost_of_Production = 33"
   ]
  },
  {
   "cell_type": "code",
   "execution_count": 107,
   "id": "9da9623d",
   "metadata": {},
   "outputs": [
    {
     "data": {
      "text/plain": [
       "200"
      ]
     },
     "execution_count": 107,
     "metadata": {},
     "output_type": "execute_result"
    }
   ],
   "source": [
    "Profit_1 = (41-33)* 25\n",
    "Profit_1"
   ]
  },
  {
   "cell_type": "markdown",
   "id": "2c866955",
   "metadata": {},
   "source": [
    "## Therefore the overall projected profit that the Random Motors can make by producing Marengo 32 model is 200 lakh"
   ]
  },
  {
   "cell_type": "markdown",
   "id": "cca7c854",
   "metadata": {},
   "source": [
    "## Q-6) Your company wishes to invest only in the model that can generate high overall profits. In which of the two models, Rocinante36 and Marengo32, should your company invest?"
   ]
  },
  {
   "cell_type": "markdown",
   "id": "6c956abd",
   "metadata": {},
   "source": [
    "### Therefore it is better to produce the Rocinate36 model as the overall projected profit is more for rocinate model compared to the Marengo model "
   ]
  },
  {
   "cell_type": "markdown",
   "id": "9ff6de68",
   "metadata": {},
   "source": [
    "## Q-7) You must have developed the regression equation for both the models, Rocinante36 and Marengo32. Suppose you increase the price of Rocinante36 and Marengo32 by ₹1 lakh each. Which of the two models will have to see a higher impact on sales numbers? Provide proper logic for your answer. (Note: You can assume that all the other specifications, such as mileage and top speed, are the same for both models.)"
   ]
  },
  {
   "cell_type": "markdown",
   "id": "c848dd29",
   "metadata": {},
   "source": [
    "## The regression equation for the Rocinate and Marengo model are:\n",
    "## Sales_R = 50.7231 - 0.7950* Price + 8.3063* Milage - 0.0186* Top speed\n",
    "## Sales_M = -13.4476 -0.1867 * Price +0.0413 *Milage + 0.2208 *Top speed"
   ]
  },
  {
   "cell_type": "markdown",
   "id": "7d1f2c56",
   "metadata": {},
   "source": [
    "### The original sales number of Rocinate and Marengo models"
   ]
  },
  {
   "cell_type": "code",
   "execution_count": 109,
   "id": "4bbcdd73",
   "metadata": {},
   "outputs": [
    {
     "data": {
      "text/plain": [
       "(225.2927, 25.8852)"
      ]
     },
     "execution_count": 109,
     "metadata": {},
     "output_type": "execute_result"
    }
   ],
   "source": [
    "Sales_R = 50.7231 - 0.7950 * 7 +8.3063 * 22  - 0.0186 * 140\n",
    "Sales_M = -13.4476 -0.1867 * 41 +0.0413 * 15 + 0.2208 * 210\n",
    "Sales_R, Sales_M"
   ]
  },
  {
   "cell_type": "markdown",
   "id": "07f570ba",
   "metadata": {},
   "source": [
    "### The changes in sales number by increasing the price by 1 lakh for both the models keeping milage and top speed the same"
   ]
  },
  {
   "cell_type": "code",
   "execution_count": 110,
   "id": "b0b51854",
   "metadata": {},
   "outputs": [
    {
     "data": {
      "text/plain": [
       "(224.4977, 25.6985)"
      ]
     },
     "execution_count": 110,
     "metadata": {},
     "output_type": "execute_result"
    }
   ],
   "source": [
    "Sales_R1 = 50.7231 - 0.7950 * 8 +8.3063 * 22  - 0.0186 * 140\n",
    "Sales_R2 = -13.4476 -0.1867 * 42 +0.0413 * 15 + 0.2208 * 210\n",
    "Sales_R1,Sales_R2"
   ]
  },
  {
   "cell_type": "markdown",
   "id": "ed4b6a3e",
   "metadata": {},
   "source": [
    "### Therefore the Rocinate36 model will have a larger impact on the sales number as compared to the Marengo32 model because majority of the buyers for Rocinate model belong to the middle class economy and are price concious and are budget oriented hence a small changes in the price can lead to reduction in the demand and inturn the sales number reduces"
   ]
  },
  {
   "cell_type": "markdown",
   "id": "ccbda87b",
   "metadata": {},
   "source": [
    "## Q-8) After developing the regression equation for both the models (Rocinante36 and Marengo32), if you analyse the p-values for the coefficients in the regression results, you will notice that some of the regression variables (top speed, mileage and price) are insignificant. Drop the insignificant regression variables and rebuild the regression model using only significant variables.Compare the adjusted R-squared value for both the new and the old regression models. Do you notice any change in the adjusted R-squared value? If yes, explain the reason for the change."
   ]
  },
  {
   "cell_type": "markdown",
   "id": "495b7f15",
   "metadata": {},
   "source": [
    "## For Rocinate 36 Model \n",
    "### The p value for the individual variable is >0.05 for top speed hence we accept the null hypothesis for top speed i.e it does not have significant impact on sales whereas the price and milage with p-value < 0.05 have a significant impact on the sales"
   ]
  },
  {
   "cell_type": "markdown",
   "id": "04bea84d",
   "metadata": {},
   "source": [
    "### Dropping the Top speed variable and rebuilding the Rocinate 36 Model "
   ]
  },
  {
   "cell_type": "code",
   "execution_count": 111,
   "id": "9dc488f9",
   "metadata": {},
   "outputs": [],
   "source": [
    "y = Rmodel['Sales \\n(in 1,000 units)']\n",
    "x = Rmodel[['Price\\n(in lakh rupees)','Mileage\\n(Km/ltr)']]"
   ]
  },
  {
   "cell_type": "code",
   "execution_count": 112,
   "id": "4393ae84",
   "metadata": {},
   "outputs": [],
   "source": [
    "x = sm.add_constant(x)"
   ]
  },
  {
   "cell_type": "code",
   "execution_count": 113,
   "id": "6e956b7e",
   "metadata": {
    "scrolled": false
   },
   "outputs": [
    {
     "data": {
      "text/html": [
       "<table class=\"simpletable\">\n",
       "<caption>OLS Regression Results</caption>\n",
       "<tr>\n",
       "  <th>Dep. Variable:</th>    <td>Sales \n",
       "(in 1,000 units)</td> <th>  R-squared:         </th> <td>   0.996</td>\n",
       "</tr>\n",
       "<tr>\n",
       "  <th>Model:</th>                      <td>OLS</td>           <th>  Adj. R-squared:    </th> <td>   0.995</td>\n",
       "</tr>\n",
       "<tr>\n",
       "  <th>Method:</th>                <td>Least Squares</td>      <th>  F-statistic:       </th> <td>   3718.</td>\n",
       "</tr>\n",
       "<tr>\n",
       "  <th>Date:</th>                <td>Sat, 26 Oct 2024</td>     <th>  Prob (F-statistic):</th> <td>1.29e-38</td>\n",
       "</tr>\n",
       "<tr>\n",
       "  <th>Time:</th>                    <td>19:15:36</td>         <th>  Log-Likelihood:    </th> <td> -77.017</td>\n",
       "</tr>\n",
       "<tr>\n",
       "  <th>No. Observations:</th>         <td>    35</td>          <th>  AIC:               </th> <td>   160.0</td>\n",
       "</tr>\n",
       "<tr>\n",
       "  <th>Df Residuals:</th>             <td>    32</td>          <th>  BIC:               </th> <td>   164.7</td>\n",
       "</tr>\n",
       "<tr>\n",
       "  <th>Df Model:</th>                 <td>     2</td>          <th>                     </th>     <td> </td>   \n",
       "</tr>\n",
       "<tr>\n",
       "  <th>Covariance Type:</th>         <td>nonrobust</td>        <th>                     </th>     <td> </td>   \n",
       "</tr>\n",
       "</table>\n",
       "<table class=\"simpletable\">\n",
       "<tr>\n",
       "             <td></td>               <th>coef</th>     <th>std err</th>      <th>t</th>      <th>P>|t|</th>  <th>[0.025</th>    <th>0.975]</th>  \n",
       "</tr>\n",
       "<tr>\n",
       "  <th>const</th>                  <td>   47.7800</td> <td>    2.113</td> <td>   22.608</td> <td> 0.000</td> <td>   43.475</td> <td>   52.085</td>\n",
       "</tr>\n",
       "<tr>\n",
       "  <th>Price\n",
       "(in lakh rupees)</th> <td>   -0.7829</td> <td>    0.251</td> <td>   -3.119</td> <td> 0.004</td> <td>   -1.294</td> <td>   -0.272</td>\n",
       "</tr>\n",
       "<tr>\n",
       "  <th>Mileage\n",
       "(Km/ltr)</th>       <td>    8.2945</td> <td>    0.097</td> <td>   85.257</td> <td> 0.000</td> <td>    8.096</td> <td>    8.493</td>\n",
       "</tr>\n",
       "</table>\n",
       "<table class=\"simpletable\">\n",
       "<tr>\n",
       "  <th>Omnibus:</th>       <td> 1.906</td> <th>  Durbin-Watson:     </th> <td>   1.656</td>\n",
       "</tr>\n",
       "<tr>\n",
       "  <th>Prob(Omnibus):</th> <td> 0.386</td> <th>  Jarque-Bera (JB):  </th> <td>   1.567</td>\n",
       "</tr>\n",
       "<tr>\n",
       "  <th>Skew:</th>          <td> 0.509</td> <th>  Prob(JB):          </th> <td>   0.457</td>\n",
       "</tr>\n",
       "<tr>\n",
       "  <th>Kurtosis:</th>      <td> 2.805</td> <th>  Cond. No.          </th> <td>    91.0</td>\n",
       "</tr>\n",
       "</table><br/><br/>Notes:<br/>[1] Standard Errors assume that the covariance matrix of the errors is correctly specified."
      ],
      "text/latex": [
       "\\begin{center}\n",
       "\\begin{tabular}{lclc}\n",
       "\\toprule\n",
       "\\textbf{Dep. Variable:}         & Sales \n",
       "(in 1,000 units) & \\textbf{  R-squared:         } &     0.996   \\\\\n",
       "\\textbf{Model:}                 &           OLS           & \\textbf{  Adj. R-squared:    } &     0.995   \\\\\n",
       "\\textbf{Method:}                &      Least Squares      & \\textbf{  F-statistic:       } &     3718.   \\\\\n",
       "\\textbf{Date:}                  &     Sat, 26 Oct 2024    & \\textbf{  Prob (F-statistic):} &  1.29e-38   \\\\\n",
       "\\textbf{Time:}                  &         19:15:36        & \\textbf{  Log-Likelihood:    } &   -77.017   \\\\\n",
       "\\textbf{No. Observations:}      &              35         & \\textbf{  AIC:               } &     160.0   \\\\\n",
       "\\textbf{Df Residuals:}          &              32         & \\textbf{  BIC:               } &     164.7   \\\\\n",
       "\\textbf{Df Model:}              &               2         & \\textbf{                     } &             \\\\\n",
       "\\textbf{Covariance Type:}       &        nonrobust        & \\textbf{                     } &             \\\\\n",
       "\\bottomrule\n",
       "\\end{tabular}\n",
       "\\begin{tabular}{lcccccc}\n",
       "                                & \\textbf{coef} & \\textbf{std err} & \\textbf{t} & \\textbf{P$> |$t$|$} & \\textbf{[0.025} & \\textbf{0.975]}  \\\\\n",
       "\\midrule\n",
       "\\textbf{const}                  &      47.7800  &        2.113     &    22.608  &         0.000        &       43.475    &       52.085     \\\\\n",
       "\\textbf{Price\n",
       "(in lakh rupees)} &      -0.7829  &        0.251     &    -3.119  &         0.004        &       -1.294    &       -0.272     \\\\\n",
       "\\textbf{Mileage\n",
       "(Km/ltr)}       &       8.2945  &        0.097     &    85.257  &         0.000        &        8.096    &        8.493     \\\\\n",
       "\\bottomrule\n",
       "\\end{tabular}\n",
       "\\begin{tabular}{lclc}\n",
       "\\textbf{Omnibus:}       &  1.906 & \\textbf{  Durbin-Watson:     } &    1.656  \\\\\n",
       "\\textbf{Prob(Omnibus):} &  0.386 & \\textbf{  Jarque-Bera (JB):  } &    1.567  \\\\\n",
       "\\textbf{Skew:}          &  0.509 & \\textbf{  Prob(JB):          } &    0.457  \\\\\n",
       "\\textbf{Kurtosis:}      &  2.805 & \\textbf{  Cond. No.          } &     91.0  \\\\\n",
       "\\bottomrule\n",
       "\\end{tabular}\n",
       "%\\caption{OLS Regression Results}\n",
       "\\end{center}\n",
       "\n",
       "Notes: \\newline\n",
       " [1] Standard Errors assume that the covariance matrix of the errors is correctly specified."
      ],
      "text/plain": [
       "<class 'statsmodels.iolib.summary.Summary'>\n",
       "\"\"\"\n",
       "                               OLS Regression Results                              \n",
       "===================================================================================\n",
       "Dep. Variable:     Sales \n",
       "(in 1,000 units)   R-squared:                       0.996\n",
       "Model:                                 OLS   Adj. R-squared:                  0.995\n",
       "Method:                      Least Squares   F-statistic:                     3718.\n",
       "Date:                     Sat, 26 Oct 2024   Prob (F-statistic):           1.29e-38\n",
       "Time:                             19:15:36   Log-Likelihood:                -77.017\n",
       "No. Observations:                       35   AIC:                             160.0\n",
       "Df Residuals:                           32   BIC:                             164.7\n",
       "Df Model:                                2                                         \n",
       "Covariance Type:                 nonrobust                                         \n",
       "==========================================================================================\n",
       "                             coef    std err          t      P>|t|      [0.025      0.975]\n",
       "------------------------------------------------------------------------------------------\n",
       "const                     47.7800      2.113     22.608      0.000      43.475      52.085\n",
       "Price\n",
       "(in lakh rupees)    -0.7829      0.251     -3.119      0.004      -1.294      -0.272\n",
       "Mileage\n",
       "(Km/ltr)           8.2945      0.097     85.257      0.000       8.096       8.493\n",
       "==============================================================================\n",
       "Omnibus:                        1.906   Durbin-Watson:                   1.656\n",
       "Prob(Omnibus):                  0.386   Jarque-Bera (JB):                1.567\n",
       "Skew:                           0.509   Prob(JB):                        0.457\n",
       "Kurtosis:                       2.805   Cond. No.                         91.0\n",
       "==============================================================================\n",
       "\n",
       "Notes:\n",
       "[1] Standard Errors assume that the covariance matrix of the errors is correctly specified.\n",
       "\"\"\""
      ]
     },
     "execution_count": 113,
     "metadata": {},
     "output_type": "execute_result"
    }
   ],
   "source": [
    "modelR = sm.OLS(y,x).fit()\n",
    "modelR.summary()"
   ]
  },
  {
   "cell_type": "markdown",
   "id": "451e4ea7",
   "metadata": {},
   "source": [
    "### The adjusted R square value for the previous model and new model is same i.e. 0.995 hence it indicates that the variable was not contributing for the explanatory power of the independent variables"
   ]
  },
  {
   "cell_type": "markdown",
   "id": "cf7ab3c5",
   "metadata": {},
   "source": [
    "## For Marengo 32 model "
   ]
  },
  {
   "cell_type": "markdown",
   "id": "a8360cd0",
   "metadata": {},
   "source": [
    "### The p value for the individual variable is >0.05 for milage hence we accept the null hypothesis for milage i.e it does not have significant impact on sales whereas the price and top speed with p-value < 0.05 have a significant impact on the sales"
   ]
  },
  {
   "cell_type": "markdown",
   "id": "2253c898",
   "metadata": {},
   "source": [
    "## Dropping the milage variable and rebuilding the Marengo 32 model"
   ]
  },
  {
   "cell_type": "code",
   "execution_count": 115,
   "id": "3061c8bd",
   "metadata": {},
   "outputs": [],
   "source": [
    "y = Mmodel['Sales \\n(in 1,000 units)']\n",
    "x = Mmodel[['Price\\n(in lakh rupees)','Top speed (Km/hr)']]"
   ]
  },
  {
   "cell_type": "code",
   "execution_count": 116,
   "id": "e22bfe0e",
   "metadata": {},
   "outputs": [
    {
     "data": {
      "text/html": [
       "<table class=\"simpletable\">\n",
       "<caption>OLS Regression Results</caption>\n",
       "<tr>\n",
       "  <th>Dep. Variable:</th>    <td>Sales \n",
       "(in 1,000 units)</td> <th>  R-squared:         </th> <td>   0.863</td>\n",
       "</tr>\n",
       "<tr>\n",
       "  <th>Model:</th>                      <td>OLS</td>           <th>  Adj. R-squared:    </th> <td>   0.853</td>\n",
       "</tr>\n",
       "<tr>\n",
       "  <th>Method:</th>                <td>Least Squares</td>      <th>  F-statistic:       </th> <td>   88.10</td>\n",
       "</tr>\n",
       "<tr>\n",
       "  <th>Date:</th>                <td>Sat, 26 Oct 2024</td>     <th>  Prob (F-statistic):</th> <td>8.30e-13</td>\n",
       "</tr>\n",
       "<tr>\n",
       "  <th>Time:</th>                    <td>19:26:54</td>         <th>  Log-Likelihood:    </th> <td> -67.779</td>\n",
       "</tr>\n",
       "<tr>\n",
       "  <th>No. Observations:</th>         <td>    31</td>          <th>  AIC:               </th> <td>   141.6</td>\n",
       "</tr>\n",
       "<tr>\n",
       "  <th>Df Residuals:</th>             <td>    28</td>          <th>  BIC:               </th> <td>   145.9</td>\n",
       "</tr>\n",
       "<tr>\n",
       "  <th>Df Model:</th>                 <td>     2</td>          <th>                     </th>     <td> </td>   \n",
       "</tr>\n",
       "<tr>\n",
       "  <th>Covariance Type:</th>         <td>nonrobust</td>        <th>                     </th>     <td> </td>   \n",
       "</tr>\n",
       "</table>\n",
       "<table class=\"simpletable\">\n",
       "<tr>\n",
       "             <td></td>               <th>coef</th>     <th>std err</th>      <th>t</th>      <th>P>|t|</th>  <th>[0.025</th>    <th>0.975]</th>  \n",
       "</tr>\n",
       "<tr>\n",
       "  <th>const</th>                  <td>  -12.9701</td> <td>    3.694</td> <td>   -3.511</td> <td> 0.002</td> <td>  -20.536</td> <td>   -5.404</td>\n",
       "</tr>\n",
       "<tr>\n",
       "  <th>Price\n",
       "(in lakh rupees)</th> <td>   -0.1825</td> <td>    0.050</td> <td>   -3.627</td> <td> 0.001</td> <td>   -0.286</td> <td>   -0.079</td>\n",
       "</tr>\n",
       "<tr>\n",
       "  <th>Top speed (Km/hr)</th>      <td>    0.2201</td> <td>    0.017</td> <td>   13.254</td> <td> 0.000</td> <td>    0.186</td> <td>    0.254</td>\n",
       "</tr>\n",
       "</table>\n",
       "<table class=\"simpletable\">\n",
       "<tr>\n",
       "  <th>Omnibus:</th>       <td> 2.394</td> <th>  Durbin-Watson:     </th> <td>   1.650</td>\n",
       "</tr>\n",
       "<tr>\n",
       "  <th>Prob(Omnibus):</th> <td> 0.302</td> <th>  Jarque-Bera (JB):  </th> <td>   1.258</td>\n",
       "</tr>\n",
       "<tr>\n",
       "  <th>Skew:</th>          <td>-0.059</td> <th>  Prob(JB):          </th> <td>   0.533</td>\n",
       "</tr>\n",
       "<tr>\n",
       "  <th>Kurtosis:</th>      <td> 2.020</td> <th>  Cond. No.          </th> <td>1.94e+03</td>\n",
       "</tr>\n",
       "</table><br/><br/>Notes:<br/>[1] Standard Errors assume that the covariance matrix of the errors is correctly specified.<br/>[2] The condition number is large, 1.94e+03. This might indicate that there are<br/>strong multicollinearity or other numerical problems."
      ],
      "text/latex": [
       "\\begin{center}\n",
       "\\begin{tabular}{lclc}\n",
       "\\toprule\n",
       "\\textbf{Dep. Variable:}         & Sales \n",
       "(in 1,000 units) & \\textbf{  R-squared:         } &     0.863   \\\\\n",
       "\\textbf{Model:}                 &           OLS           & \\textbf{  Adj. R-squared:    } &     0.853   \\\\\n",
       "\\textbf{Method:}                &      Least Squares      & \\textbf{  F-statistic:       } &     88.10   \\\\\n",
       "\\textbf{Date:}                  &     Sat, 26 Oct 2024    & \\textbf{  Prob (F-statistic):} &  8.30e-13   \\\\\n",
       "\\textbf{Time:}                  &         19:26:54        & \\textbf{  Log-Likelihood:    } &   -67.779   \\\\\n",
       "\\textbf{No. Observations:}      &              31         & \\textbf{  AIC:               } &     141.6   \\\\\n",
       "\\textbf{Df Residuals:}          &              28         & \\textbf{  BIC:               } &     145.9   \\\\\n",
       "\\textbf{Df Model:}              &               2         & \\textbf{                     } &             \\\\\n",
       "\\textbf{Covariance Type:}       &        nonrobust        & \\textbf{                     } &             \\\\\n",
       "\\bottomrule\n",
       "\\end{tabular}\n",
       "\\begin{tabular}{lcccccc}\n",
       "                                & \\textbf{coef} & \\textbf{std err} & \\textbf{t} & \\textbf{P$> |$t$|$} & \\textbf{[0.025} & \\textbf{0.975]}  \\\\\n",
       "\\midrule\n",
       "\\textbf{const}                  &     -12.9701  &        3.694     &    -3.511  &         0.002        &      -20.536    &       -5.404     \\\\\n",
       "\\textbf{Price\n",
       "(in lakh rupees)} &      -0.1825  &        0.050     &    -3.627  &         0.001        &       -0.286    &       -0.079     \\\\\n",
       "\\textbf{Top speed (Km/hr)}      &       0.2201  &        0.017     &    13.254  &         0.000        &        0.186    &        0.254     \\\\\n",
       "\\bottomrule\n",
       "\\end{tabular}\n",
       "\\begin{tabular}{lclc}\n",
       "\\textbf{Omnibus:}       &  2.394 & \\textbf{  Durbin-Watson:     } &    1.650  \\\\\n",
       "\\textbf{Prob(Omnibus):} &  0.302 & \\textbf{  Jarque-Bera (JB):  } &    1.258  \\\\\n",
       "\\textbf{Skew:}          & -0.059 & \\textbf{  Prob(JB):          } &    0.533  \\\\\n",
       "\\textbf{Kurtosis:}      &  2.020 & \\textbf{  Cond. No.          } & 1.94e+03  \\\\\n",
       "\\bottomrule\n",
       "\\end{tabular}\n",
       "%\\caption{OLS Regression Results}\n",
       "\\end{center}\n",
       "\n",
       "Notes: \\newline\n",
       " [1] Standard Errors assume that the covariance matrix of the errors is correctly specified. \\newline\n",
       " [2] The condition number is large, 1.94e+03. This might indicate that there are \\newline\n",
       " strong multicollinearity or other numerical problems."
      ],
      "text/plain": [
       "<class 'statsmodels.iolib.summary.Summary'>\n",
       "\"\"\"\n",
       "                               OLS Regression Results                              \n",
       "===================================================================================\n",
       "Dep. Variable:     Sales \n",
       "(in 1,000 units)   R-squared:                       0.863\n",
       "Model:                                 OLS   Adj. R-squared:                  0.853\n",
       "Method:                      Least Squares   F-statistic:                     88.10\n",
       "Date:                     Sat, 26 Oct 2024   Prob (F-statistic):           8.30e-13\n",
       "Time:                             19:26:54   Log-Likelihood:                -67.779\n",
       "No. Observations:                       31   AIC:                             141.6\n",
       "Df Residuals:                           28   BIC:                             145.9\n",
       "Df Model:                                2                                         \n",
       "Covariance Type:                 nonrobust                                         \n",
       "==========================================================================================\n",
       "                             coef    std err          t      P>|t|      [0.025      0.975]\n",
       "------------------------------------------------------------------------------------------\n",
       "const                    -12.9701      3.694     -3.511      0.002     -20.536      -5.404\n",
       "Price\n",
       "(in lakh rupees)    -0.1825      0.050     -3.627      0.001      -0.286      -0.079\n",
       "Top speed (Km/hr)          0.2201      0.017     13.254      0.000       0.186       0.254\n",
       "==============================================================================\n",
       "Omnibus:                        2.394   Durbin-Watson:                   1.650\n",
       "Prob(Omnibus):                  0.302   Jarque-Bera (JB):                1.258\n",
       "Skew:                          -0.059   Prob(JB):                        0.533\n",
       "Kurtosis:                       2.020   Cond. No.                     1.94e+03\n",
       "==============================================================================\n",
       "\n",
       "Notes:\n",
       "[1] Standard Errors assume that the covariance matrix of the errors is correctly specified.\n",
       "[2] The condition number is large, 1.94e+03. This might indicate that there are\n",
       "strong multicollinearity or other numerical problems.\n",
       "\"\"\""
      ]
     },
     "execution_count": 116,
     "metadata": {},
     "output_type": "execute_result"
    }
   ],
   "source": [
    "x = sm.add_constant(x)\n",
    "modelM = sm.OLS(y,x).fit()\n",
    "modelM.summary()"
   ]
  },
  {
   "cell_type": "markdown",
   "id": "6659ed9d",
   "metadata": {},
   "source": [
    "### The adjusted R square value for the previous model is 0.848 and new model is 0.853 indicating that explanatory power of the independent variables has increased after dropping the variable shows that it was not contributing significantly to the model and now the model fit has improved"
   ]
  },
  {
   "cell_type": "code",
   "execution_count": null,
   "id": "66150e4a",
   "metadata": {},
   "outputs": [],
   "source": []
  }
 ],
 "metadata": {
  "kernelspec": {
   "display_name": "Python 3 (ipykernel)",
   "language": "python",
   "name": "python3"
  },
  "language_info": {
   "codemirror_mode": {
    "name": "ipython",
    "version": 3
   },
   "file_extension": ".py",
   "mimetype": "text/x-python",
   "name": "python",
   "nbconvert_exporter": "python",
   "pygments_lexer": "ipython3",
   "version": "3.11.5"
  }
 },
 "nbformat": 4,
 "nbformat_minor": 5
}
